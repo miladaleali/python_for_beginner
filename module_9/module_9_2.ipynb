{
 "cells": [
  {
   "cell_type": "markdown",
   "id": "3a772896",
   "metadata": {},
   "source": [
    "Hello and welcome to this video on introduction to web frameworks in Python. In this video, we will learn about some of the most popular and useful web frameworks that can help us create web applications and APIs with Python. We will cover the following topics:\n",
    "\n",
    "- FastAPI for web development, which allows us to create fast and modern web APIs with Python based on standard type hints.\n",
    "- Django for web development, which allows us to create full-featured web applications with Python based on the MVC architecture.\n",
    "\n",
    "By the end of this video, you will have a basic understanding of these web frameworks and how to use them in your Python projects.\n",
    "\n",
    "## FastAPI for Web Development\n",
    "\n",
    "FastAPI is a modern, high-performance web framework for building APIs with Python based on standard type hints. It has the following key features:\n",
    "\n",
    "- Fast to run: It offers very high performance, on par with NodeJS and Go, thanks to Starlette and pydantic.\n",
    "- Fast to code: It allows for significant increases in development speed.\n",
    "- Reduced number of bugs: It reduces the possibility for human-induced errors.\n",
    "- Intuitive: It offers great editor support, with completion everywhere and less time debugging.\n",
    "- Straightforward: It's designed to be uncomplicated to use and learn, so you can spend less time reading documentation.\n",
    "\n",
    "To use FastAPI, we need to install it in our Python environment. We can use the pip command, which is a tool for managing Python packages. For example, to install FastAPI, we can write:\n",
    "\n"
   ]
  },
  {
   "cell_type": "code",
   "execution_count": null,
   "id": "7e9d0b53",
   "metadata": {
    "language": "python"
   },
   "outputs": [],
   "source": [
    "# install FastAPI using pip\n",
    "!pip install fastapi\n"
   ]
  },
  {
   "cell_type": "markdown",
   "id": "279cd74b",
   "metadata": {},
   "source": [
    "\n",
    "\n",
    "We also need to install an ASGI server, such as Uvicorn, which is a fast and lightweight server that can run asynchronous web applications. For example, to install Uvicorn, we can write:\n",
    "\n"
   ]
  },
  {
   "cell_type": "code",
   "execution_count": null,
   "id": "c3d7a4e6",
   "metadata": {
    "language": "python"
   },
   "outputs": [],
   "source": [
    "# install Uvicorn using pip\n",
    "!pip install uvicorn\n"
   ]
  },
  {
   "cell_type": "markdown",
   "id": "d8eacd89",
   "metadata": {},
   "source": [
    "\n",
    "\n",
    "To create a basic web application with FastAPI, we need to import FastAPI from the fastapi module, and create an instance of the FastAPI class, which is the main entry point of the application. For example, to create a FastAPI app, we can write:\n",
    "\n"
   ]
  },
  {
   "cell_type": "code",
   "execution_count": null,
   "id": "04231a02",
   "metadata": {
    "language": "python"
   },
   "outputs": [],
   "source": [
    "# import FastAPI from the fastapi module\n",
    "from fastapi import FastAPI\n",
    "# create an instance of the FastAPI class\n",
    "app = FastAPI()\n"
   ]
  },
  {
   "cell_type": "markdown",
   "id": "661d235c",
   "metadata": {},
   "source": [
    "\n",
    "\n",
    "To create a route, which is a path or URL that the application can handle, we need to use a decorator, such as @app.get, @app.post, or @app.put, which takes the path as an argument, and apply it to a function, which defines the logic of the route. For example, to create a route for the path /, which is the root or home page of the application, we can write:\n",
    "\n"
   ]
  },
  {
   "cell_type": "code",
   "execution_count": null,
   "id": "def641fe",
   "metadata": {
    "language": "python"
   },
   "outputs": [],
   "source": [
    "# create a route for the path /\n",
    "@app.get('/')\n",
    "# define a function that returns a message\n",
    "def home():\n",
    "    return {'message': 'Hello, world!'}\n"
   ]
  },
  {
   "cell_type": "markdown",
   "id": "33f45dda",
   "metadata": {},
   "source": [
    "\n",
    "\n",
    "To run the web application, we need to use the uvicorn command, which takes the name of the module and the name of the app as arguments, separated by a colon. For example, if we save the code in a file named main.py, we can run the web application by writing:\n",
    "\n"
   ]
  },
  {
   "cell_type": "code",
   "execution_count": null,
   "id": "5d190706",
   "metadata": {
    "language": "python"
   },
   "outputs": [],
   "source": [
    "# run the web application using uvicorn\n",
    "!uvicorn main:app\n"
   ]
  },
  {
   "cell_type": "markdown",
   "id": "c9d7d74f",
   "metadata": {},
   "source": [
    "\n",
    "\n",
    "This will start the web application on the local host and port 8000 by default. We can access the web application by opening a browser and typing the URL http://localhost:8000/. We will see a JSON response with the message \"Hello, world!\".\n",
    "\n",
    "One of the great features of FastAPI is that it automatically generates interactive documentation for the web application, based on the code and the type hints. We can access the documentation by adding /docs or /redoc to the URL. For example, if we open the URL http://localhost:8000/docs, we will see a user interface that allows us to test and explore the web application, like this:\n",
    "\n",
    "![FastAPI docs](https://fastapi.tiangolo.com/img/index/index-01-swagger-ui-simple.png)\n",
    "\n",
    "These are just some of the basic features and functionalities of FastAPI. FastAPI is a very powerful and versatile web framework that can create and customize a wide range of web APIs with Python. To learn more about FastAPI, you can check out the official documentation¹ or some of the online tutorials²³⁴⁵.\n",
    "\n",
    "## Django for Web Development\n",
    "\n",
    "Django is a mature, full-featured web framework for building web applications with Python. Django follows the MVC architecture, which stands for Model-View-Controller, and separates the logic of the web application into three components:\n",
    "\n",
    "- Model: This is the layer that handles the data and the business logic of the web application. It defines the structure and the behavior of the data, and interacts with the database or other data sources.\n",
    "- View: This is the layer that handles the presentation and the user interface of the web application. It defines how the data is displayed and rendered to the user, and responds to the user input and actions.\n",
    "- Controller: This is the layer that handles the communication and the coordination between the model and the view. It defines the routes and the logic of the web application, and processes the requests and responses.\n",
    "\n",
    "Django has the following key features:\n",
    "\n",
    "- Batteries included: It comes with many out-of-the-box features, such as ORM, middleware, authentication, admin panel, forms, templates, and more.\n",
    "- Scalable: It can handle high traffic and complex web applications, thanks to its modular and reusable design.\n",
    "- Secure: It provides built-in protection against common web security issues, such as CSRF, XSS, SQL injection, and more.\n",
    "- Versatile: It can be used for various types of web applications, such as e-commerce, social media, content management, and more.\n",
    "\n",
    "To use Django, we need to install it in our Python environment. We can use the pip command, which is a tool for managing Python packages. For example, to install Django, we can write:\n",
    "\n"
   ]
  },
  {
   "cell_type": "code",
   "execution_count": null,
   "id": "2b837dcb",
   "metadata": {
    "language": "python"
   },
   "outputs": [],
   "source": [
    "# install Django using pip\n",
    "!pip install Django\n"
   ]
  },
  {
   "cell_type": "markdown",
   "id": "79481b0a",
   "metadata": {},
   "source": [
    "\n",
    "\n",
    "To create a basic web application with Django, we need to use the django-admin command, which is a tool for creating and managing Django projects. For example, to create a Django project named mysite, we can write:\n",
    "\n"
   ]
  },
  {
   "cell_type": "code",
   "execution_count": null,
   "id": "b618114b",
   "metadata": {
    "language": "python"
   },
   "outputs": [],
   "source": [
    "# create a Django project named mysite\n",
    "!django-admin startproject mysite\n"
   ]
  },
  {
   "cell_type": "markdown",
   "id": "2976c5ed",
   "metadata": {},
   "source": [
    "\n",
    "\n",
    "This will create a directory named mysite, which contains the following files and subdirectories:\n",
    "\n",
    "- manage.py: This is a command-line utility that allows us to interact with the Django project, such as running the server, creating apps, making migrations, and more.\n",
    "- mysite/: This is a subdirectory that contains the following files:\n",
    "    - `__init__`.py: This is an empty file that tells Python that this directory is a package.\n",
    "    - settings.py: This is a file that contains the configuration and the settings of the Django project, such as the installed apps, the database, the middleware, the templates, and more.\n",
    "    - urls.py: This is a file that contains the URL patterns and the routes of the Django project, which map the URLs to the views or the functions that handle the requests and responses.\n",
    "    - asgi.py: This is a file that contains the ASGI (Asynchronous Server Gateway Interface) configuration of the Django project, which allows the project to run on an ASGI server, such as Uvicorn or Daphne.\n",
    "    - wsgi.py: This is a file that contains the WSGI (Web Server Gateway Interface) configuration of the Django project, which allows the project to run on a WSGI server, such as Gunicorn or uWSGI.\n",
    "\n",
    "To run the web application, we need to use the manage.py command, which takes the name of the command as an argument. For example, to run the web application using the runserver command, we can write:\n",
    "\n"
   ]
  },
  {
   "cell_type": "code",
   "execution_count": null,
   "id": "59cd8cc0",
   "metadata": {
    "language": "python"
   },
   "outputs": [],
   "source": [
    "# run the web application using the runserver command\n",
    "!python manage.py runserver\n"
   ]
  },
  {
   "cell_type": "markdown",
   "id": "7c081be8",
   "metadata": {},
   "source": [
    "\n",
    "\n",
    "This will start the web application on the local host and port 8000 by default. We can access the web application by opening a browser and typing the URL http://localhost:8000/. We will see a welcome page that says \"The install worked successfully! Congratulations!\".\n",
    "\n",
    "One of the core concepts of Django is the app, which is a component of the web application that handles a specific functionality or a feature. A Django project can have one or more apps, which can be created, installed, and reused. To create an app, we need to use the manage.py command, which takes the name of the app as an argument. For example, to create an app named polls, we can write:\n",
    "\n"
   ]
  },
  {
   "cell_type": "code",
   "execution_count": null,
   "id": "09c1dbe4",
   "metadata": {
    "language": "python"
   },
   "outputs": [],
   "source": [
    "# create an app named polls\n",
    "!python manage.py startapp polls\n"
   ]
  },
  {
   "cell_type": "markdown",
   "id": "c6d52ef5",
   "metadata": {},
   "source": [
    "\n",
    "\n",
    "This will create a directory named polls, which contains the following files and subdirectories:\n",
    "\n",
    "- `__init__`.py: This is an empty file that tells Python that this directory is a package.\n",
    "- admin.py: This is a file that allows us to register the models of the app to the admin panel, which is a built-in feature of Django that provides a user interface for managing the data of the web application.\n",
    "- apps.py: This is a file that contains the configuration and the metadata of the app, such as the name, the label, and the path.\n",
    "- models.py: This is a file that defines the models of the app, which are the classes that represent the data and the business logic of the app, and map to the tables and the fields of the database.\n",
    "- tests.py: This is a file that contains the tests of the app, which are the functions that check\n",
    "\n",
    "1. Building Web Applications with Django and FastAPI: Combining ... - Medium. https://medium.com/@mohanishp1/building-web-applications-with-django-and-fastapi-combining-the-best-of-both-worlds-1892719a8b9d.\n",
    "2. Using FastAPI to Build Python Web APIs – Real Python. https://realpython.com/fastapi-python-web-apis/.\n",
    "3. Full Web Apps with FastAPI Course - Talk Python. https://training.talkpython.fm/courses/full-html-web-applications-with-fastapi.\n",
    "4. talkpython/web-applications-with-fastapi-course - GitHub. https://github.com/talkpython/web-applications-with-fastapi-course.\n",
    "5. FastAPI Tutorial: An Introduction to Using FastAPI | DataCamp. https://www.datacamp.com/tutorial/introduction-fastapi-tutorial."
   ]
  }
 ],
 "metadata": {
  "language_info": {
   "name": "python"
  }
 },
 "nbformat": 4,
 "nbformat_minor": 5
}
