{
 "cells": [
  {
   "cell_type": "markdown",
   "id": "717ae2d7",
   "metadata": {},
   "source": [
    "Hello and welcome to this video on introduction to libraries and frameworks in Python. In this video, we will learn about some of the most popular and useful libraries and frameworks that can help us perform various tasks and create web applications with Python. We will cover the following topics:\n",
    "\n",
    "- NumPy for numerical computing, which allows us to work with arrays and perform mathematical operations on them.\n",
    "- Pandas for data manipulation, which allows us to work with tabular data and perform data cleaning and analysis tasks.\n",
    "- Matplotlib for data visualization, which allows us to create plots and charts to display and explore data.\n",
    "- FastAPI for web development, which allows us to create fast and modern web APIs with Python based on standard type hints.\n",
    "- Django for web development, which allows us to create full-featured web applications with Python based on the MVC architecture.\n",
    "\n",
    "By the end of this video, you will have a basic understanding of these libraries and frameworks and how to use them in your Python projects.\n",
    "\n",
    "## NumPy for Numerical Computing\n",
    "\n",
    "NumPy, which stands for Numerical Python, is a library that provides a powerful and efficient way to work with numerical data in Python. NumPy provides a core object called ndarray, which is a multidimensional array that can store homogeneous data of any shape and size. NumPy also provides a large collection of functions and methods that can operate on ndarrays and perform various mathematical operations, such as linear algebra, statistics, trigonometry, and more.\n",
    "\n",
    "To use NumPy, we need to import it in our Python code. The convention is to import it as np, like this:\n",
    "\n"
   ]
  },
  {
   "cell_type": "code",
   "execution_count": null,
   "id": "5393efcb",
   "metadata": {
    "language": "python"
   },
   "outputs": [],
   "source": [
    "# import numpy as np\n",
    "import numpy as np\n"
   ]
  },
  {
   "cell_type": "markdown",
   "id": "3e21991a",
   "metadata": {},
   "source": [
    "\n",
    "\n",
    "To create an ndarray, we can use the np.array function, which takes a sequence of elements, such as a list or a tuple, and returns an ndarray with the same elements. For example, to create a one-dimensional ndarray with three elements, we can write:\n",
    "\n"
   ]
  },
  {
   "cell_type": "code",
   "execution_count": null,
   "id": "a82ce885",
   "metadata": {
    "language": "python"
   },
   "outputs": [],
   "source": [
    "# create a one-dimensional ndarray with three elements\n",
    "a = np.array([1, 2, 3])\n",
    "# print the ndarray\n",
    "print(a)\n"
   ]
  },
  {
   "cell_type": "markdown",
   "id": "9c86ba97",
   "metadata": {},
   "source": [
    "\n",
    "\n",
    "This will print:\n",
    "\n",
    "[1 2 3]\n",
    "\n",
    "To create a multidimensional ndarray, we can use nested sequences, such as nested lists or tuples, and specify the shape of the ndarray. For example, to create a two-dimensional ndarray with two rows and three columns, we can write:\n",
    "\n"
   ]
  },
  {
   "cell_type": "code",
   "execution_count": null,
   "id": "ab973e21",
   "metadata": {
    "language": "python"
   },
   "outputs": [],
   "source": [
    "# create a two-dimensional ndarray with two rows and three columns\n",
    "b = np.array([[1, 2, 3], [4, 5, 6]])\n",
    "# print the ndarray\n",
    "print(b)\n"
   ]
  },
  {
   "cell_type": "markdown",
   "id": "7b7b8fec",
   "metadata": {},
   "source": [
    "\n",
    "\n",
    "This will print:\n",
    "\n",
    "[[1 2 3]\n",
    " [4 5 6]]\n",
    "\n",
    "To access the elements of an ndarray, we can use indexing and slicing, just like we do with Python lists. For example, to access the first element of the one-dimensional ndarray a, we can write:\n",
    "\n"
   ]
  },
  {
   "cell_type": "code",
   "execution_count": null,
   "id": "acc77082",
   "metadata": {
    "language": "python"
   },
   "outputs": [],
   "source": [
    "# access the first element of the one-dimensional ndarray a\n",
    "print(a[0])\n"
   ]
  },
  {
   "cell_type": "markdown",
   "id": "928c86b1",
   "metadata": {},
   "source": [
    "\n",
    "\n",
    "This will print:\n",
    "\n",
    "1\n",
    "\n",
    "To access the element in the second row and third column of the two-dimensional ndarray b, we can write:\n",
    "\n"
   ]
  },
  {
   "cell_type": "code",
   "execution_count": null,
   "id": "648f14ed",
   "metadata": {
    "language": "python"
   },
   "outputs": [],
   "source": [
    "# access the element in the second row and third column of the two-dimensional ndarray b\n",
    "print(b[1, 2])\n"
   ]
  },
  {
   "cell_type": "markdown",
   "id": "efbc40c6",
   "metadata": {},
   "source": [
    "\n",
    "\n",
    "This will print:\n",
    "\n",
    "6\n",
    "\n",
    "To perform mathematical operations on ndarrays, we can use the built-in arithmetic operators, such as +, -, *, /, and **, or the corresponding NumPy functions, such as np.add, np.subtract, np.multiply, np.divide, and np.power. These operations are performed element-wise, meaning that they apply to each element of the ndarrays. For example, to add two ndarrays, we can write:\n",
    "\n"
   ]
  },
  {
   "cell_type": "code",
   "execution_count": null,
   "id": "5a9a3a97",
   "metadata": {
    "language": "python"
   },
   "outputs": [],
   "source": [
    "# create two ndarrays\n",
    "c = np.array([1, 2, 3])\n",
    "d = np.array([4, 5, 6])\n",
    "# add the ndarrays\n",
    "e = c + d\n",
    "# print the result\n",
    "print(e)\n"
   ]
  },
  {
   "cell_type": "markdown",
   "id": "6dc1edfc",
   "metadata": {},
   "source": [
    "\n",
    "\n",
    "This will print:\n",
    "\n",
    "[5 7 9]\n",
    "\n",
    "To perform more advanced mathematical operations on ndarrays, such as matrix multiplication, dot product, inverse, determinant, and more, we can use the np.linalg module, which provides linear algebra functions. For example, to compute the dot product of two ndarrays, we can write:\n",
    "\n"
   ]
  },
  {
   "cell_type": "code",
   "execution_count": null,
   "id": "c1e3ca4a",
   "metadata": {
    "language": "python"
   },
   "outputs": [],
   "source": [
    "# create two ndarrays\n",
    "f = np.array([1, 2, 3])\n",
    "g = np.array([4, 5, 6])\n",
    "# compute the dot product of the ndarrays\n",
    "h = np.dot(f, g)\n",
    "# print the result\n",
    "print(h)\n"
   ]
  },
  {
   "cell_type": "markdown",
   "id": "6bfcd9eb",
   "metadata": {},
   "source": [
    "\n",
    "\n",
    "This will print:\n",
    "\n",
    "32\n",
    "\n",
    "NumPy also provides many functions and methods that can perform statistical operations on ndarrays, such as calculating the mean, median, standard deviation, variance, and more. For example, to calculate the mean of an ndarray, we can write:\n",
    "\n"
   ]
  },
  {
   "cell_type": "code",
   "execution_count": null,
   "id": "512446ee",
   "metadata": {
    "language": "python"
   },
   "outputs": [],
   "source": [
    "# create an ndarray\n",
    "i = np.array([1, 2, 3, 4, 5])\n",
    "# calculate the mean of the ndarray\n",
    "j = np.mean(i)\n",
    "# print the result\n",
    "print(j)\n"
   ]
  },
  {
   "cell_type": "markdown",
   "id": "9b72b8e4",
   "metadata": {},
   "source": [
    "\n",
    "\n",
    "This will print:\n",
    "\n",
    "3.0\n",
    "\n",
    "These are just some of the basic features and functionalities of NumPy. NumPy is a very powerful and versatile library that can handle a wide range of numerical data and computations. To learn more about NumPy, you can check out the official documentation¹ or some of the online tutorials²³.\n",
    "\n",
    "## Pandas for Data Manipulation\n",
    "\n",
    "Pandas, which stands for Panel Data Analysis, is a library that provides high-performance and easy-to-use data structures and tools for data manipulation and analysis in Python. Pandas is built on top of NumPy and integrates well with other libraries, such as Matplotlib, SciPy, and scikit-learn. Pandas is widely used for data science, machine learning, and data visualization projects.\n",
    "\n",
    "The main data structure in Pandas is the DataFrame, which is a two-dimensional tabular data structure that can store heterogeneous data of different types and sizes. A DataFrame consists of rows and columns, where each column is a Series, which is a one-dimensional array-like object that can store a single type of data. A DataFrame can be created from various sources, such as lists, dictionaries, ndarrays, files, or databases.\n",
    "\n",
    "To use Pandas, we need to import it in our Python code. The convention is to import it as pd, like this:\n",
    "\n"
   ]
  },
  {
   "cell_type": "code",
   "execution_count": null,
   "id": "8d310c7f",
   "metadata": {
    "language": "python"
   },
   "outputs": [],
   "source": [
    "# import pandas as pd\n",
    "import pandas as pd\n"
   ]
  },
  {
   "cell_type": "markdown",
   "id": "c58aa150",
   "metadata": {},
   "source": [
    "\n",
    "\n",
    "To create a DataFrame from a list of lists, we can use the pd.DataFrame function, which takes a list of lists as the data argument, and optionally, a list of strings as the columns argument, which specifies the names of the columns. For example, to create a DataFrame with three rows and two columns, we can write:\n",
    "\n"
   ]
  },
  {
   "cell_type": "code",
   "execution_count": null,
   "id": "8183d426",
   "metadata": {
    "language": "python"
   },
   "outputs": [],
   "source": [
    "# create a DataFrame from a list of lists\n",
    "k = pd.DataFrame(data=[[1, 'Alice'], [2, 'Bob'], [3, 'Charlie']], columns=['ID', 'Name'])\n",
    "# print the DataFrame\n",
    "print(k)\n"
   ]
  },
  {
   "cell_type": "markdown",
   "id": "d17dc7c1",
   "metadata": {},
   "source": [
    "\n",
    "\n",
    "This will print:\n",
    "\n",
    "   ID     Name\n",
    "0   1    Alice\n",
    "1   2      Bob\n",
    "2   3  Charlie\n",
    "\n",
    "To create a DataFrame from a dictionary of lists, we can use the pd.DataFrame function, which takes a dictionary of lists as the data argument, where the keys are the names of the columns, and the values are the lists of data for each column. For example, to create a DataFrame with the same data as before, but using a dictionary of lists, we can write:\n",
    "\n"
   ]
  },
  {
   "cell_type": "code",
   "execution_count": null,
   "id": "69df7fb7",
   "metadata": {
    "language": "python"
   },
   "outputs": [],
   "source": [
    "# create a DataFrame from a dictionary of lists\n",
    "l = pd.DataFrame(data={'ID': [1, 2, 3], 'Name': ['Alice', 'Bob', 'Charlie']})\n",
    "# print the DataFrame\n",
    "print(l)\n"
   ]
  },
  {
   "cell_type": "markdown",
   "id": "e2972f46",
   "metadata": {},
   "source": [
    "\n",
    "\n",
    "This will print:\n",
    "\n",
    "   ID     Name\n",
    "0   1    Alice\n",
    "1   2      Bob\n",
    "2   3  Charlie\n",
    "\n",
    "To create a DataFrame from a file, such as a CSV file, we can use the pd.read_csv function, which takes the file name or path as the first argument, and optionally, other arguments, such as sep, which specifies the delimiter, header, which specifies the row number of the header, index_col, which specifies the column number of the index, and more. For example, to create a DataFrame from a CSV file named data.csv, which has a comma as the delimiter, the first row as the header, and the first column as the index, we can write:\n",
    "\n"
   ]
  },
  {
   "cell_type": "code",
   "execution_count": null,
   "id": "924bf819",
   "metadata": {
    "language": "python"
   },
   "outputs": [],
   "source": [
    "# create a DataFrame from a CSV file\n",
    "m = pd.read_csv('data.csv', sep=',', header=0, index_col=0)\n",
    "# print the DataFrame\n",
    "print(m)\n"
   ]
  },
  {
   "cell_type": "markdown",
   "id": "e7dc097d",
   "metadata": {},
   "source": [
    "\n",
    "\n",
    "This will print:\n",
    "\n",
    "   ID     Name\n",
    "0   1    Alice\n",
    "1   2      Bob\n",
    "2   3  Charlie\n",
    "\n",
    "To access the elements of a DataFrame, we can use various methods, such as loc, iloc, and ix, which allow us to select rows and columns by labels, positions, or a combination of both. For example, to access the element in the second row and first column of the DataFrame k, we can write:\n",
    "\n"
   ]
  },
  {
   "cell_type": "code",
   "execution_count": null,
   "id": "fd902cdd",
   "metadata": {
    "language": "python"
   },
   "outputs": [],
   "source": [
    "# access the element in the second row and first column of the DataFrame k\n",
    "print(k.loc[1, 'ID'])\n"
   ]
  },
  {
   "cell_type": "markdown",
   "id": "1f5af6e5",
   "metadata": {},
   "source": [
    "\n",
    "\n",
    "To sort the DataFrame k by the Name column in ascending order, we can write:\n",
    "\n"
   ]
  },
  {
   "cell_type": "code",
   "execution_count": null,
   "id": "f3068665",
   "metadata": {
    "language": "python"
   },
   "outputs": [],
   "source": [
    "# sort the DataFrame k by the Name column in ascending order\n",
    "n = k.sort_values(by='Name')\n",
    "# print the sorted DataFrame\n",
    "print(n)\n"
   ]
  },
  {
   "cell_type": "markdown",
   "id": "cbec1fbb",
   "metadata": {},
   "source": [
    "\n",
    "\n",
    "This will print:\n",
    "\n",
    "   ID     Name\n",
    "0   1    Alice\n",
    "1   2      Bob\n",
    "2   3  Charlie\n"
   ]
  },
  {
   "cell_type": "code",
   "execution_count": null,
   "id": "9eef8e67",
   "metadata": {
    "language": ""
   },
   "outputs": [],
   "source": [
    "\n",
    "To filter the DataFrame k by the ID column, and select only the rows where the ID is greater than 1, we can write:\n",
    "\n"
   ]
  },
  {
   "cell_type": "markdown",
   "id": "0dc00adf",
   "metadata": {},
   "source": [
    "python\n",
    "# filter the DataFrame k by the ID column\n",
    "o = k[k['ID'] > 1]\n",
    "# print the filtered DataFrame\n",
    "print(o)\n"
   ]
  },
  {
   "cell_type": "code",
   "execution_count": null,
   "id": "b7269265",
   "metadata": {
    "language": ""
   },
   "outputs": [],
   "source": [
    "\n",
    "This will print:\n",
    "\n",
    "   ID     Name\n",
    "1   2      Bob\n",
    "2   3  Charlie\n"
   ]
  },
  {
   "cell_type": "markdown",
   "id": "dd2c0ca5",
   "metadata": {},
   "source": [
    "\n",
    "\n",
    "To group the DataFrame k by the Name column, and calculate the mean of the ID column for each group, we can write:\n",
    "\n"
   ]
  },
  {
   "cell_type": "code",
   "execution_count": null,
   "id": "3c4cb75e",
   "metadata": {
    "language": "python"
   },
   "outputs": [],
   "source": [
    "# group the DataFrame k by the Name column\n",
    "p = k.groupby('Name')\n",
    "# calculate the mean of the ID column for each group\n",
    "q = p['ID'].mean()\n",
    "# print the result\n",
    "print(q)\n"
   ]
  },
  {
   "cell_type": "markdown",
   "id": "900eaddd",
   "metadata": {},
   "source": [
    "\n",
    "\n",
    "This will print:\n",
    "\n",
    "Name\n",
    "Alice      1\n",
    "Bob        2\n",
    "Charlie    3\n",
    "Name: ID, dtype: int64\n"
   ]
  },
  {
   "cell_type": "code",
   "execution_count": null,
   "id": "79a75dce",
   "metadata": {
    "language": ""
   },
   "outputs": [],
   "source": [
    "\n",
    "To merge two DataFrames, such as k and l, by a common column, such as ID, we can use the pd.merge function, which takes the two DataFrames as the left and right arguments, and the name of the common column as the on argument. For example, to merge k and l by the ID column, we can write:\n",
    "\n"
   ]
  },
  {
   "cell_type": "markdown",
   "id": "11594414",
   "metadata": {},
   "source": [
    "python\n",
    "# merge k and l by the ID column\n",
    "r = pd.merge(k, l, on='ID')\n",
    "# print the merged DataFrame\n",
    "print(r)\n"
   ]
  },
  {
   "cell_type": "code",
   "execution_count": null,
   "id": "6f054d5a",
   "metadata": {
    "language": ""
   },
   "outputs": [],
   "source": [
    "\n",
    "This will print:\n",
    "\n",
    "   ID   Name_x   Name_y\n",
    "0   1    Alice    Alice\n",
    "1   2      Bob      Bob\n",
    "2   3  Charlie  Charlie\n"
   ]
  },
  {
   "cell_type": "markdown",
   "id": "d7044f34",
   "metadata": {},
   "source": [
    "\n",
    "## Matplotlib for Data Visualization\n",
    "\n",
    "Matplotlib is a library that provides a comprehensive and flexible way to create and customize plots and charts to display and explore data in Python. Matplotlib is built on top of NumPy and integrates well with other libraries, such as Pandas, SciPy, and scikit-learn. Matplotlib is widely used for data science, machine learning, and data visualization projects.\n",
    "\n",
    "The main object in Matplotlib is the figure, which is a container that holds one or more axes, which are the actual plots or charts that display the data. A figure can have multiple axes, which can have different types, such as line plots, scatter plots, bar charts, pie charts, histograms, and more. A figure can also have other elements, such as titles, labels, legends, grids, and annotations.\n",
    "\n",
    "To use Matplotlib, we need to import it in our Python code. The convention is to import it as plt, like this:\n",
    "\n"
   ]
  },
  {
   "cell_type": "code",
   "execution_count": null,
   "id": "78d6d839",
   "metadata": {
    "language": "python"
   },
   "outputs": [],
   "source": [
    "# import matplotlib as plt\n",
    "import matplotlib.pyplot as plt\n"
   ]
  },
  {
   "cell_type": "markdown",
   "id": "3280b8b0",
   "metadata": {},
   "source": [
    "\n",
    "\n",
    "To create a figure and an axis, we can use the plt.subplots function, which returns a figure object and an axis object. For example, to create a figure with one axis, we can write:\n",
    "\n"
   ]
  },
  {
   "cell_type": "code",
   "execution_count": null,
   "id": "b32d7bf0",
   "metadata": {
    "language": "python"
   },
   "outputs": [],
   "source": [
    "# create a figure with one axis\n",
    "fig, ax = plt.subplots()\n"
   ]
  },
  {
   "cell_type": "markdown",
   "id": "b20224cf",
   "metadata": {},
   "source": [
    "\n",
    "\n",
    "To create a plot or a chart on the axis, we can use one of the methods of the axis object, such as plot, scatter, bar, pie, hist, and more. These methods take the data to be plotted as arguments, and optionally, other arguments, such as color, marker, linestyle, label, and more. For example, to create a line plot on the axis with some sample data, we can write:\n",
    "\n"
   ]
  },
  {
   "cell_type": "code",
   "execution_count": null,
   "id": "92341465",
   "metadata": {
    "language": "python"
   },
   "outputs": [],
   "source": [
    "# create some sample data\n",
    "x = [1, 2, 3, 4, 5]\n",
    "y = [2, 4, 6, 8, 10]\n",
    "# create a line plot on the axis\n",
    "ax.plot(x, y, color='red', marker='o', label='Line')\n"
   ]
  },
  {
   "cell_type": "markdown",
   "id": "07cec339",
   "metadata": {},
   "source": [
    "\n",
    "\n",
    "To add other elements to the figure, such as titles, labels, legends, grids, and annotations, we can use the methods of the figure object, the axis object, or the plt module. For example, to add a title to the figure, a label to the x-axis, a legend to the plot, and a grid to the axis, we can write:\n",
    "\n"
   ]
  },
  {
   "cell_type": "code",
   "execution_count": null,
   "id": "46537166",
   "metadata": {
    "language": "python"
   },
   "outputs": [],
   "source": [
    "# add a title to the figure\n",
    "fig.suptitle('Sample Figure')\n",
    "# add a label to the x-axis\n",
    "ax.set_xlabel('X')\n",
    "# add a legend to the plot\n",
    "ax.legend()\n",
    "# add a grid to the axis\n",
    "ax.grid()\n"
   ]
  },
  {
   "cell_type": "markdown",
   "id": "114c5b48",
   "metadata": {},
   "source": [
    "\n",
    "\n",
    "To show the figure on the screen, we can use the plt.show function, which displays the figure in a new window. For example, to show the figure that we created, we can write:\n",
    "\n"
   ]
  },
  {
   "cell_type": "code",
   "execution_count": null,
   "id": "bfb5b898",
   "metadata": {
    "language": "python"
   },
   "outputs": [],
   "source": [
    "# show the figure on the screen\n",
    "plt.show()\n"
   ]
  },
  {
   "cell_type": "markdown",
   "id": "915044fe",
   "metadata": {},
   "source": [
    "\n"
   ]
  }
 ],
 "metadata": {},
 "nbformat": 4,
 "nbformat_minor": 5
}
