{
 "cells": [
  {
   "cell_type": "markdown",
   "id": "f76d72a5",
   "metadata": {},
   "source": [
    "Hello and welcome to this video on classes and objects in Python. In this video, we will learn what are classes and objects, how to define them, and how to use their attributes and methods.\n",
    "\n",
    "## Introduction to Classes\n",
    "\n",
    "A class is a blueprint or a template for creating objects. An object is an instance or a specific example of a class. A class defines the common properties and behaviors of a group of objects, such as their attributes and methods. An attribute is a variable that belongs to an object and stores some data about it. A method is a function that belongs to an object and performs some action on it or with it.\n",
    "\n",
    "To define a class in Python, we use the class keyword, followed by the name of the class and a colon. The name of the class should follow the PascalCase convention, which means that each word in the name should start with a capital letter. For example, to define a class called Person, we can write:\n",
    "\n"
   ]
  },
  {
   "cell_type": "code",
   "execution_count": null,
   "id": "452d7ad9",
   "metadata": {
    "language": "python"
   },
   "outputs": [],
   "source": [
    "class Person:\n",
    "    # Class body\n"
   ]
  },
  {
   "cell_type": "markdown",
   "id": "4a539a39",
   "metadata": {},
   "source": [
    "\n",
    "\n",
    "To create an object of a class, we use the class name followed by parentheses. This will call the constructor of the class, which is a special method that initializes the object and its attributes. The constructor is defined by the __init__ method, which takes the self parameter and any other parameters that are needed to create the object. The self parameter refers to the current object and is used to access its attributes and methods. For example, to define a constructor for the Person class that takes the name and age of the person as parameters, we can write:\n",
    "\n"
   ]
  },
  {
   "cell_type": "code",
   "execution_count": null,
   "id": "4f24d263",
   "metadata": {
    "language": "python"
   },
   "outputs": [],
   "source": [
    "class Person:\n",
    "    # Define the constructor\n",
    "    def __init__(self, name, age):\n",
    "        # Assign the parameters to the attributes\n",
    "        self.name = name\n",
    "        self.age = age\n"
   ]
  },
  {
   "cell_type": "markdown",
   "id": "cc3f81b3",
   "metadata": {},
   "source": [
    "\n",
    "\n",
    "To create an object of the Person class, we can write:\n",
    "\n"
   ]
  },
  {
   "cell_type": "code",
   "execution_count": null,
   "id": "08b575d4",
   "metadata": {
    "language": "python"
   },
   "outputs": [],
   "source": [
    "# Create an object of the Person class with the name 'Alice' and the age 20\n",
    "alice = Person('Alice', 20)\n"
   ]
  },
  {
   "cell_type": "markdown",
   "id": "a32eccbf",
   "metadata": {},
   "source": [
    "\n",
    "\n",
    "## Attributes and Methods\n",
    "\n",
    "An attribute is a variable that belongs to an object and stores some data about it. An attribute can be either an instance attribute or a class attribute. An instance attribute is specific to each object and is defined inside the constructor or any other instance method. A class attribute is shared by all objects of the class and is defined outside any method. For example, to define a class attribute called species for the Person class, we can write:\n",
    "\n"
   ]
  },
  {
   "cell_type": "code",
   "execution_count": null,
   "id": "fa4a91fa",
   "metadata": {
    "language": "python"
   },
   "outputs": [],
   "source": [
    "class Person:\n",
    "    # Define a class attribute\n",
    "    species = 'Human'\n",
    "\n",
    "    # Define the constructor\n",
    "    def __init__(self, name, age):\n",
    "        # Define instance attributes\n",
    "        self.name = name\n",
    "        self.age = age\n"
   ]
  },
  {
   "cell_type": "markdown",
   "id": "75bc3b93",
   "metadata": {},
   "source": [
    "\n",
    "\n",
    "To access an attribute of an object, we use the dot notation, which is the object name followed by a dot and the attribute name. For example, to access the name and age attributes of the alice object, we can write:\n",
    "\n"
   ]
  },
  {
   "cell_type": "code",
   "execution_count": null,
   "id": "7b00037a",
   "metadata": {
    "language": "python"
   },
   "outputs": [],
   "source": [
    "# Access the name attribute of the alice object\n",
    "print(alice.name)\n",
    "# Access the age attribute of the alice object\n",
    "print(alice.age)\n"
   ]
  },
  {
   "cell_type": "markdown",
   "id": "59278d60",
   "metadata": {},
   "source": [
    "\n",
    "\n",
    "To access a class attribute, we can use either the class name or the object name, followed by a dot and the attribute name. For example, to access the species attribute of the Person class or the alice object, we can write:\n",
    "\n"
   ]
  },
  {
   "cell_type": "code",
   "execution_count": null,
   "id": "11333f93",
   "metadata": {
    "language": "python"
   },
   "outputs": [],
   "source": [
    "# Access the species attribute of the Person class\n",
    "print(Person.species)\n",
    "# Access the species attribute of the alice object\n",
    "print(alice.species)\n"
   ]
  },
  {
   "cell_type": "markdown",
   "id": "566a3f1c",
   "metadata": {},
   "source": [
    "\n",
    "\n",
    "An instance method is a method that takes the self parameter and can access and modify the instance attributes and call other instance methods of the same object. For example, to define an instance method called greet for the Person class, which prints a greeting message using the name attribute, we can write:\n",
    "\n"
   ]
  },
  {
   "cell_type": "code",
   "execution_count": null,
   "id": "e360c6cb",
   "metadata": {
    "language": "python"
   },
   "outputs": [],
   "source": [
    "class Person:\n",
    "    # Define a class attribute\n",
    "    species = 'Human'\n",
    "\n",
    "    # Define the constructor\n",
    "    def __init__(self, name, age):\n",
    "        # Define instance attributes\n",
    "        self.name = name\n",
    "        self.age = age\n",
    "\n",
    "    # Define an instance method\n",
    "    def greet(self):\n",
    "        # Print a greeting message using the name attribute\n",
    "        print(f\"Hello, my name is {self.name} and I am a {self.species}.\")\n"
   ]
  },
  {
   "cell_type": "markdown",
   "id": "fe709c4a",
   "metadata": {},
   "source": [
    "\n",
    "\n",
    "To call an instance method, we use the dot notation, which is the object name followed by a dot and the method name, with any arguments inside parentheses. For example, to call the greet method of the alice object, we can write:\n",
    "\n"
   ]
  },
  {
   "cell_type": "code",
   "execution_count": null,
   "id": "dd6b5fcc",
   "metadata": {
    "language": "python"
   },
   "outputs": [],
   "source": [
    "# Call the greet method of the alice object\n",
    "alice.greet()\n"
   ]
  },
  {
   "cell_type": "markdown",
   "id": "bd66d2e1",
   "metadata": {},
   "source": [
    "\n",
    "\n",
    "This will print:\n",
    "\n",
    "Hello, my name is Alice and I am a Human.\n",
    "\n",
    "A static method is a method that does not take the self or the cls parameter, and therefore cannot access or modify the instance or the class state. A static method is useful for creating utility functions that do not depend on the object or the class, but only on the parameters they receive. To define a static method, we use the @staticmethod decorator, which is a built-in function that modifies the behavior of the method. For example, to define a static method called is_adult for the Person class, which checks if a given age is greater than or equal to 18, we can write:\n",
    "\n"
   ]
  },
  {
   "cell_type": "code",
   "execution_count": null,
   "id": "c681981e",
   "metadata": {
    "language": "python"
   },
   "outputs": [],
   "source": [
    "class Person:\n",
    "    # Define a class attribute\n",
    "    species = 'Human'\n",
    "\n",
    "    # Define the constructor\n",
    "    def __init__(self, name, age):\n",
    "        # Define instance attributes\n",
    "        self.name = name\n",
    "        self.age = age\n",
    "\n",
    "    # Define an instance method\n",
    "    def greet(self):\n",
    "        # Print a greeting message using the name attribute\n",
    "        print(f\"Hello, my name is {self.name} and I am a {self.species}.\")\n",
    "\n",
    "    # Define a static method\n",
    "    @staticmethod\n",
    "    def is_adult(age):\n",
    "        # Check if the age is greater than or equal to 18\n",
    "        return age >= 18\n"
   ]
  },
  {
   "cell_type": "markdown",
   "id": "df9499dc",
   "metadata": {},
   "source": [
    "\n",
    "\n",
    "To call a static method, we can use either the class name or the object name, followed by a dot and the method name, with any arguments inside parentheses. For example, to call the is_adult method of the Person class or the alice object, we can write:\n",
    "\n"
   ]
  },
  {
   "cell_type": "code",
   "execution_count": null,
   "id": "57db6091",
   "metadata": {
    "language": "python"
   },
   "outputs": [],
   "source": [
    "# Call the is_adult method of the Person class with the argument 20\n",
    "print(Person.is_adult(20))\n",
    "# Call the is_adult method of the alice object with the argument 15\n",
    "print(alice.is_adult(15))\n"
   ]
  },
  {
   "cell_type": "markdown",
   "id": "fc0bc094",
   "metadata": {},
   "source": [
    "\n",
    "\n",
    "This will print:\n",
    "\n",
    "True\n",
    "False\n",
    "\n",
    "A class method is a method that takes the cls parameter, which points to the class, and can access or modify the class state. A class method is useful for creating factory methods that can create different objects of the class with different parameters. To define a class method, we use the @classmethod decorator, which is a built-in function that modifies the behavior of the method. For example, to define a class method called from_birth_year for the Person class, which creates a person object from a given name and birth year, we can write:\n",
    "\n"
   ]
  },
  {
   "cell_type": "code",
   "execution_count": null,
   "id": "abbcd337",
   "metadata": {
    "language": "python"
   },
   "outputs": [],
   "source": [
    "class Person:\n",
    "    # Define a class attribute\n",
    "    species = 'Human'\n",
    "\n",
    "    # Define the constructor\n",
    "    def __init__(self, name, age):\n",
    "        # Define instance attributes\n",
    "        self.name = name\n",
    "        self.age = age\n",
    "\n",
    "    # Define an instance method\n",
    "    def greet(self):\n",
    "        # Print a greeting message using the name attribute\n",
    "        print(f\"Hello, my name is {self.name} and I am a {self.species}.\")\n",
    "\n",
    "    # Define a static method\n",
    "    @staticmethod\n",
    "    def is_adult(age):\n",
    "        # Check if the age is greater than or equal to 18\n",
    "        return age >= 18\n",
    "\n",
    "    # Define a class method\n",
    "    @classmethod\n",
    "    def from_birth_year(cls, name, birth_year):\n",
    "        # Calculate the age from the birth year\n",
    "        age = 2023 - birth_year\n",
    "        # Return a new person object with the name and age\n",
    "        return cls(name, age)\n"
   ]
  },
  {
   "cell_type": "markdown",
   "id": "7fc99fd2",
   "metadata": {},
   "source": [
    "\n",
    "\n",
    "To call a class method, we can use either the class name or the object name, followed by a dot and the method name, with any arguments inside parentheses. For example, to call the from_birth_year method of the Person class or the alice object, we can write:\n",
    "\n"
   ]
  },
  {
   "cell_type": "code",
   "execution_count": null,
   "id": "18c89df8",
   "metadata": {
    "language": "python"
   },
   "outputs": [],
   "source": [
    "# Call the from_birth_year method of the Person class with the arguments 'Bob' and 2000\n",
    "bob = Person.from_birth_year('Bob', 2000)\n",
    "# Call the from_birth_year method of the alice object with the arguments 'Charlie' and 1999\n",
    "charlie = alice.from_birth_year('Charlie', 1999)\n"
   ]
  },
  {
   "cell_type": "markdown",
   "id": "3a68ce30",
   "metadata": {},
   "source": [
    "This will create two new person objects, bob and charlie, with the names and ages calculated from the birth years.\n",
    "\n",
    "In addition to the types of methods I explained before, there are also methods that have names starting or ending with one or two underscores. These methods have special meanings or conventions in Python, and they are not meant to be called directly by the user. Some of them are:\n",
    "\n",
    "- `_method`: \n",
    "    - Indicates a \"protected\" method, intended for internal use within the class or its subclasses.\n",
    "    - Not strictly private, but convention suggests external code shouldn't directly access it.\n",
    "    - Still accessible from outside the class, but the underscore serves as a reminder to prioritize its use within the class's internal logic.\n",
    "\n",
    "- `__method`: \n",
    "    - Triggers name mangling, which renames the method to _ClassName__method to avoid conflicts with subclasses that might have methods with the same name.\n",
    "    - Not strictly private, but makes it less likely to be accidentally overridden or accessed externally.\n",
    "    - Often used for internal methods that are not intended for use outside the class.\n",
    "\n",
    "- `__method__`: \n",
    "    - Reserved for special methods (dunder methods) that have specific built-in meanings in Python.\n",
    "    - Used for defining operators, constructors, descriptors, and other language-level behaviors.\n",
    "    - Should not be defined for custom purposes, as they have specific roles within Python's mechanics.\n"
   ]
  },
  {
   "cell_type": "markdown",
   "metadata": {},
   "source": []
  }
 ],
 "metadata": {
  "language_info": {
   "name": "python"
  }
 },
 "nbformat": 4,
 "nbformat_minor": 5
}
