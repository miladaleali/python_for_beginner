{
 "cells": [
  {
   "cell_type": "markdown",
   "id": "9869d575",
   "metadata": {},
   "source": [
    "Hello and welcome to this video on inheritance and polymorphism in Python. In this video, we will learn how to create subclasses that inherit from parent classes, how to override methods in subclasses, and how to use polymorphism to achieve dynamic behavior.\n",
    "\n",
    "## Inheritance\n",
    "\n",
    "Inheritance is a mechanism that allows us to create new classes that are based on existing classes, by adding or modifying their attributes and methods. The new classes are called subclasses or child classes, and the existing classes are called parent classes or superclasses. Inheritance enables us to reuse and extend the code of the parent classes, and to create a hierarchy of related classes.\n",
    "\n",
    "To create a subclass in Python, we use the following syntax:\n",
    "\n"
   ]
  },
  {
   "cell_type": "code",
   "execution_count": null,
   "id": "8574987c",
   "metadata": {
    "language": "python"
   },
   "outputs": [],
   "source": [
    "class SubClass(ParentClass):\n",
    "    # subclass body\n"
   ]
  },
  {
   "cell_type": "markdown",
   "id": "64630c49",
   "metadata": {},
   "source": [
    "\n",
    "\n",
    "The subclass name is followed by parentheses that contain the name of the parent class. The subclass inherits all the attributes and methods of the parent class, but it can also add or override them as needed.\n",
    "\n",
    "For example, suppose we have a parent class called Animal, which defines some common attributes and methods for animals, such as name, sound, and make_sound. We can create a subclass called Dog, which inherits from Animal, and adds a new attribute called breed, and overrides the make_sound method to print a more specific message.\n",
    "\n"
   ]
  },
  {
   "cell_type": "code",
   "execution_count": null,
   "id": "180980fd",
   "metadata": {
    "language": "python"
   },
   "outputs": [],
   "source": [
    "class Animal:\n",
    "    # parent class constructor\n",
    "    def __init__(self, name, sound):\n",
    "        # parent class attributes\n",
    "        self.name = name\n",
    "        self.sound = sound\n",
    "\n",
    "    # parent class method\n",
    "    def make_sound(self):\n",
    "        # print a generic message\n",
    "        print(f\"{self.name} makes {self.sound} sound.\")\n",
    "\n",
    "class Dog(Animal):\n",
    "    # subclass constructor\n",
    "    def __init__(self, name, sound, breed):\n",
    "        # call the parent class constructor\n",
    "        super().__init__(name, sound)\n",
    "        # subclass attribute\n",
    "        self.breed = breed\n",
    "\n",
    "    # subclass method\n",
    "    def make_sound(self):\n",
    "        # print a more specific message\n",
    "        print(f\"{self.name} is a {self.breed} and makes {self.sound} sound.\")\n"
   ]
  },
  {
   "cell_type": "markdown",
   "id": "1a2b4156",
   "metadata": {},
   "source": [
    "\n",
    "\n",
    "To create an object of the subclass, we use the subclass name followed by parentheses that contain the arguments for the subclass constructor. For example, to create a dog object, we can write:\n",
    "\n"
   ]
  },
  {
   "cell_type": "code",
   "execution_count": null,
   "id": "de5a0f76",
   "metadata": {
    "language": "python"
   },
   "outputs": [],
   "source": [
    "# create a dog object\n",
    "dog = Dog(\"Rex\", \"woof\", \"German Shepherd\")\n"
   ]
  },
  {
   "cell_type": "markdown",
   "id": "84409829",
   "metadata": {},
   "source": [
    "\n",
    "\n",
    "To access or modify the attributes or methods of the subclass object, we use the dot notation, which is the object name followed by a dot and the attribute or method name. For example, to access the name, sound, and breed attributes of the dog object, and to call the make_sound method, we can write:\n",
    "\n"
   ]
  },
  {
   "cell_type": "code",
   "execution_count": null,
   "id": "080dbf30",
   "metadata": {
    "language": "python"
   },
   "outputs": [],
   "source": [
    "# access the attributes of the dog object\n",
    "print(dog.name)\n",
    "print(dog.sound)\n",
    "print(dog.breed)\n",
    "# call the method of the dog object\n",
    "dog.make_sound()\n"
   ]
  },
  {
   "cell_type": "markdown",
   "id": "18f5e306",
   "metadata": {},
   "source": [
    "\n",
    "\n",
    "This will print:\n",
    "\n",
    "Rex\n",
    "woof\n",
    "German Shepherd\n",
    "Rex is a German Shepherd and makes woof sound.\n",
    "\n",
    "## Polymorphism\n",
    "\n",
    "Polymorphism is a concept that means having many forms or behaviors. In object-oriented programming, polymorphism refers to the ability of an object to perform different actions depending on its type or class. Polymorphism can be achieved by using method overloading, method overriding, or operator overloading.\n",
    "\n",
    "Method overloading is the ability to define multiple methods with the same name but different parameters. Python does not support method overloading in the same class, but it does support it in subclasses. For example, suppose we have a parent class called Shape, which defines a method called area that takes no parameters and returns zero. We can create subclasses called Rectangle and Circle, which inherit from Shape, and overload the area method to take different parameters and return different values.\n",
    "\n"
   ]
  },
  {
   "cell_type": "code",
   "execution_count": null,
   "id": "7cc7eca9",
   "metadata": {
    "language": "python"
   },
   "outputs": [],
   "source": [
    "class Shape:\n",
    "    # parent class method\n",
    "    def area(self):\n",
    "        # return zero\n",
    "        return 0\n",
    "\n",
    "class Rectangle(Shape):\n",
    "    # subclass constructor\n",
    "    def __init__(self, length, width):\n",
    "        # subclass attributes\n",
    "        self.length = length\n",
    "        self.width = width\n",
    "\n",
    "    # subclass method\n",
    "    def area(self):\n",
    "        # return the area of the rectangle\n",
    "        return self.length * self.width\n",
    "\n",
    "class Circle(Shape):\n",
    "    # subclass constructor\n",
    "    def __init__(self, radius):\n",
    "        # subclass attribute\n",
    "        self.radius = radius\n",
    "\n",
    "    # subclass method\n",
    "    def area(self):\n",
    "        # return the area of the circle\n",
    "        return math.pi * self.radius ** 2\n"
   ]
  },
  {
   "cell_type": "markdown",
   "id": "347c24a1",
   "metadata": {},
   "source": [
    "\n",
    "\n",
    "To create objects of the subclasses, we use the subclass name followed by parentheses that contain the arguments for the subclass constructor. For example, to create a rectangle object and a circle object, we can write:\n",
    "\n"
   ]
  },
  {
   "cell_type": "code",
   "execution_count": null,
   "id": "76418354",
   "metadata": {
    "language": "python"
   },
   "outputs": [],
   "source": [
    "# create a rectangle object\n",
    "rect = Rectangle(10, 5)\n",
    "# create a circle object\n",
    "circ = Circle(3)\n"
   ]
  },
  {
   "cell_type": "markdown",
   "id": "358f8bfe",
   "metadata": {},
   "source": [
    "\n",
    "\n",
    "To call the overloaded methods of the subclass objects, we use the dot notation, which is the object name followed by a dot and the method name. For example, to call the area method of the rect and circ objects, we can write:\n",
    "\n"
   ]
  },
  {
   "cell_type": "code",
   "execution_count": null,
   "id": "5d165c23",
   "metadata": {
    "language": "python"
   },
   "outputs": [],
   "source": [
    "# call the area method of the rect object\n",
    "print(rect.area())\n",
    "# call the area method of the circ object\n",
    "print(circ.area())\n"
   ]
  },
  {
   "cell_type": "markdown",
   "id": "41723bfd",
   "metadata": {},
   "source": [
    "\n",
    "\n",
    "This will print:\n",
    "\n",
    "50\n",
    "28.274333882308138\n",
    "\n",
    "Method overriding is the ability to modify or replace a method of the parent class in the subclass. We have already seen an example of method overriding in the previous section, where we overrode the make_sound method of the Animal class in the Dog class. Method overriding allows us to customize or extend the behavior of the parent class in the subclass.\n",
    "\n",
    "Operator overloading is the ability to change the meaning or functionality of an operator depending on the operands. Python supports operator overloading for some built-in operators, such as +, -, *, /, ==, !=, <, >, and so on. To overload an operator, we need to define a special method in the class that corresponds to the operator. For example, to overload the + operator, we need to define the __add__ method, which takes two operands as parameters and returns the result of the operation. For example, suppose we have a class called Point, which represents a point in a two-dimensional space. We can overload the + operator to perform vector addition of two points.\n",
    "\n"
   ]
  },
  {
   "cell_type": "code",
   "execution_count": null,
   "id": "a33dfc88",
   "metadata": {
    "language": "python"
   },
   "outputs": [],
   "source": [
    "class Point:\n",
    "    # class constructor\n",
    "    def __init__(self, x, y):\n",
    "        # class attributes\n",
    "        self.x = x\n",
    "        self.y = y\n",
    "\n",
    "    # overload the + operator\n",
    "    def __add__(self, other):\n",
    "        # return a new point with the sum of the coordinates\n",
    "        return Point(self.x + other.x, self.y + other.y)\n"
   ]
  },
  {
   "cell_type": "markdown",
   "id": "617dc0ae",
   "metadata": {},
   "source": [
    "\n",
    "\n",
    "To create objects of the Point class, we use the class name followed by parentheses that contain the arguments for the class constructor. For example, to create two point objects, we can write:\n",
    "\n"
   ]
  },
  {
   "cell_type": "code",
   "execution_count": null,
   "id": "5b08afbf",
   "metadata": {
    "language": "python"
   },
   "outputs": [],
   "source": [
    "# create two point objects\n",
    "p1 = Point(1, 2)\n",
    "p2 = Point(3, 4)\n"
   ]
  },
  {
   "cell_type": "markdown",
   "id": "58c04efb",
   "metadata": {},
   "source": [
    "\n",
    "\n",
    "To use the overloaded operator, we simply use the operator symbol between the operands. For example, to add the two point objects, we can write:\n",
    "\n"
   ]
  },
  {
   "cell_type": "code",
   "execution_count": null,
   "id": "b8099286",
   "metadata": {
    "language": "python"
   },
   "outputs": [],
   "source": [
    "# use the + operator to add the two point objects\n",
    "p3 = p1 + p2\n"
   ]
  },
  {
   "cell_type": "markdown",
   "id": "923957ad",
   "metadata": {},
   "source": [
    "\n",
    "\n",
    "This will create a new point object, p3, with the coordinates (4, 6).\n",
    "\n",
    "---\n",
    "\n",
    "That's all for this video on inheritance and polymorphism in Python. I hope you learned something useful and enjoyed watching. Thank you for your attention and see you in the next video. Bye!\n",
    "\n",
    "1. Inheritance and Polymorphism in Python - OverIQ.com. https://overiq.com/python-101/inheritance-and-polymorphism-in-python/.\n",
    "2. Polymorphism in Python - GeeksforGeeks. https://www.geeksforgeeks.org/polymorphism-in-python/.\n",
    "3. Real-World Python: Inheritance and Polymorphism for Better Code Reuse .... https://llego.dev/posts/python-inheritance-polymorphism-code-reuse/.\n",
    "4. Inheritance and Polymorphism – Real Python. https://realpython.com/lessons/inheritance-polymorphism/."
   ]
  },
  {
   "cell_type": "markdown",
   "metadata": {},
   "source": []
  }
 ],
 "metadata": {
  "language_info": {
   "name": "python"
  }
 },
 "nbformat": 4,
 "nbformat_minor": 5
}
