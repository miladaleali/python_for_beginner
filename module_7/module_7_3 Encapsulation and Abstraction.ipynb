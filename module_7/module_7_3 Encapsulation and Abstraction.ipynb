{
 "cells": [
  {
   "cell_type": "markdown",
   "id": "dac0a863",
   "metadata": {},
   "source": [
    "Hello and welcome to this video on encapsulation and abstraction in Python. In this video, we will learn what are encapsulation and abstraction, how to implement them in Python, and what are their benefits.\n",
    "\n",
    "## Encapsulation\n",
    "\n",
    "Encapsulation is a principle of object-oriented programming that means hiding the internal details and state of an object from the outside world, and providing a clear and simple interface to interact with the object. Encapsulation ensures that the object's data and behavior are consistent and valid, and that they cannot be accessed or modified by unauthorized or unintended ways.\n",
    "\n",
    "In Python, we can achieve encapsulation by using access modifiers, which are prefixes that indicate the level of access or visibility of an attribute or a method. There are three types of access modifiers in Python:\n",
    "\n",
    "- Public: This means that the attribute or method can be accessed by anyone, inside or outside the class. By default, all attributes and methods in Python are public, unless specified otherwise. We do not need to use any prefix for public attributes or methods. For example, the name and age attributes of the Person class are public, and can be accessed by anyone.\n",
    "\n"
   ]
  },
  {
   "cell_type": "code",
   "execution_count": null,
   "id": "9baf6543",
   "metadata": {
    "language": "python"
   },
   "outputs": [],
   "source": [
    "class Person:\n",
    "    # public attributes\n",
    "    def __init__(self, name, age):\n",
    "        self.name = name\n",
    "        self.age = age\n"
   ]
  },
  {
   "cell_type": "markdown",
   "id": "5a82f3e4",
   "metadata": {},
   "source": [
    "\n",
    "\n",
    "- Protected: This means that the attribute or method can be accessed only by the class itself and its subclasses, but not by other classes or code. To indicate that an attribute or method is protected, we use a single underscore prefix, such as _name or _age. This is a convention, not a rule, and it does not prevent the access or modification of the attribute or method, but it signals that it is intended for internal use only. For example, the _species attribute of the Animal class is protected, and can be accessed only by the Animal class and its subclasses, such as Dog or Cat.\n",
    "\n"
   ]
  },
  {
   "cell_type": "code",
   "execution_count": null,
   "id": "d9d22463",
   "metadata": {
    "language": "python"
   },
   "outputs": [],
   "source": [
    "class Animal:\n",
    "    # protected attribute\n",
    "    def __init__(self, name, sound):\n",
    "        self.name = name\n",
    "        self.sound = sound\n",
    "        self._species = 'Animal'\n"
   ]
  },
  {
   "cell_type": "markdown",
   "id": "559acd55",
   "metadata": {},
   "source": [
    "\n",
    "\n",
    "- Private: This means that the attribute or method can be accessed only by the class itself, and not by anyone else, including its subclasses. To indicate that an attribute or method is private, we use a double underscore prefix, such as __name or __age. This is also known as name mangling, because Python will automatically change the name of the attribute or method to _ClassName__name or _ClassName__age, where ClassName is the name of the class. This is done to avoid name conflicts with subclasses or other classes that may have the same attribute or method name. For example, the __password attribute of the User class is private, and can be accessed only by the User class itself, and not by anyone else.\n",
    "\n"
   ]
  },
  {
   "cell_type": "code",
   "execution_count": null,
   "id": "855f9f41",
   "metadata": {
    "language": "python"
   },
   "outputs": [],
   "source": [
    "class User:\n",
    "    # private attribute\n",
    "    def __init__(self, username, password):\n",
    "        self.username = username\n",
    "        self.__password = password\n"
   ]
  },
  {
   "cell_type": "markdown",
   "id": "31aee88a",
   "metadata": {},
   "source": [
    "\n",
    "\n",
    "To access or modify the attributes or methods of an object, we use the dot notation, which is the object name followed by a dot and the attribute or method name. However, for private attributes or methods, we need to use the mangled name, which is the object name followed by a dot and the _ClassName__name or _ClassName__age. For example, to access the __password attribute of the user object, we need to write:\n",
    "\n"
   ]
  },
  {
   "cell_type": "code",
   "execution_count": null,
   "id": "bb6fb3e1",
   "metadata": {
    "language": "python"
   },
   "outputs": [],
   "source": [
    "# create a user object\n",
    "user = User('Alice', '1234')\n",
    "# access the private attribute using the mangled name\n",
    "print(user._User__password)\n"
   ]
  },
  {
   "cell_type": "markdown",
   "id": "34733c6f",
   "metadata": {},
   "source": [
    "\n",
    "\n",
    "This will print:\n",
    "\n",
    "1234\n",
    "\n",
    "## Abstraction\n",
    "\n",
    "Abstraction is another principle of object-oriented programming that means providing only the essential and relevant information about an object or a concept, and hiding the unnecessary or complex details. Abstraction simplifies the design and implementation of a system, and makes it easier to understand and use.\n",
    "\n",
    "In Python, we can achieve abstraction by using abstract classes and interfaces. An abstract class is a class that cannot be instantiated, but can only be inherited by other classes. An abstract class defines some abstract methods, which are methods that have no implementation, but only a signature. The subclasses of the abstract class must implement the abstract methods, or they will also become abstract. To create an abstract class in Python, we need to import the ABC (Abstract Base Class) module, and use the @abstractmethod decorator to mark the abstract methods. For example, to create an abstract class called Shape, which defines an abstract method called area, we can write:\n",
    "\n"
   ]
  },
  {
   "cell_type": "code",
   "execution_count": null,
   "id": "5239fa22",
   "metadata": {
    "language": "python"
   },
   "outputs": [],
   "source": [
    "from abc import ABC, abstractmethod\n",
    "\n",
    "class Shape(ABC):\n",
    "    # abstract method\n",
    "    @abstractmethod\n",
    "    def area(self):\n",
    "        pass\n"
   ]
  },
  {
   "cell_type": "markdown",
   "id": "26304b3e",
   "metadata": {},
   "source": [
    "\n",
    "\n",
    "To create a subclass of the abstract class, we need to inherit from the abstract class and implement the abstract method. For example, to create a subclass called Rectangle, which inherits from Shape and implements the area method, we can write:\n",
    "\n"
   ]
  },
  {
   "cell_type": "code",
   "execution_count": null,
   "id": "6c1fa9c8",
   "metadata": {
    "language": "python"
   },
   "outputs": [],
   "source": [
    "class Rectangle(Shape):\n",
    "    # subclass constructor\n",
    "    def __init__(self, length, width):\n",
    "        # subclass attributes\n",
    "        self.length = length\n",
    "        self.width = width\n",
    "\n",
    "    # subclass method\n",
    "    def area(self):\n",
    "        # return the area of the rectangle\n",
    "        return self.length * self.width\n"
   ]
  },
  {
   "cell_type": "markdown",
   "id": "f287176a",
   "metadata": {},
   "source": [
    "\n",
    "\n",
    "To create an object of the subclass, we use the subclass name followed by parentheses that contain the arguments for the subclass constructor. For example, to create a rectangle object, we can write:\n",
    "\n"
   ]
  },
  {
   "cell_type": "code",
   "execution_count": null,
   "id": "4fc5286f",
   "metadata": {
    "language": "python"
   },
   "outputs": [],
   "source": [
    "# create a rectangle object\n",
    "rect = Rectangle(10, 5)\n"
   ]
  },
  {
   "cell_type": "markdown",
   "id": "90dfe8b4",
   "metadata": {},
   "source": [
    "\n",
    "\n",
    "To call the method of the subclass object, we use the dot notation, which is the object name followed by a dot and the method name. For example, to call the area method of the rect object, we can write:\n",
    "\n"
   ]
  },
  {
   "cell_type": "code",
   "execution_count": null,
   "id": "5e762e33",
   "metadata": {
    "language": "python"
   },
   "outputs": [],
   "source": [
    "# call the area method of the rect object\n",
    "print(rect.area())\n"
   ]
  },
  {
   "cell_type": "markdown",
   "id": "fd9febf1",
   "metadata": {},
   "source": [
    "\n",
    "\n",
    "This will print:\n",
    "\n",
    "50\n",
    "\n",
    "An interface is a special type of abstract class that defines only abstract methods, and no attributes or concrete methods. An interface specifies a set of behaviors or functionalities that a class must implement, without defining how they are implemented. A class can implement multiple interfaces, but can inherit from only one abstract class. To create an interface in Python, we use the same syntax as an abstract class, but we do not define any attributes or concrete methods. For example, to create an interface called Flyable, which defines an abstract method called fly, we can write:\n",
    "\n"
   ]
  },
  {
   "cell_type": "code",
   "execution_count": null,
   "id": "15208751",
   "metadata": {
    "language": "python"
   },
   "outputs": [],
   "source": [
    "from abc import ABC, abstractmethod\n",
    "\n",
    "class Flyable(ABC):\n",
    "    # abstract method\n",
    "    @abstractmethod\n",
    "    def fly(self):\n",
    "        pass\n"
   ]
  },
  {
   "cell_type": "markdown",
   "id": "291ac19b",
   "metadata": {},
   "source": [
    "\n",
    "\n",
    "To implement an interface in a class, we need to inherit from the interface and implement the abstract method. For example, to create a class called Bird, which implements the Flyable interface and defines its own attributes and methods, we can write:\n",
    "\n"
   ]
  },
  {
   "cell_type": "code",
   "execution_count": null,
   "id": "ab9e9b72",
   "metadata": {
    "language": "python"
   },
   "outputs": [],
   "source": [
    "class Bird(Flyable):\n",
    "    # class constructor\n",
    "    def __init__(self, name, color):\n",
    "        # class attributes\n",
    "        self.name = name\n",
    "        self.color = color\n",
    "\n",
    "    # class method\n",
    "    def sing(self):\n",
    "        # print a message\n",
    "        print(f\"{self.name} is singing.\")\n",
    "\n",
    "    # implement the abstract method\n",
    "    def fly(self):\n",
    "        # print a message\n",
    "        print(f\"{self.name} is flying.\")\n"
   ]
  },
  {
   "cell_type": "markdown",
   "id": "5fc36660",
   "metadata": {},
   "source": [
    "\n",
    "\n",
    "To create an object of the class, we use the class name followed by parentheses that contain the arguments for the class constructor. For example, to create a bird object, we can write:\n",
    "\n"
   ]
  },
  {
   "cell_type": "code",
   "execution_count": null,
   "id": "f5faa8c8",
   "metadata": {
    "language": "python"
   },
   "outputs": [],
   "source": [
    "# create a bird object\n",
    "bird = Bird(\"Tweety\", \"Yellow\")\n"
   ]
  },
  {
   "cell_type": "markdown",
   "id": "afdbe21f",
   "metadata": {},
   "source": [
    "\n",
    "\n",
    "To call the methods of the class object, we use the dot notation, which is the object name followed by a dot and the method name. For example, to call the sing and fly methods of the bird object, we can write:\n",
    "\n"
   ]
  },
  {
   "cell_type": "code",
   "execution_count": null,
   "id": "0042a3fb",
   "metadata": {
    "language": "python"
   },
   "outputs": [],
   "source": [
    "# call the sing method of the bird object\n",
    "bird.sing()\n",
    "# call the fly method of the bird object\n",
    "bird.fly()\n"
   ]
  },
  {
   "cell_type": "markdown",
   "id": "c8d27389",
   "metadata": {},
   "source": [
    "\n",
    "\n",
    "This will print:\n",
    "\n",
    "Tweety is singing.\n",
    "Tweety is flying.\n",
    "\n",
    "---\n",
    "\n",
    "That's all for this video on encapsulation and abstraction in Python. I hope you learned something useful and enjoyed watching. Thank you for your attention and see you in the next video. Bye!\n",
    "\n",
    "1. Abstraction and Encapsulation in Python - Tutor Joe's. https://www.tutorjoes.in/python_programming_tutorial/abstraction_encap_in_python.\n",
    "2. Encapsulation in Python - GeeksforGeeks. https://www.geeksforgeeks.org/encapsulation-in-python/.\n",
    "3. Abstraction in Python with Example and Detailed Explanation. https://pythonlobby.com/abstraction-in-python-programming/.\n",
    "4. Difference between encapsulation and abstraction in Python - w3resource. https://www.w3resource.com/python-interview/describe-the-difference-between-encapsulation-and-abstraction-in-python.php."
   ]
  }
 ],
 "metadata": {},
 "nbformat": 4,
 "nbformat_minor": 5
}
