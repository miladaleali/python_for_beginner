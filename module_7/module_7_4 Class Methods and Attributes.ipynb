{
 "cells": [
  {
   "cell_type": "markdown",
   "id": "95745d64",
   "metadata": {},
   "source": [
    "\n",
    "Hello and welcome to this video on class methods and attributes in Python. In this video, we will learn what are class methods and attributes, how to define and use them, and what are their advantages.\n",
    "\n",
    "## Introduction to Class Methods\n",
    "\n",
    "A class method is a method that is bound to the class rather than the object of the class. A class method can access or modify the class state, but not the instance state. A class method is useful for creating factory methods that can create different objects of the class with different parameters, or for defining methods that are relevant to the class as a whole, rather than a specific object.\n",
    "\n",
    "To define a class method in Python, we use the @classmethod decorator, which is a built-in function that modifies the behavior of the method. The first parameter of a class method is cls, which points to the class, and not the object. For example, to define a class method called from_string for the Person class, which creates a person object from a string, we can write:\n",
    "\n"
   ]
  },
  {
   "cell_type": "code",
   "execution_count": null,
   "id": "ad34ceb7",
   "metadata": {
    "language": "python"
   },
   "outputs": [],
   "source": [
    "class Person:\n",
    "    # class constructor\n",
    "    def __init__(self, name, age):\n",
    "        # instance attributes\n",
    "        self.name = name\n",
    "        self.age = age\n",
    "\n",
    "    # class method\n",
    "    @classmethod\n",
    "    def from_string(cls, string):\n",
    "        # split the string by comma\n",
    "        name, age = string.split(',')\n",
    "        # return a new person object with the name and age\n",
    "        return cls(name, int(age))\n"
   ]
  },
  {
   "cell_type": "markdown",
   "id": "96e0afef",
   "metadata": {},
   "source": [
    "\n",
    "\n",
    "To call a class method, we can use either the class name or the object name, followed by a dot and the method name, with any arguments inside parentheses. For example, to call the from_string method of the Person class or the alice object, we can write:\n",
    "\n"
   ]
  },
  {
   "cell_type": "code",
   "execution_count": null,
   "id": "698c21ea",
   "metadata": {
    "language": "python"
   },
   "outputs": [],
   "source": [
    "# create a person object\n",
    "alice = Person('Alice', 20)\n",
    "# call the class method using the class name\n",
    "bob = Person.from_string('Bob,25')\n",
    "# call the class method using the object name\n",
    "charlie = alice.from_string('Charlie,30')\n"
   ]
  },
  {
   "cell_type": "markdown",
   "id": "9ae19ae8",
   "metadata": {},
   "source": [
    "\n",
    "\n",
    "This will create three person objects, alice, bob, and charlie, with the names and ages given by the arguments.\n",
    "\n",
    "## Class Attributes\n",
    "\n",
    "A class attribute is an attribute that is shared by all objects of the class, and is defined outside any method. A class attribute can be used to store information or state that is common to all objects of the class, such as constants, default values, or counters. A class attribute can be accessed or modified by using either the class name or the object name, followed by a dot and the attribute name.\n",
    "\n",
    "For example, to define a class attribute called count for the Person class, which keeps track of the number of person objects created, we can write:\n",
    "\n"
   ]
  },
  {
   "cell_type": "code",
   "execution_count": null,
   "id": "8e236174",
   "metadata": {
    "language": "python"
   },
   "outputs": [],
   "source": [
    "class Person:\n",
    "    # class attribute\n",
    "    count = 0\n",
    "\n",
    "    # class constructor\n",
    "    def __init__(self, name, age):\n",
    "        # increment the class attribute by one\n",
    "        Person.count += 1\n",
    "        # instance attributes\n",
    "        self.name = name\n",
    "        self.age = age\n"
   ]
  },
  {
   "cell_type": "markdown",
   "id": "e97812f8",
   "metadata": {},
   "source": [
    "\n",
    "\n",
    "To access or modify the class attribute, we can use either the class name or the object name, followed by a dot and the attribute name. For example, to access the count attribute of the Person class or the alice object, we can write:\n",
    "\n"
   ]
  },
  {
   "cell_type": "code",
   "execution_count": null,
   "id": "65e67283",
   "metadata": {
    "language": "python"
   },
   "outputs": [],
   "source": [
    "# create a person object\n",
    "alice = Person('Alice', 20)\n",
    "# access the class attribute using the class name\n",
    "print(Person.count)\n",
    "# access the class attribute using the object name\n",
    "print(alice.count)\n"
   ]
  }
 ],
 "metadata": {
  "language_info": {
   "name": "python"
  }
 },
 "nbformat": 4,
 "nbformat_minor": 5
}
