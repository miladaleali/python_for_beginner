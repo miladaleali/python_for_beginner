{
 "cells": [
  {
   "cell_type": "markdown",
   "metadata": {},
   "source": [
    "## Basic Input/Output\n",
    "\n",
    "Input and output are essential functions in any programming language, as they allow you to interact with the user and the environment. In Python, you can use the `input` and `print` functions to perform basic input and output operations.\n",
    "\n",
    "### Input Function\n",
    "\n",
    "The input function allows you to take input from the user of your program. You can use the input function by writing `input(prompt)`, where `prompt` is an optional string that you want to display as a message to the user. For example:\n"
   ]
  },
  {
   "cell_type": "code",
   "execution_count": 2,
   "metadata": {},
   "outputs": [
    {
     "name": "stdout",
     "output_type": "stream",
     "text": [
      "Hello, milad\n"
     ]
    }
   ],
   "source": [
    "name = input(\"What is your name? \")\n",
    "print(\"Hello, \" + name)"
   ]
  },
  {
   "cell_type": "markdown",
   "metadata": {},
   "source": [
    "\n",
    "This code will display a text box where you can enter your name, and then print a greeting with your name. You can run the code cell by clicking the Run button or pressing Shift+Enter. Here is an example of the output:\n",
    "\n",
    "You can use the input function to get different types of input from the user, such as numbers, strings, lists, etc. However, the input function always returns a string, so you may need to convert the input to the desired data type using type conversion functions, such as `int`, `float`, `list`, etc. For example:\n"
   ]
  },
  {
   "cell_type": "code",
   "execution_count": 3,
   "metadata": {},
   "outputs": [
    {
     "name": "stdout",
     "output_type": "stream",
     "text": [
      "You have lived for 3650 days\n"
     ]
    }
   ],
   "source": [
    "age = input(\"How old are you? \")\n",
    "age = int(age) # convert the input to an integer\n",
    "days = age * 365 # calculate the number of days\n",
    "print(\"You have lived for \" + str(days) + \" days\") # print the result"
   ]
  },
  {
   "cell_type": "markdown",
   "metadata": {},
   "source": [
    "This code will ask the user for their age, convert the input to an integer, and print the number of days they have lived. Here is an example of the output:\n",
    "\n",
    "### Output Function\n",
    "\n",
    "The output function allows you to print values to the console or the standard output stream. You can use the output function by writing `print(value)`, where `value` is any object that you want to display. For example:\n"
   ]
  },
  {
   "cell_type": "code",
   "execution_count": 4,
   "metadata": {},
   "outputs": [
    {
     "name": "stdout",
     "output_type": "stream",
     "text": [
      "10\n",
      "3.14\n",
      "Python\n"
     ]
    }
   ],
   "source": [
    "x = 10\n",
    "y = 3.14\n",
    "z = \"Python\"\n",
    "print(x) # print an integer\n",
    "print(y) # print a float\n",
    "print(z) # print a string"
   ]
  },
  {
   "cell_type": "markdown",
   "metadata": {},
   "source": [
    "\n",
    "You can also print multiple values in one line by separating them with commas. For example:\n"
   ]
  },
  {
   "cell_type": "code",
   "execution_count": 5,
   "metadata": {},
   "outputs": [
    {
     "name": "stdout",
     "output_type": "stream",
     "text": [
      "10 3.14 Python\n"
     ]
    }
   ],
   "source": [
    "x = 10\n",
    "y = 3.14\n",
    "z = \"Python\"\n",
    "print(x, y, z) # print three values in one line"
   ]
  },
  {
   "cell_type": "markdown",
   "metadata": {},
   "source": [
    "You can also format the output of the print function by using placeholders, modifiers, and formatting specifiers. For example, you can use the `f` prefix and curly braces to insert variables or expressions into a string. For example:\n"
   ]
  },
  {
   "cell_type": "code",
   "execution_count": 6,
   "metadata": {},
   "outputs": [
    {
     "name": "stdout",
     "output_type": "stream",
     "text": [
      "The value of x is 10\n",
      "The value of y rounded to two decimal places is 3.14\n",
      "The first letter of z is P\n"
     ]
    }
   ],
   "source": [
    "x = 10\n",
    "y = 3.14\n",
    "z = \"Python\"\n",
    "print(f\"The value of x is {x}\") # use f-string and placeholder\n",
    "print(f\"The value of y rounded to two decimal places is {round(y, 2)}\") # use f-string and expression\n",
    "print(f\"The first letter of z is {z[0]}\") # use f-string and indexing"
   ]
  }
 ],
 "metadata": {
  "kernelspec": {
   "display_name": "Python 3",
   "language": "python",
   "name": "python3"
  },
  "language_info": {
   "codemirror_mode": {
    "name": "ipython",
    "version": 3
   },
   "file_extension": ".py",
   "mimetype": "text/x-python",
   "name": "python",
   "nbconvert_exporter": "python",
   "pygments_lexer": "ipython3",
   "version": "3.11.3"
  }
 },
 "nbformat": 4,
 "nbformat_minor": 2
}
