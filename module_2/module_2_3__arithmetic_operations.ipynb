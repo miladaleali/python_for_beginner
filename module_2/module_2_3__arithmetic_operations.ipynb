{
 "cells": [
  {
   "cell_type": "markdown",
   "metadata": {},
   "source": [
    "## Arithmetic Operations\n",
    "\n",
    "Arithmetic operations are mathematical operations that involve numbers, such as addition, subtraction, multiplication, division, etc. In Python, you can use different operators to perform arithmetic operations on numbers, such as integers and floats. Let's look at some of them in more detail.\n",
    "\n",
    "### Basic Arithmetic Operators\n",
    "\n",
    "The basic arithmetic operators in Python are:\n",
    "\n",
    "- `+` for addition\n",
    "- `-` for subtraction\n",
    "- `*` for multiplication\n",
    "- `/` for division\n",
    "\n",
    "You can use these operators to calculate the result of an arithmetic expression, such as `2 + 3`, `10 - 5`, `4 * 2`, `8 / 2`, etc. For example:\n"
   ]
  },
  {
   "cell_type": "code",
   "execution_count": 7,
   "metadata": {},
   "outputs": [
    {
     "name": "stdout",
     "output_type": "stream",
     "text": [
      "5 5 8 4.0\n"
     ]
    }
   ],
   "source": [
    "x = 2 + 3 # add 2 and 3\n",
    "y = 10 - 5 # subtract 5 from 10\n",
    "z = 4 * 2 # multiply 4 by 2\n",
    "w = 8 / 2 # divide 8 by 2\n",
    "print(x, y, z, w) # print the results"
   ]
  },
  {
   "cell_type": "markdown",
   "metadata": {},
   "source": [
    "Notice that the result of dividing two integers is a float, which is a decimal number. This is because Python always returns a float when performing division, even if the result is a whole number. This is to avoid losing any precision or information in the calculation. If you want to get an integer result from division, you can use the floor division operator, which is `//`. For example:\n"
   ]
  },
  {
   "cell_type": "code",
   "execution_count": 8,
   "metadata": {},
   "outputs": [
    {
     "name": "stdout",
     "output_type": "stream",
     "text": [
      "4 4\n"
     ]
    }
   ],
   "source": [
    "\n",
    "x = 8 // 2 # floor divide 8 by 2\n",
    "y = 9 // 2 # floor divide 9 by 2\n",
    "print(x, y) # print the results"
   ]
  },
  {
   "cell_type": "markdown",
   "metadata": {},
   "source": [
    "### Modulus and Exponentiation\n",
    "\n",
    "Two other arithmetic operators in Python are:\n",
    "\n",
    "- `%` for modulus\n",
    "- `**` for exponentiation\n",
    "\n",
    "You can use these operators to perform more advanced calculations on numbers, such as finding the remainder of a division, or raising a number to a power. For example:\n"
   ]
  },
  {
   "cell_type": "code",
   "execution_count": 9,
   "metadata": {},
   "outputs": [
    {
     "name": "stdout",
     "output_type": "stream",
     "text": [
      "1 8\n"
     ]
    }
   ],
   "source": [
    "x = 10 % 3 # find the remainder of dividing 10 by 3\n",
    "y = 2 ** 3 # raise 2 to the power of 3\n",
    "print(x, y) # print the results"
   ]
  },
  {
   "cell_type": "markdown",
   "metadata": {},
   "source": [
    "\n",
    "Notice that the modulus operator returns the remainder of the division, which is 1 in this case. The exponentiation operator returns the result of raising the base to the exponent, which is 8 in this case.\n",
    "\n",
    "### Operator Precedence\n",
    "\n",
    "Operator precedence is the order in which Python evaluates the operators in an arithmetic expression. For example, in the expression `2 + 3 * 4`, Python will first evaluate the multiplication, then the addition, and return the result as 14. This is because multiplication has a higher precedence than addition, so it is performed first.\n",
    "\n",
    "You can use the following table to remember the precedence of the arithmetic operators in Python, from highest to lowest:\n",
    "\n",
    "| Operator | Description |\n",
    "| --- | --- |\n",
    "| `**` | Exponentiation |\n",
    "| `*` `/` `//` `%` | Multiplication, division, floor division, modulus |\n",
    "| `+` `-` | Addition, subtraction |\n",
    "\n",
    "If an expression contains operators with the same precedence, Python will evaluate them from left to right. For example, in the expression `10 - 5 + 2`, Python will first evaluate the subtraction, then the addition, and return the result as 7. This is because subtraction and addition have the same precedence, so they are performed from left to right.\n",
    "\n",
    "You can use parentheses to change the order of operations in an arithmetic expression. For example, if you want to perform the addition before the multiplication in the expression `2 + 3 * 4`, you can write `(2 + 3) * 4`, and Python will return the result as 20. This is because parentheses have the highest precedence of all, so they are evaluated first.\n",
    "\n",
    "You can use parentheses to make your expressions more clear and readable, as well as to achieve the desired result. For example, you can use parentheses to calculate the area of a circle, given its radius:\n"
   ]
  },
  {
   "cell_type": "code",
   "execution_count": 6,
   "metadata": {},
   "outputs": [
    {
     "name": "stdout",
     "output_type": "stream",
     "text": [
      "78.5\n"
     ]
    }
   ],
   "source": [
    "radius = 5\n",
    "area = 3.14 * (radius ** 2) # use parentheses to raise the radius to the power of 2\n",
    "print(area) # print the result"
   ]
  }
 ],
 "metadata": {
  "kernelspec": {
   "display_name": "Python 3",
   "language": "python",
   "name": "python3"
  },
  "language_info": {
   "codemirror_mode": {
    "name": "ipython",
    "version": 3
   },
   "file_extension": ".py",
   "mimetype": "text/x-python",
   "name": "python",
   "nbconvert_exporter": "python",
   "pygments_lexer": "ipython3",
   "version": "3.11.3"
  }
 },
 "nbformat": 4,
 "nbformat_minor": 2
}
