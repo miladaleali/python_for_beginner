{
 "cells": [
  {
   "cell_type": "markdown",
   "metadata": {},
   "source": [
    "We will cover the following topics:\n",
    "- Introduction to loops\n",
    "- for loop\n",
    "    - Iterating over sequences (strings, lists, etc.)\n",
    "    - Range function\n",
    "- while loop\n",
    "    - Looping based on a condition\n",
    "    - Infinite loops and how to avoid them\n",
    "- Loop control statements (break, continue)\n",
    "- Examples and practical applications of loops\n",
    "\n",
    "## Introduction to loops\n",
    "\n",
    "A loop is a programming construct that allows us to execute a block of code repeatedly, as long as a certain condition is met. Loops are useful when we want to perform the same task on different values, or when we want to run a task a specific number of times.\n",
    "\n",
    "There are two types of loops in Python: for loops and while loops. In this video, we will focus on for loops. We will learn about while loops in the next video.\n",
    "\n",
    "## for loop\n",
    "\n",
    "A for loop is a type of loop that iterates over a sequence of values, such as a string, a list, a tuple, a dictionary, a set, or a range. For each value in the sequence, the loop executes a block of code. The syntax of a for loop is:\n",
    "\n",
    "```python\n",
    "for variable in sequence:\n",
    "    # do something\n",
    "```\n",
    "\n",
    "The `for` keyword is followed by a variable name, which can be any valid identifier. The variable name is followed by the `in` keyword, which is followed by a sequence of values. The sequence is followed by a colon, and then a block of code that is indented by four spaces. The block of code is executed for each value in the sequence.\n",
    "\n",
    "For example, suppose we have a list of fruits, and we want to print each fruit in the list. We can use a for loop to iterate over the list and print each element:\n"
   ]
  },
  {
   "cell_type": "code",
   "execution_count": 1,
   "metadata": {},
   "outputs": [
    {
     "name": "stdout",
     "output_type": "stream",
     "text": [
      "apple\n",
      "banana\n",
      "cherry\n"
     ]
    }
   ],
   "source": [
    "\n",
    "fruits = [\"apple\", \"banana\", \"cherry\"]\n",
    "for fruit in fruits:\n",
    "    print(fruit)"
   ]
  },
  {
   "cell_type": "markdown",
   "metadata": {},
   "source": [
    "The variable name `fruit` is arbitrary, and we can use any name we want. The variable `fruit` takes the value of each element in the list `fruits`, one by one. For each value, the code `print(fruit)` is executed, and the value is printed.\n",
    "\n",
    "### Iterating over sequences\n",
    "\n",
    "We can use a for loop to iterate over any sequence of values in Python, not just lists. For example, we can iterate over a string, and print each character in the string:\n"
   ]
  },
  {
   "cell_type": "code",
   "execution_count": 2,
   "metadata": {},
   "outputs": [
    {
     "name": "stdout",
     "output_type": "stream",
     "text": [
      "P\n",
      "y\n",
      "t\n",
      "h\n",
      "o\n",
      "n\n"
     ]
    }
   ],
   "source": [
    "\n",
    "word = \"Python\"\n",
    "for letter in word:\n",
    "    print(letter)"
   ]
  },
  {
   "cell_type": "markdown",
   "metadata": {},
   "source": [
    "\n",
    "We can also iterate over a tuple, which is an ordered and immutable sequence of values:\n"
   ]
  },
  {
   "cell_type": "code",
   "execution_count": 3,
   "metadata": {},
   "outputs": [
    {
     "name": "stdout",
     "output_type": "stream",
     "text": [
      "red\n",
      "green\n",
      "blue\n"
     ]
    }
   ],
   "source": [
    "\n",
    "colors = (\"red\", \"green\", \"blue\")\n",
    "for color in colors:\n",
    "    print(color)\n"
   ]
  },
  {
   "cell_type": "markdown",
   "metadata": {},
   "source": [
    "\n",
    "We can also iterate over a dictionary, which is an unordered and mutable collection of key-value pairs:\n"
   ]
  },
  {
   "cell_type": "code",
   "execution_count": 4,
   "metadata": {},
   "outputs": [
    {
     "name": "stdout",
     "output_type": "stream",
     "text": [
      "name Alice\n",
      "age 25\n",
      "gender female\n"
     ]
    }
   ],
   "source": [
    "\n",
    "person = {\"name\": \"Alice\", \"age\": 25, \"gender\": \"female\"}\n",
    "for key in person:\n",
    "    print(key, person[key])"
   ]
  },
  {
   "cell_type": "markdown",
   "metadata": {},
   "source": [
    "Note that when we iterate over a dictionary, we get the keys of the dictionary, not the values. To access the values, we need to use the key as an index, like `person[key]`. Alternatively, we can use the `items()` method of the dictionary, which returns a sequence of tuples containing the key and the value:\n"
   ]
  },
  {
   "cell_type": "code",
   "execution_count": 5,
   "metadata": {},
   "outputs": [
    {
     "name": "stdout",
     "output_type": "stream",
     "text": [
      "name Alice\n",
      "age 25\n",
      "gender female\n"
     ]
    }
   ],
   "source": [
    "person = {\"name\": \"Alice\", \"age\": 25, \"gender\": \"female\"}\n",
    "for key, value in person.items():\n",
    "    print(key, value)"
   ]
  },
  {
   "cell_type": "markdown",
   "metadata": {},
   "source": [
    "We can also iterate over a set, which is an unordered and mutable collection of unique values:"
   ]
  },
  {
   "cell_type": "code",
   "execution_count": 6,
   "metadata": {},
   "outputs": [
    {
     "name": "stdout",
     "output_type": "stream",
     "text": [
      "1\n",
      "2\n",
      "3\n",
      "4\n",
      "5\n"
     ]
    }
   ],
   "source": [
    "numbers = {1, 2, 3, 4, 5}\n",
    "for number in numbers:\n",
    "    print(number)"
   ]
  },
  {
   "cell_type": "markdown",
   "metadata": {},
   "source": [
    "\n",
    "Note that the order of the values in the set is not guaranteed, and may vary each time we run the program.\n",
    "\n",
    "### Range function\n",
    "\n",
    "Another way of creating a sequence of values to iterate over is using the `range()` function. The `range()` function returns a sequence of numbers, starting from 0 by default, and increments by 1 by default, and stops before a specified number. The syntax of the `range()` function is:\n",
    "\n",
    "```python\n",
    "range(start, stop, step)\n",
    "```\n",
    "\n",
    "The `start` parameter is the starting value of the sequence, and it is optional. The default value is 0.\n",
    "\n",
    "The `stop` parameter is the ending value of the sequence, and it is required. The sequence stops before this value, and does not include it.\n",
    "\n",
    "The `step` parameter is the increment value of the sequence, and it is optional. The default value is 1.\n",
    "\n",
    "For example, we can use the `range()` function to create a sequence of numbers from 0 to 9, and print them:"
   ]
  },
  {
   "cell_type": "code",
   "execution_count": 8,
   "metadata": {},
   "outputs": [
    {
     "name": "stdout",
     "output_type": "stream",
     "text": [
      "0\n",
      "1\n",
      "2\n",
      "3\n",
      "4\n",
      "5\n",
      "6\n",
      "7\n",
      "8\n",
      "9\n"
     ]
    }
   ],
   "source": [
    "for i in range(10):\n",
    "    print(i)\n"
   ]
  },
  {
   "cell_type": "markdown",
   "metadata": {},
   "source": [
    "Note that the sequence does not include 10, because the `range()` function stops before the `stop` parameter.\n",
    "\n",
    "We can also specify the `start` and `step` parameters, and create different sequences. For example, we can create a sequence of numbers from 5 to 15, with a step of 2, and print them:"
   ]
  },
  {
   "cell_type": "code",
   "execution_count": 9,
   "metadata": {},
   "outputs": [
    {
     "name": "stdout",
     "output_type": "stream",
     "text": [
      "5\n",
      "7\n",
      "9\n",
      "11\n",
      "13\n",
      "15\n"
     ]
    }
   ],
   "source": [
    "for i in range(5, 16, 2):\n",
    "    print(i)"
   ]
  },
  {
   "cell_type": "markdown",
   "metadata": {},
   "source": [
    "The `range()` function is useful when we want to run a block of code a specific number of times, or when we want to generate a sequence of numbers without creating a list or a tuple."
   ]
  },
  {
   "cell_type": "markdown",
   "metadata": {},
   "source": [
    "\n",
    "## while loop\n",
    "\n",
    "A while loop is a type of loop that executes a block of code as long as a given condition is true. The syntax of a while loop is:\n",
    "\n",
    "```python\n",
    "while condition:\n",
    "    code\n",
    "```\n",
    "\n",
    "The `while` keyword is followed by a condition, which is an expression that evaluates to either `True` or `False`. The condition is followed by a colon, and then a block of code that is indented by four spaces. The block of code is executed repeatedly until the condition becomes false.\n",
    "\n",
    "For example, suppose we want to print the numbers from 1 to 10. We can use a while loop to do that:\n"
   ]
  },
  {
   "cell_type": "code",
   "execution_count": 10,
   "metadata": {},
   "outputs": [
    {
     "name": "stdout",
     "output_type": "stream",
     "text": [
      "1\n",
      "2\n",
      "3\n",
      "4\n",
      "5\n",
      "6\n",
      "7\n",
      "8\n",
      "9\n",
      "10\n"
     ]
    }
   ],
   "source": [
    "# Initialize a variable to store the current number\n",
    "num = 1\n",
    "\n",
    "# Loop until the number is greater than 10\n",
    "while num <= 10:\n",
    "    # Print the number\n",
    "    print(num)\n",
    "    # Increment the number by 1\n",
    "    num = num + 1"
   ]
  },
  {
   "cell_type": "markdown",
   "metadata": {},
   "source": [
    "In this example, the loop starts with `num` equal to 1. The condition `num <= 10` is true, so the code within the loop is executed. The code prints the value of `num` and then increases it by 1. The loop repeats until the value of `num` becomes 11, which makes the condition false. The loop stops and the program moves on to the next line of code.\n",
    "\n",
    "### Infinite loops and how to avoid them\n",
    "\n",
    "One thing to be careful about when using while loops is to avoid creating infinite loops. An infinite loop is a loop that never ends, because the condition never becomes false. For example, if we write a while loop like this:\n",
    "\n",
    "```python\n",
    "while True:\n",
    "    print(\"Hello\")\n",
    "```\n",
    "\n",
    "The condition `True` is always true, so the loop will keep printing \"Hello\" forever, unless we manually stop the program. This is not a desirable behavior, and it can cause the program to crash or freeze.\n",
    "\n",
    "To avoid creating infinite loops, we need to make sure that the condition can eventually become false, or that there is a way to exit the loop using a break statement. A break statement is a loop control statement that terminates the loop and jumps to the next line of code. We will learn more about break statements in the next section.\n",
    "\n",
    "## Loop control statements (break, continue)\n",
    "\n",
    "Loop control statements are statements that change the execution of the loop from its normal sequence. There are two loop control statements in Python: break and continue.\n",
    "\n",
    "The `break` statement is used to exit the loop prematurely, when a certain condition is met. The syntax of the break statement is:\n",
    "\n",
    "```python\n",
    "break\n",
    "```\n",
    "\n",
    "The `break` statement can be used inside a for loop or a while loop. When the break statement is executed, the loop stops and the program moves to the next line of code after the loop.\n",
    "\n",
    "For example, suppose we want to search for a number in a list, and stop the loop when we find it. We can use a break statement to do that:\n"
   ]
  },
  {
   "cell_type": "code",
   "execution_count": 11,
   "metadata": {},
   "outputs": [
    {
     "name": "stdout",
     "output_type": "stream",
     "text": [
      "3 is in the list\n"
     ]
    }
   ],
   "source": [
    "# A list of numbers\n",
    "numbers = [1, 2, 3, 4, 5]\n",
    "\n",
    "# A number to search for\n",
    "target = 3\n",
    "\n",
    "# A variable to store the result\n",
    "found = False\n",
    "\n",
    "# Loop through the list\n",
    "for num in numbers:\n",
    "    # Check if the number is equal to the target\n",
    "    if num == target:\n",
    "        # Set the result to True\n",
    "        found = True\n",
    "        # Exit the loop\n",
    "        break\n",
    "\n",
    "# Print the result\n",
    "if found:\n",
    "    print(target, \"is in the list\")\n",
    "else:\n",
    "    print(target, \"is not in the list\")"
   ]
  },
  {
   "cell_type": "markdown",
   "metadata": {},
   "source": [
    "In this example, the loop iterates over the list of numbers, and compares each number with the target. If the number is equal to the target, the variable `found` is set to `True`, and the break statement is executed. The loop stops and the program prints the result.\n",
    "\n",
    "The `continue` statement is used to skip the current iteration of the loop, and continue with the next iteration. The syntax of the continue statement is:\n",
    "\n",
    "```python\n",
    "continue\n",
    "```\n",
    "\n",
    "The `continue` statement can be used inside a for loop or a while loop. When the continue statement is executed, the loop skips the rest of the code within the loop, and jumps to the next iteration.\n",
    "\n",
    "For example, suppose we want to print only the odd numbers in a list, and skip the even numbers. We can use a continue statement to do that:\n"
   ]
  },
  {
   "cell_type": "code",
   "execution_count": 12,
   "metadata": {},
   "outputs": [
    {
     "name": "stdout",
     "output_type": "stream",
     "text": [
      "1\n",
      "3\n",
      "5\n"
     ]
    }
   ],
   "source": [
    "# A list of numbers\n",
    "numbers = [1, 2, 3, 4, 5]\n",
    "\n",
    "# Loop through the list\n",
    "for num in numbers:\n",
    "    # Check if the number is even\n",
    "    if num % 2 == 0:\n",
    "        # Skip the iteration\n",
    "        continue\n",
    "    # Print the number\n",
    "    print(num)\n"
   ]
  },
  {
   "cell_type": "markdown",
   "metadata": {},
   "source": [
    "In this example, the loop iterates over the list of numbers, and checks if each number is even. If the number is even, the continue statement is executed, and the loop skips the print statement. If the number is odd, the loop prints the number.\n",
    "\n",
    "## Examples and practical applications of loops\n",
    "\n",
    "Now that you have learned the basics of loops and loop control statements in Python, let's see some examples and practical applications of loops.\n",
    "\n",
    "### Example 1: Sum of a list\n",
    "\n",
    "Suppose we want to write a program that calculates the sum of all the elements in a list. We can use a for loop to iterate over the list and add each element to a variable that stores the sum. Here is the code for this program:\n"
   ]
  },
  {
   "cell_type": "code",
   "execution_count": 13,
   "metadata": {},
   "outputs": [
    {
     "name": "stdout",
     "output_type": "stream",
     "text": [
      "The sum is 15\n"
     ]
    }
   ],
   "source": [
    "# A list of numbers\n",
    "numbers = [1, 2, 3, 4, 5]\n",
    "\n",
    "# A variable to store the sum\n",
    "total = 0\n",
    "\n",
    "# Loop through the list\n",
    "for num in numbers:\n",
    "    # Add the number to the sum\n",
    "    total = total + num\n",
    "\n",
    "# Print the sum\n",
    "print(\"The sum is\", total)\n"
   ]
  },
  {
   "cell_type": "markdown",
   "metadata": {},
   "source": [
    "\n",
    "In this example, the loop starts with `total` equal to 0. The loop iterates over the list of numbers, and adds each number to the value of `total`. The loop ends when the list is exhausted, and the program prints the value of `total`.\n",
    "\n",
    "### Example 2: Factorial of a number\n",
    "\n",
    "Suppose we want to write a program that calculates the factorial of a number. The factorial of a number n is the product of all the positive integers from 1 to n. For example, the factorial of 5 is 5 * 4 * 3 * 2 * 1 = 120. We can use a while loop to calculate the factorial of a number. Here is the code for this program:\n"
   ]
  },
  {
   "cell_type": "code",
   "execution_count": 14,
   "metadata": {},
   "outputs": [
    {
     "name": "stdout",
     "output_type": "stream",
     "text": [
      "The factorial is 120\n"
     ]
    }
   ],
   "source": [
    "\n",
    "# A number to find the factorial of\n",
    "n = 5\n",
    "\n",
    "# A variable to store the factorial\n",
    "factorial = 1\n",
    "\n",
    "# Loop until n becomes 0\n",
    "while n > 0:\n",
    "    # Multiply the factorial by n\n",
    "    factorial = factorial * n\n",
    "    # Decrement n by 1\n",
    "    n = n - 1\n",
    "\n",
    "# Print the factorial\n",
    "print(\"The factorial is\", factorial)\n"
   ]
  },
  {
   "cell_type": "markdown",
   "metadata": {},
   "source": [
    "In this example, the loop starts with `n` equal to 5 and `factorial` equal to 1. The loop iterates until `n` becomes 0, and in each iteration, it multiplies the value of `factorial` by `n`, and decrements `n` by 1. The loop ends when `n` becomes 0, and the program prints the value of `factorial`.\n"
   ]
  },
  {
   "cell_type": "markdown",
   "metadata": {},
   "source": [
    "### Example 3: Fibonacci sequence\n",
    "Suppose we want to write a program that generates the Fibonacci sequence. The Fibonacci sequence is a series of numbers where each number is the sum of the previous two numbers. The first two numbers are 1 and 1. For example, the first 10 numbers of the Fibonacci sequence are 1, 1, 2, 3, 5, 8, 13, 21, 34, 55. We can use a while loop to generate the Fibonacci sequence. Here is the code for this program:\n",
    "\n"
   ]
  },
  {
   "cell_type": "code",
   "execution_count": 1,
   "metadata": {},
   "outputs": [
    {
     "name": "stdout",
     "output_type": "stream",
     "text": [
      "1\n",
      "1\n",
      "2\n",
      "3\n",
      "5\n",
      "8\n",
      "13\n",
      "21\n",
      "34\n",
      "55\n"
     ]
    }
   ],
   "source": [
    "# The number of terms to generate\n",
    "n = 10\n",
    "\n",
    "# The first two terms of the sequence\n",
    "a = 1\n",
    "b = 1\n",
    "\n",
    "# A variable to store the current term\n",
    "term = 1\n",
    "\n",
    "# Loop until the term number exceeds n\n",
    "while term <= n:\n",
    "    # Print the current term\n",
    "    print(a)\n",
    "    # Calculate the next term\n",
    "    c = a + b\n",
    "    # Update the values of a and b\n",
    "    a = b\n",
    "    b = c\n",
    "    # Increment the term number by 1\n",
    "    term = term + 1\n"
   ]
  },
  {
   "cell_type": "markdown",
   "metadata": {},
   "source": [
    "In this example, the loop starts with term equal to 1, and a and b equal to the first two terms of the sequence. The loop iterates until term becomes greater than n, and in each iteration, it prints the value of a, calculates the next term by adding a and b, updates the values of a and b, and increments term by 1. The loop ends when term becomes 11, and the program prints the first 10 terms of the Fibonacci sequence"
   ]
  },
  {
   "cell_type": "markdown",
   "metadata": {},
   "source": []
  }
 ],
 "metadata": {
  "kernelspec": {
   "display_name": "Python 3",
   "language": "python",
   "name": "python3"
  },
  "language_info": {
   "codemirror_mode": {
    "name": "ipython",
    "version": 3
   },
   "file_extension": ".py",
   "mimetype": "text/x-python",
   "name": "python",
   "nbconvert_exporter": "python",
   "pygments_lexer": "ipython3",
   "version": "3.11.3"
  }
 },
 "nbformat": 4,
 "nbformat_minor": 2
}
