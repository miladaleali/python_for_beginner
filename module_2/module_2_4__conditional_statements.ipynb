{
 "cells": [
  {
   "cell_type": "markdown",
   "metadata": {},
   "source": [
    "We will cover this topics in this module:\n",
    "- Introduction to conditionals\n",
    "- if statements\n",
    "- elif and else statements\n",
    "- Examples and practice exercises\n",
    "\n",
    "Let's get started!\n",
    "\n",
    "## Introduction to conditionals\n",
    "\n",
    "A conditional statement is a statement that evaluates a condition and executes a block of code if the condition is true, or another block of code if the condition is false. For example, suppose we want to print a message based on the value of a variable called age. We can use a conditional statement like this:\n"
   ]
  },
  {
   "cell_type": "code",
   "execution_count": 2,
   "metadata": {},
   "outputs": [
    {
     "name": "stdout",
     "output_type": "stream",
     "text": [
      "You are an adult.\n"
     ]
    }
   ],
   "source": [
    "age = 18\n",
    "if age >= 18:\n",
    "    print(\"You are an adult.\")\n",
    "else:\n",
    "    print(\"You are a minor.\")"
   ]
  },
  {
   "cell_type": "markdown",
   "metadata": {},
   "source": [
    "The condition in this statement is `age >= 18`, which checks if the value of age is greater than or equal to 18. If the condition is true, the code after the `if` keyword is executed, and the message \"You are an adult.\" is printed. If the condition is false, the code after the `else` keyword is executed, and the message \"You are a minor.\" is printed.\n",
    "\n",
    "## if statements\n",
    "\n",
    "The simplest form of a conditional statement is an `if` statement, which has the following syntax:\n",
    "\n",
    "```python\n",
    "if condition:\n",
    "    # do something\n",
    "```\n",
    "\n",
    "The `if` keyword is followed by a condition, which is an expression that evaluates to either `True` or `False`. The condition is followed by a colon, and then a block of code that is indented by four spaces. The block of code is executed only if the condition is true.\n",
    "\n",
    "For example, suppose we have a variable called `score` that stores the score of a quiz. We can use an `if` statement to print a message if the score is above 80:"
   ]
  },
  {
   "cell_type": "code",
   "execution_count": 4,
   "metadata": {},
   "outputs": [
    {
     "name": "stdout",
     "output_type": "stream",
     "text": [
      "You passed the quiz!\n"
     ]
    }
   ],
   "source": [
    "\n",
    "score = 85\n",
    "if score > 80:\n",
    "    print(\"You passed the quiz!\")"
   ]
  },
  {
   "cell_type": "markdown",
   "metadata": {},
   "source": [
    "The condition in this statement is `score > 80`, which checks if the value of score is greater than 80. If the condition is true, the code after the `if` keyword is executed, and the message \"You passed the quiz!\" is printed.\n",
    "\n",
    "## Indentation and code blocks\n",
    "\n",
    "One important thing to note about conditional statements in Python is that they rely on indentation to define code blocks. A code block is a group of statements that are executed together as a unit. In Python, a code block is indicated by a colon and a consistent level of indentation. For example, in the previous `if` statement, the code block consists of one statement: `print(\"You passed the quiz!\")`.\n",
    "\n",
    "Indentation is crucial for Python to understand the structure of your code. If you do not indent your code properly, you will get a syntax error. For example, if we forget to indent the print statement in the previous `if` statement, we will get an error like this:\n"
   ]
  },
  {
   "cell_type": "code",
   "execution_count": 6,
   "metadata": {},
   "outputs": [
    {
     "ename": "IndentationError",
     "evalue": "expected an indented block after 'if' statement on line 2 (2084034800.py, line 3)",
     "output_type": "error",
     "traceback": [
      "\u001b[0;36m  Cell \u001b[0;32mIn[6], line 3\u001b[0;36m\u001b[0m\n\u001b[0;31m    print(\"You passed the quiz!\")\u001b[0m\n\u001b[0m    ^\u001b[0m\n\u001b[0;31mIndentationError\u001b[0m\u001b[0;31m:\u001b[0m expected an indented block after 'if' statement on line 2\n"
     ]
    }
   ],
   "source": [
    "\n",
    "score = 85\n",
    "if score > 80:\n",
    "print(\"You passed the quiz!\")\n"
   ]
  },
  {
   "cell_type": "markdown",
   "metadata": {},
   "source": [
    "To avoid indentation errors, make sure to use four spaces for each level of indentation, and do not mix spaces and tabs. You can also use an editor or an IDE that automatically indents your code for you.\n",
    "\n",
    "## elif and else statements\n",
    "\n",
    "Sometimes, we want to check more than one condition and execute different blocks of code depending on which condition is true. For example, suppose we want to print a message based on the value of a variable called `grade`. We can use an `elif` statement to add more conditions to our `if` statement, and an `else` statement to handle the case when none of the conditions are true. The syntax for an `elif` statement is:\n",
    "\n",
    "```python\n",
    "if condition1:\n",
    "    code1\n",
    "elif condition2:\n",
    "    code2\n",
    "elif condition3:\n",
    "    code3\n",
    "...\n",
    "else:\n",
    "    codeN\n",
    "```\n",
    "\n",
    "The `elif` keyword is short for \"else if\", and it is followed by a condition and a colon, just like the `if` keyword. The `else` keyword is followed by a colon, and it does not have a condition. The `else` block is executed only if none of the previous conditions are true.\n",
    "\n",
    "For example, suppose we have a variable called `grade` that stores the grade of a student. We can use an `elif` statement to print a message based on the value of grade:"
   ]
  },
  {
   "cell_type": "code",
   "execution_count": 7,
   "metadata": {},
   "outputs": [
    {
     "name": "stdout",
     "output_type": "stream",
     "text": [
      "You got a C!\n"
     ]
    }
   ],
   "source": [
    "\n",
    "grade = 75\n",
    "if grade >= 90:\n",
    "    print(\"You got an A!\")\n",
    "elif grade >= 80:\n",
    "    print(\"You got a B!\")\n",
    "elif grade >= 70:\n",
    "    print(\"You got a C!\")\n",
    "elif grade >= 60:\n",
    "    print(\"You got a D!\")\n",
    "else:\n",
    "    print(\"You failed the course!\")"
   ]
  },
  {
   "cell_type": "markdown",
   "metadata": {},
   "source": [
    "The conditions in this statement are checked in order, from top to bottom. If the first condition is true, the code after the `if` keyword is executed, and the rest of the statement is skipped. If the first condition is false, the second condition is checked, and so on. If none of the conditions are true, the code after the `else` keyword is executed.\n",
    "\n",
    "In this example, the first condition is `grade >= 90`, which checks if the value of grade is greater than or equal to 90. This condition is false, so the code after the `if` keyword is not executed, and the next condition is checked. The second condition is `grade >= 80`, which checks if the value of grade is greater than or equal to 80. This condition is also false, so the code after the `elif` keyword is not executed, and the next condition is checked. The third condition is `grade >= 70`, which checks if the value of grade is greater than or equal to 70. This condition is true, so the code after the `elif` keyword is executed, and the message \"You got a C!\" is printed. The rest of the statement is skipped, and the program moves on to the next line of code.\n",
    "\n",
    "## Examples and practice exercises\n",
    "\n",
    "Now that you have learned the basics of conditional statements in Python, let's see some examples of how they can be used in different scenarios. You can also try to solve some practice exercises to test your understanding.\n",
    "\n",
    "### Example 1: Odd or even\n",
    "\n",
    "Suppose we want to write a program that asks the user to enter a number and prints whether the number is odd or even. We can use a conditional statement to check if the number is divisible by 2, which means it is even. Otherwise, the number is odd. Here is the code for this program:\n"
   ]
  },
  {
   "cell_type": "code",
   "execution_count": 8,
   "metadata": {},
   "outputs": [
    {
     "name": "stdout",
     "output_type": "stream",
     "text": [
      "12 is even.\n"
     ]
    }
   ],
   "source": [
    "# Ask the user to enter a number\n",
    "number = int(input(\"Enter a number: \"))\n",
    "\n",
    "# Check if the number is divisible by 2\n",
    "if number % 2 == 0:\n",
    "    # If yes, print that the number is even\n",
    "    print(number, \"is even.\")\n",
    "else:\n",
    "    # If no, print that the number is odd\n",
    "    print(number, \"is odd.\")\n"
   ]
  },
  {
   "cell_type": "markdown",
   "metadata": {},
   "source": [
    "The `input` function returns a string, so we need to convert it to an integer using the `int` function. The `%` operator returns the remainder of the division, so `number % 2` returns 0 if the number is divisible by 2, and a non-zero value otherwise. The `==` operator checks if two values are equal, so `number % 2 == 0` evaluates to `True` if the number is even, and `False` if the number is odd.\n",
    "\n",
    "## Example 2: Leap year\n",
    "Suppose we want to write a program that asks the user to enter a year and prints whether the year is a leap year or not. A leap year is a year that has 366 days instead of 365, and it occurs every four years, except if the year is divisible by 100, unless the year is also divisible by 400. For example, 2000 and 2020 are leap years, but 1900 and 2021 are not. We can use a conditional statement to check these conditions and print the appropriate message. Here is the code for this program:\n"
   ]
  },
  {
   "cell_type": "code",
   "execution_count": 9,
   "metadata": {},
   "outputs": [
    {
     "name": "stdout",
     "output_type": "stream",
     "text": [
      "2013 is not a leap year.\n"
     ]
    }
   ],
   "source": [
    "# Ask the user to enter a year\n",
    "year = int(input(\"Enter a year: \"))\n",
    "\n",
    "# Check if the year is divisible by 4\n",
    "if year % 4 == 0:\n",
    "    # If yes, check if the year is divisible by 100\n",
    "    if year % 100 == 0:\n",
    "        # If yes, check if the year is divisible by 400\n",
    "        if year % 400 == 0:\n",
    "            # If yes, print that the year is a leap year\n",
    "            print(year, \"is a leap year.\")\n",
    "        else:\n",
    "            # If no, print that the year is not a leap year\n",
    "            print(year, \"is not a leap year.\")\n",
    "    else:\n",
    "        # If no, print that the year is a leap year\n",
    "        print(year, \"is a leap year.\")\n",
    "else:\n",
    "    # If no, print that the year is not a leap year\n",
    "    print(year, \"is not a leap year.\")"
   ]
  },
  {
   "cell_type": "markdown",
   "metadata": {},
   "source": [
    "In this program, we use nested conditional statements to check the different conditions. A nested conditional statement is a conditional statement inside another conditional statement. We use indentation to indicate the level of nesting. The innermost conditional statement is executed only if the outer conditions are true.\n",
    "\n",
    "In this example, the first condition is year % 4 == 0, which checks if the year is divisible by 4. If the condition is true, the code after the if keyword is executed, and the next condition is checked. If the condition is false, the code after the else keyword is executed, and the program ends.\n",
    "\n",
    "The second condition is year % 100 == 0, which checks if the year is divisible by 100. If the condition is true, the code after the if keyword is executed, and the next condition is checked. If the condition is false, the code after the else keyword is executed, and the program ends.\n",
    "\n",
    "The third condition is year % 400 == 0, which checks if the year is divisible by 400. If the condition is true, the code after the if keyword is executed, and the message “year is a leap year” is printed. If the condition is false, the code after the else keyword is executed, and the message “year is not a leap year” is printed."
   ]
  }
 ],
 "metadata": {
  "kernelspec": {
   "display_name": "Python 3",
   "language": "python",
   "name": "python3"
  },
  "language_info": {
   "name": "python",
   "version": "3.11.3"
  }
 },
 "nbformat": 4,
 "nbformat_minor": 2
}
