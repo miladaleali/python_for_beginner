{
 "cells": [
  {
   "cell_type": "markdown",
   "metadata": {},
   "source": [
    "# Introduction to variables"
   ]
  },
  {
   "cell_type": "markdown",
   "metadata": {},
   "source": [
    "A variable is a name that refers to a value stored in memory. You can think of a variable as a container that holds some data. For example, you can create a variable called name and assign it the value \"Alice\" like this:"
   ]
  },
  {
   "cell_type": "code",
   "execution_count": 1,
   "metadata": {},
   "outputs": [],
   "source": [
    "name = 'Alice'"
   ]
  },
  {
   "cell_type": "markdown",
   "metadata": {},
   "source": [
    "Now, the variable name contains the string \"Alice\". You can use the variable name to access or modify the value. For example, you can print the value of name using the print function:"
   ]
  },
  {
   "cell_type": "code",
   "execution_count": 2,
   "metadata": {},
   "outputs": [
    {
     "name": "stdout",
     "output_type": "stream",
     "text": [
      "Alice\n"
     ]
    }
   ],
   "source": [
    "print(name)"
   ]
  },
  {
   "cell_type": "markdown",
   "metadata": {},
   "source": [
    "You can also change the value of name by assigning it a new value:"
   ]
  },
  {
   "cell_type": "code",
   "execution_count": 3,
   "metadata": {},
   "outputs": [
    {
     "name": "stdout",
     "output_type": "stream",
     "text": [
      "Bob\n"
     ]
    }
   ],
   "source": [
    "name = \"Bob\"\n",
    "print(name)"
   ]
  },
  {
   "cell_type": "markdown",
   "metadata": {},
   "source": [
    "Notice that the old value of name is replaced by the new value. A variable can only hold one value at a time."
   ]
  },
  {
   "cell_type": "markdown",
   "metadata": {},
   "source": [
    "## Variable Naming Conventions\n",
    "When you create a variable, you need to follow some rules and conventions for naming it. Here are some of them:\n",
    "\n",
    "1. A variable name must start with a letter or an underscore (_), but not a number or a symbol.\n"
   ]
  },
  {
   "cell_type": "code",
   "execution_count": 5,
   "metadata": {},
   "outputs": [
    {
     "ename": "SyntaxError",
     "evalue": "invalid decimal literal (1529881743.py, line 1)",
     "output_type": "error",
     "traceback": [
      "\u001b[0;36m  Cell \u001b[0;32mIn[5], line 1\u001b[0;36m\u001b[0m\n\u001b[0;31m    1name, !symbol, %var\u001b[0m\n\u001b[0m    ^\u001b[0m\n\u001b[0;31mSyntaxError\u001b[0m\u001b[0;31m:\u001b[0m invalid decimal literal\n"
     ]
    }
   ],
   "source": [
    "1name, !symbol, %var"
   ]
  },
  {
   "cell_type": "markdown",
   "metadata": {},
   "source": [
    "2. A variable name can contain letters, numbers, and underscores, but not spaces or other symbols"
   ]
  },
  {
   "cell_type": "code",
   "execution_count": 7,
   "metadata": {},
   "outputs": [],
   "source": [
    "name1 = 'Ali'\n",
    "name_1 = 'Jack'\n",
    "name____1 = 'Sam'"
   ]
  },
  {
   "cell_type": "code",
   "execution_count": 8,
   "metadata": {},
   "outputs": [
    {
     "ename": "SyntaxError",
     "evalue": "invalid syntax (310609810.py, line 1)",
     "output_type": "error",
     "traceback": [
      "\u001b[0;36m  Cell \u001b[0;32mIn[8], line 1\u001b[0;36m\u001b[0m\n\u001b[0;31m    name 1, name_%, name_!\u001b[0m\n\u001b[0m         ^\u001b[0m\n\u001b[0;31mSyntaxError\u001b[0m\u001b[0;31m:\u001b[0m invalid syntax\n"
     ]
    }
   ],
   "source": [
    "name 1, name_%, name_!"
   ]
  },
  {
   "cell_type": "markdown",
   "metadata": {},
   "source": [
    "3. A variable name cannot be a reserved word in Python, such as if, for, while, etc. These words have special meanings in Python and cannot be used as variable names."
   ]
  },
  {
   "cell_type": "markdown",
   "metadata": {},
   "source": [
    "4. A variable name should be descriptive and meaningful, but not too long. For example, age is a good variable name, but a is too short and the_age_of_the_person_in_years is too long."
   ]
  },
  {
   "cell_type": "markdown",
   "metadata": {},
   "source": [
    "5. A variable name should follow a consistent style, such as pascal case, camel case, or snake case. For example, name, firstName, and first_name are different styles of naming variables. You can choose any style you like, but you should stick to it throughout your code."
   ]
  },
  {
   "cell_type": "code",
   "execution_count": 2,
   "metadata": {},
   "outputs": [],
   "source": [
    "# Camel Case\n",
    "thisIsCamelCase = 1\n",
    "\n",
    "# Snake Case\n",
    "this_is_snake_case = 2\n",
    "\n",
    "# Pascal Case\n",
    "ThisIsPascalCase = 3\n"
   ]
  },
  {
   "cell_type": "markdown",
   "metadata": {},
   "source": [
    "# Data Types\n",
    "A data type is a category of values that have similar characteristics and behaviors. Python has several built-in data types, such as numbers, strings, and booleans. Let’s look at some of them in more detail.\n",
    "\n",
    "### Numeric Types\n",
    "Python has two main numeric types: integers and floats.\n",
    "\n",
    "- An integer is a whole number, such as 1, 0, -5, etc. You can use integers to represent counts, ranks, scores, etc. You can perform arithmetic operations on integers, such as addition, subtraction, multiplication, division, etc. For example:\n"
   ]
  },
  {
   "cell_type": "code",
   "execution_count": 3,
   "metadata": {},
   "outputs": [
    {
     "name": "stdout",
     "output_type": "stream",
     "text": [
      "13\n",
      "7\n",
      "30\n",
      "3.3333333333333335\n"
     ]
    }
   ],
   "source": [
    "x = 10\n",
    "y = 3\n",
    "print(x + y) # prints 13\n",
    "print(x - y) # prints 7\n",
    "print(x * y) # prints 30\n",
    "print(x / y) # prints 3.3333333333333335"
   ]
  },
  {
   "cell_type": "markdown",
   "metadata": {},
   "source": [
    "\n",
    "- A float is a decimal number, such as 3.14, 0.5, -2.7, etc. You can use floats to represent measurements, fractions, ratios, etc. You can also perform arithmetic operations on floats, just like integers. For example:\n"
   ]
  },
  {
   "cell_type": "code",
   "execution_count": 10,
   "metadata": {},
   "outputs": [
    {
     "name": "stdout",
     "output_type": "stream",
     "text": [
      "5.140000000000001\n",
      "1.1400000000000001\n",
      "6.28\n",
      "1.57\n"
     ]
    }
   ],
   "source": [
    "x = 3.14\n",
    "y = 2.0\n",
    "print(x + y) # prints 5.14\n",
    "print(x - y) # prints 1.14\n",
    "print(x * y) # prints 6.28\n",
    "print(x / y) # prints 1.57\n"
   ]
  },
  {
   "cell_type": "markdown",
   "metadata": {},
   "source": [
    "You can also mix integers and floats in arithmetic operations, and the result will be a float. For example:\n",
    "\n"
   ]
  },
  {
   "cell_type": "code",
   "execution_count": 11,
   "metadata": {},
   "outputs": [
    {
     "name": "stdout",
     "output_type": "stream",
     "text": [
      "13.0\n",
      "7.0\n",
      "30.0\n",
      "3.3333333333333335\n"
     ]
    }
   ],
   "source": [
    "x = 10\n",
    "y = 3.0\n",
    "print(x + y) # prints 13.0\n",
    "print(x - y) # prints 7.0\n",
    "print(x * y) # prints 30.0\n",
    "print(x / y) # prints 3.3333333333333335\n"
   ]
  },
  {
   "cell_type": "markdown",
   "metadata": {},
   "source": [
    "### String Type\n",
    "A string is a sequence of characters, such as \"Hello\", \"Python\", \"123\", etc. You can use strings to represent text, names, labels, etc. You can create a string by enclosing characters in single quotes (' ') or double quotes (\" \"). For example:\n",
    "\n"
   ]
  },
  {
   "cell_type": "code",
   "execution_count": 13,
   "metadata": {},
   "outputs": [],
   "source": [
    "name = \"Alice\"\n",
    "greeting = 'Hello'"
   ]
  },
  {
   "cell_type": "markdown",
   "metadata": {},
   "source": [
    "You can perform some operations on strings, such as concatenation, slicing, indexing, etc. For example:\n",
    "\n",
    "- Concatenation is joining two or more strings together using the + operator. For example:\n"
   ]
  },
  {
   "cell_type": "code",
   "execution_count": 14,
   "metadata": {},
   "outputs": [
    {
     "name": "stdout",
     "output_type": "stream",
     "text": [
      "Alice Smith\n"
     ]
    }
   ],
   "source": [
    "first_name = \"Alice\"\n",
    "last_name = \"Smith\"\n",
    "full_name = first_name + \" \" + last_name\n",
    "print(full_name) # prints Alice Smith\n"
   ]
  },
  {
   "cell_type": "markdown",
   "metadata": {},
   "source": [
    "- Slicing is extracting a part of a string using the [start:stop:step] notation. For example"
   ]
  },
  {
   "cell_type": "code",
   "execution_count": 15,
   "metadata": {},
   "outputs": [
    {
     "name": "stdout",
     "output_type": "stream",
     "text": [
      "Ali\n",
      "lic\n",
      "Aie\n"
     ]
    }
   ],
   "source": [
    "name = \"Alice\"\n",
    "print(name[0:3]) # prints Ali\n",
    "print(name[1:4]) # prints lic\n",
    "print(name[::2]) # prints Aie\n"
   ]
  },
  {
   "cell_type": "markdown",
   "metadata": {},
   "source": [
    "- Indexing is accessing a single character of a string using the [index] notation. For example:"
   ]
  },
  {
   "cell_type": "code",
   "execution_count": 17,
   "metadata": {},
   "outputs": [
    {
     "name": "stdout",
     "output_type": "stream",
     "text": [
      "A\n",
      "e\n",
      "e\n"
     ]
    }
   ],
   "source": [
    "name = \"Alice\"\n",
    "print(name[0]) # prints A\n",
    "print(name[4]) # prints e\n",
    "print(name[-1]) # prints e"
   ]
  },
  {
   "cell_type": "markdown",
   "metadata": {},
   "source": [
    "### Boolean Type\n",
    "A boolean is a logical value that can be either True or False. You can use booleans to represent conditions, states, outcomes, etc. You can create a boolean by using the keywords True and False, or by using comparison or logical operators. For example:\n",
    "\n"
   ]
  },
  {
   "cell_type": "code",
   "execution_count": 18,
   "metadata": {},
   "outputs": [
    {
     "name": "stdout",
     "output_type": "stream",
     "text": [
      "True\n",
      "False\n",
      "True\n",
      "False\n",
      "5\n",
      "10\n"
     ]
    }
   ],
   "source": [
    "x = 10\n",
    "y = 5\n",
    "print(x > y) # prints True\n",
    "print(x == y) # prints False\n",
    "print(x != y) # prints True\n",
    "print(not x) # prints False\n",
    "print(x and y) # prints 5\n",
    "print(x or y) # prints 10"
   ]
  },
  {
   "cell_type": "markdown",
   "metadata": {},
   "source": [
    "> Notice that the and and or operators return one of the operands, not a boolean value.\n",
    "> - The and operator evaluates the operands from left to right, and returns the first one that is falsy, or the last one if all are truthy. In Python, falsy values include False, 0, None, \"\", [], {}, etc. Truthy values are any values that are not falsy.\n",
    "> - The or operator evaluates the operands from left to right, and returns the first one that is truthy, or the last one if all are falsy"
   ]
  },
  {
   "cell_type": "code",
   "execution_count": 27,
   "metadata": {},
   "outputs": [
    {
     "name": "stdout",
     "output_type": "stream",
     "text": [
      "False\n",
      "10\n"
     ]
    }
   ],
   "source": [
    "x = False\n",
    "y = 10\n",
    "print(x and y)  # prints False\n",
    "print(x or y)  # prints 10"
   ]
  },
  {
   "cell_type": "markdown",
   "metadata": {},
   "source": [
    "## Type Conversion\n",
    "Type conversion is changing the data type of a value. There are two types of type conversion: implicit and explicit.\n",
    "\n",
    "- Implicit type conversion is when Python automatically converts one data type to another, without any explicit instruction from the programmer. This usually happens when you mix different data types in an operation, and Python tries to make them compatible. For example, when you add an integer and a float, Python implicitly converts the integer to a float, and returns a float as the result. For example:\n"
   ]
  },
  {
   "cell_type": "code",
   "execution_count": 28,
   "metadata": {},
   "outputs": [
    {
     "name": "stdout",
     "output_type": "stream",
     "text": [
      "13.14\n",
      "<class 'float'>\n"
     ]
    }
   ],
   "source": [
    "x = 10\n",
    "y = 3.14\n",
    "z = x + y\n",
    "print(z) # prints 13.14\n",
    "print(type(z)) # prints <class 'float'>\n"
   ]
  },
  {
   "cell_type": "markdown",
   "metadata": {},
   "source": [
    "- Explicit type conversion is when you manually convert one data type to another, using a built-in function or a constructor. This is useful when you want to change the data type of a value for a specific purpose, such as formatting, calculation, comparison, etc. For example, you can convert a string to an integer using the int function, or an integer to a string using the str function. For example:\n"
   ]
  },
  {
   "cell_type": "code",
   "execution_count": 29,
   "metadata": {},
   "outputs": [
    {
     "name": "stdout",
     "output_type": "stream",
     "text": [
      "10\n",
      "<class 'int'>\n",
      "3.14\n",
      "<class 'str'>\n"
     ]
    }
   ],
   "source": [
    "x = \"10\"\n",
    "y = int(x)\n",
    "print(y) # prints 10\n",
    "print(type(y)) # prints <class 'int'>\n",
    "\n",
    "z = 3.14\n",
    "w = str(z)\n",
    "print(w) # prints 3.14\n",
    "print(type(w)) # prints <class 'str'>\n"
   ]
  },
  {
   "cell_type": "markdown",
   "metadata": {},
   "source": [
    "## Examples and Use Cases\n",
    "Here are some examples and use cases of type conversion in Python:\n",
    "\n",
    "- You can use type conversion to format the output of a print statement. For example, if you want to print a number with two decimal places, you can use the round function to round the number to a float, and then use the str function to convert it to a string. For example:\n"
   ]
  },
  {
   "cell_type": "code",
   "execution_count": 30,
   "metadata": {},
   "outputs": [
    {
     "name": "stdout",
     "output_type": "stream",
     "text": [
      "The value of x is 3.14\n"
     ]
    }
   ],
   "source": [
    "x = 3.14159\n",
    "y = round(x, 2) # rounds x to two decimal places\n",
    "z = str(y) # converts y to a string\n",
    "print(\"The value of x is \" + z) # prints The value of x is 3.14\n"
   ]
  },
  {
   "cell_type": "markdown",
   "metadata": {},
   "source": [
    "- You can use type conversion to perform calculations on user input. For example, if you want to ask the user for their age and calculate how many days they have lived, you can use the input function to get their age as a string, and then use the int function to convert it to an integer. For example:\n"
   ]
  },
  {
   "cell_type": "code",
   "execution_count": 35,
   "metadata": {},
   "outputs": [
    {
     "name": "stdout",
     "output_type": "stream",
     "text": [
      "You have lived for 9125 days\n"
     ]
    }
   ],
   "source": [
    "age = input(\"How old are you? \") # gets the user's age as a string\n",
    "age = int(age) # converts the age to int\n",
    "days = age * 365 # calculates the number of days\n",
    "print(\"You have lived for \" + str(days) + \" days\") # prints the result"
   ]
  }
 ],
 "metadata": {
  "kernelspec": {
   "display_name": "Python 3",
   "language": "python",
   "name": "python3"
  },
  "language_info": {
   "codemirror_mode": {
    "name": "ipython",
    "version": 3
   },
   "file_extension": ".py",
   "mimetype": "text/x-python",
   "name": "python",
   "nbconvert_exporter": "python",
   "pygments_lexer": "ipython3",
   "version": "3.11.3"
  }
 },
 "nbformat": 4,
 "nbformat_minor": 2
}
