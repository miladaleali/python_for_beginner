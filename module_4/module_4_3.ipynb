{
 "cells": [
  {
   "cell_type": "markdown",
   "id": "c236698a",
   "metadata": {},
   "source": [
    "Hello and welcome to this video on functions and modules in Python. In the previous videos, we learned how to define and call functions, how to use function parameters and return values, and how to create and use custom modules. In this video, we will learn about built-in modules and how to import and use them.\n",
    "\n",
    "## Importing and Using Modules\n",
    "\n",
    "To use a built-in module, we first need to import it using the `import` statement. The syntax is as follows:\n",
    "\n"
   ]
  },
  {
   "cell_type": "code",
   "execution_count": null,
   "id": "73b94d26",
   "metadata": {
    "language": "python"
   },
   "outputs": [],
   "source": [
    "import module_name\n"
   ]
  },
  {
   "cell_type": "markdown",
   "id": "4de19d24",
   "metadata": {},
   "source": [
    "\n",
    "\n",
    "For example, to import the `math` module, we would write:\n",
    "\n"
   ]
  },
  {
   "cell_type": "code",
   "execution_count": 1,
   "id": "03e0dc9e",
   "metadata": {
    "language": "python"
   },
   "outputs": [],
   "source": [
    "import math\n"
   ]
  },
  {
   "cell_type": "markdown",
   "id": "8eaa56e9",
   "metadata": {},
   "source": [
    "\n",
    "\n",
    "Once imported, we can access the functions and variables defined within the module using their module-qualified names. For instance, to calculate the sine of 30 degrees using the `math` module, we would write:\n",
    "\n"
   ]
  },
  {
   "cell_type": "code",
   "execution_count": null,
   "id": "cce58b18",
   "metadata": {
    "language": "python"
   },
   "outputs": [],
   "source": [
    "import math\n",
    "\n",
    "result = math.sin(30)\n",
    "print(result)\n"
   ]
  },
  {
   "cell_type": "markdown",
   "id": "0c4067bd",
   "metadata": {},
   "source": [
    "\n",
    "\n",
    "We can also alias modules to give them a shorter and more convenient name. For example, to alias the `math` module as `m`, we would write:\n",
    "\n"
   ]
  },
  {
   "cell_type": "code",
   "execution_count": 2,
   "id": "21f54345",
   "metadata": {
    "language": "python"
   },
   "outputs": [
    {
     "name": "stdout",
     "output_type": "stream",
     "text": [
      "-0.9880316240928618\n"
     ]
    }
   ],
   "source": [
    "import math as m\n",
    "\n",
    "result = m.sin(30)\n",
    "print(result)\n"
   ]
  },
  {
   "cell_type": "code",
   "execution_count": 4,
   "metadata": {},
   "outputs": [
    {
     "name": "stdout",
     "output_type": "stream",
     "text": [
      "-0.9880316240928618\n"
     ]
    }
   ],
   "source": [
    "from math import sin\n",
    "\n",
    "result = sin(30)\n",
    "print(result)"
   ]
  },
  {
   "cell_type": "markdown",
   "id": "a3f7e7d3",
   "metadata": {},
   "source": [
    "\n",
    "\n",
    "## Introduction to Built-in Modules\n",
    "\n",
    "A module is a file that contains Python code, such as functions, variables, classes, or constants, that can be imported and used in other files or programs. Modules are useful for organizing and reusing code, avoiding name conflicts, and extending the functionality of Python.\n",
    "\n",
    "Python comes with a large collection of standard modules, also known as the standard library, that provide various features and tools for common tasks and problems. Some of the common modules are:\n",
    "\n",
    "- math: This module provides mathematical functions and constants, such as trigonometric functions, logarithmic functions, pi, e, etc.\n",
    "- random: This module provides functions for generating random numbers and choices, such as randint, choice, shuffle, etc.\n",
    "- datetime: This module provides classes and functions for working with dates and times, such as date, time, datetime, timedelta, etc.\n",
    "- os: This module provides functions for interacting with the operating system, such as creating, deleting, or renaming files and directories, getting the current working directory, executing commands, etc.\n",
    "- sys: This module provides functions and variables for accessing system-specific information and functionality, such as the Python version, the command-line arguments, the standard input and output streams, etc.\n",
    "- re: This module provides functions and classes for performing regular expression operations, such as searching, matching, replacing, or splitting strings based on patterns.\n",
    "- json: This module provides functions for encoding and decoding data in JSON format, which is a common data interchange format used on the web and in APIs.\n",
    "- requests: This module provides functions and classes for making HTTP requests and handling responses, such as get, post, put, delete, etc.\n",
    "\n",
    "There are many more modules in the standard library that cover various domains and topics, such as data structures, algorithms, networking, databases, testing, debugging, etc. You can find the complete list and documentation of the standard modules on the official Python website: https://docs.python.org/3/library/\n",
    "\n",
    "To use a module in your code, you need to import it using the import statement. The import statement allows you to access the functions, variables, classes, or constants defined in the module by using the module name as a prefix. For example, to use the math module, you can write:\n",
    "\n"
   ]
  },
  {
   "cell_type": "code",
   "execution_count": null,
   "id": "6aba9d68",
   "metadata": {
    "language": "python"
   },
   "outputs": [],
   "source": [
    "import math\n"
   ]
  },
  {
   "cell_type": "markdown",
   "id": "6b795f5a",
   "metadata": {},
   "source": [
    "\n",
    "\n",
    "Then, you can use the math module's functions and constants by writing:\n",
    "\n"
   ]
  },
  {
   "cell_type": "code",
   "execution_count": null,
   "id": "a76c7314",
   "metadata": {
    "language": "python"
   },
   "outputs": [],
   "source": [
    "math.sqrt(25) # returns 5.0\n",
    "math.pi # returns 3.141592653589793\n"
   ]
  },
  {
   "cell_type": "markdown",
   "id": "204b1033",
   "metadata": {},
   "source": [
    "\n",
    "\n",
    "You can also import a specific function, variable, class, or constant from a module by using the from ... import ... syntax. This allows you to access the imported item without using the module name as a prefix. For example, to import the sqrt function and the pi constant from the math module, you can write:\n",
    "\n"
   ]
  },
  {
   "cell_type": "code",
   "execution_count": null,
   "id": "491a362c",
   "metadata": {
    "language": "python"
   },
   "outputs": [],
   "source": [
    "from math import sqrt, pi\n"
   ]
  },
  {
   "cell_type": "markdown",
   "id": "3f69aa6b",
   "metadata": {},
   "source": [
    "\n",
    "\n",
    "Then, you can use the sqrt function and the pi constant by writing:\n",
    "\n"
   ]
  },
  {
   "cell_type": "code",
   "execution_count": null,
   "id": "8f98ccb7",
   "metadata": {
    "language": "python"
   },
   "outputs": [],
   "source": [
    "sqrt(25) # returns 5.0\n",
    "pi # returns 3.141592653589793\n"
   ]
  },
  {
   "cell_type": "markdown",
   "id": "d13d3f5b",
   "metadata": {},
   "source": [
    "\n",
    "\n",
    "You can also import all the items from a module by using the asterisk * as a wildcard. However, this is not recommended, as it can cause name conflicts and make your code less readable and maintainable. For example, to import everything from the math module, you can write:\n",
    "\n"
   ]
  },
  {
   "cell_type": "code",
   "execution_count": null,
   "id": "f5914375",
   "metadata": {
    "language": "python"
   },
   "outputs": [],
   "source": [
    "from math import *\n"
   ]
  },
  {
   "cell_type": "markdown",
   "id": "e793daa5",
   "metadata": {},
   "source": [
    "\n",
    "\n",
    "Then, you can use any item from the math module by writing:\n",
    "\n"
   ]
  },
  {
   "cell_type": "code",
   "execution_count": null,
   "id": "55cb6120",
   "metadata": {
    "language": "python"
   },
   "outputs": [],
   "source": [
    "sqrt(25) # returns 5.0\n",
    "pi # returns 3.141592653589793\n"
   ]
  },
  {
   "cell_type": "markdown",
   "id": "32d33f79",
   "metadata": {},
   "source": [
    "\n",
    "\n",
    "Let's see an example of how to import and use built-in modules in Python. We will import the random module and use its functions to generate some random numbers and choices:\n",
    "\n"
   ]
  },
  {
   "cell_type": "code",
   "execution_count": null,
   "id": "6a33258b",
   "metadata": {
    "language": "python"
   },
   "outputs": [],
   "source": [
    "import random\n",
    "\n",
    "# Generate a random integer between 1 and 10\n",
    "n = random.randint(1, 10)\n",
    "print(n)\n",
    "\n",
    "# Generate a random floating-point number between 0 and 1\n",
    "x = random.random()\n",
    "print(x)\n",
    "\n",
    "# Generate a random floating-point number between 5 and 10\n",
    "y = random.uniform(5, 10)\n",
    "print(y)\n",
    "\n",
    "# Choose a random element from a list\n",
    "colors = [\"red\", \"green\", \"blue\", \"yellow\", \"pink\"]\n",
    "color = random.choice(colors)\n",
    "print(color)\n",
    "\n",
    "# Shuffle a list\n",
    "numbers = [1, 2, 3, 4, 5]\n",
    "random.shuffle(numbers)\n",
    "print(numbers)\n"
   ]
  },
  {
   "cell_type": "markdown",
   "id": "2742542c",
   "metadata": {},
   "source": [
    "\n",
    "\n",
    "To use the datetime module, we need to import it using the import statement:\n",
    "\n"
   ]
  },
  {
   "cell_type": "code",
   "execution_count": null,
   "id": "1e498c20",
   "metadata": {
    "language": "python"
   },
   "outputs": [],
   "source": [
    "import datetime\n"
   ]
  },
  {
   "cell_type": "markdown",
   "id": "5527214b",
   "metadata": {},
   "source": [
    "\n",
    "\n",
    "Then, we can use the datetime module's classes and functions by using the datetime prefix. For example, to create a date object for the current date, we can use the datetime.date.today() function:\n",
    "\n"
   ]
  },
  {
   "cell_type": "code",
   "execution_count": null,
   "id": "52368d52",
   "metadata": {
    "language": "python"
   },
   "outputs": [],
   "source": [
    "today = datetime.date.today()\n",
    "print(today) # prints 2021-10-29\n"
   ]
  },
  {
   "cell_type": "markdown",
   "id": "0c10429f",
   "metadata": {},
   "source": [
    "\n",
    "\n",
    "To create a time object for a specific time, we can use the datetime.time constructor and pass the hour, minute, second, and microsecond arguments:\n",
    "\n"
   ]
  },
  {
   "cell_type": "code",
   "execution_count": null,
   "id": "0ee63093",
   "metadata": {
    "language": "python"
   },
   "outputs": [],
   "source": [
    "time = datetime.time(10, 30, 15, 500000)\n",
    "print(time) # prints 10:30:15.500000\n"
   ]
  },
  {
   "cell_type": "markdown",
   "id": "1e114937",
   "metadata": {},
   "source": [
    "\n",
    "\n",
    "To create a datetime object for a specific date and time, we can use the datetime.datetime constructor and pass the year, month, day, hour, minute, second, and microsecond arguments:\n",
    "\n"
   ]
  },
  {
   "cell_type": "code",
   "execution_count": null,
   "id": "18fb7a29",
   "metadata": {
    "language": "python"
   },
   "outputs": [],
   "source": [
    "datetime = datetime.datetime(2021, 10, 29, 10, 30, 15, 500000)\n",
    "print(datetime) # prints 2021-10-29 10:30:15.500000\n"
   ]
  },
  {
   "cell_type": "markdown",
   "id": "2ff783ce",
   "metadata": {},
   "source": [
    "\n",
    "\n",
    "To create a timedelta object for a specific duration, we can use the datetime.timedelta constructor and pass the days, seconds, microseconds, milliseconds, minutes, hours, or weeks arguments:\n",
    "\n"
   ]
  },
  {
   "cell_type": "code",
   "execution_count": null,
   "id": "b35a66d3",
   "metadata": {
    "language": "python"
   },
   "outputs": [],
   "source": [
    "duration = datetime.timedelta(days=1, hours=2, minutes=30)\n",
    "print(duration) # prints 1 day, 2:30:00\n"
   ]
  },
  {
   "cell_type": "markdown",
   "id": "9f23d758",
   "metadata": {},
   "source": [
    "\n",
    "\n",
    "To create a timezone object for a specific offset from UTC, we can use the datetime.timezone constructor and pass the offset argument as a timedelta object:\n",
    "\n"
   ]
  },
  {
   "cell_type": "code",
   "execution_count": null,
   "id": "83252486",
   "metadata": {
    "language": "python"
   },
   "outputs": [],
   "source": [
    "offset = datetime.timedelta(hours=5, minutes=30)\n",
    "timezone = datetime.timezone(offset)\n",
    "print(timezone) # prints UTC+05:30\n"
   ]
  },
  {
   "cell_type": "markdown",
   "id": "f0c327a4",
   "metadata": {},
   "source": [
    "\n",
    "\n",
    "We can also use the datetime.timezone.utc constant to represent the UTC timezone:\n",
    "\n"
   ]
  },
  {
   "cell_type": "code",
   "execution_count": null,
   "id": "edaa6ac8",
   "metadata": {
    "language": "python"
   },
   "outputs": [],
   "source": [
    "utc = datetime.timezone.utc\n",
    "print(utc) # prints UTC\n"
   ]
  },
  {
   "cell_type": "markdown",
   "id": "2db7d76c",
   "metadata": {},
   "source": [
    "\n",
    "\n",
    "We can use the datetime module's classes and functions to perform various operations on date, time, datetime, timedelta, and timezone objects. For example, we can:\n",
    "\n",
    "- Get the current date and time in different time zones:\n",
    "\n"
   ]
  },
  {
   "cell_type": "code",
   "execution_count": null,
   "id": "ee55bb46",
   "metadata": {
    "language": "python"
   },
   "outputs": [],
   "source": [
    "import datetime\n",
    "import pytz\n",
    "\n",
    "# Get the current UTC time\n",
    "utc_now = datetime.datetime.now(tz=pytz.utc)\n",
    "print(utc_now) # prints 2021-10-29 17:05:25.651921+00:00\n",
    "\n",
    "# Get the current time in London\n",
    "london_now = utc_now.astimezone(pytz.timezone(\"Europe/London\"))\n",
    "print(london_now) # prints 2021-10-29 18:05:25.651921+01:00\n",
    "\n",
    "# Get the current time in New York\n",
    "new_york_now = utc_now.astimezone(pytz.timezone(\"America/New_York\"))\n",
    "print(new_york_now) # prints 2021-10-29 13:05:25.651921-04:00\n"
   ]
  },
  {
   "cell_type": "markdown",
   "id": "62dbe647",
   "metadata": {},
   "source": [
    "\n",
    "\n",
    "- Compare two datetime objects and find the difference:\n",
    "\n"
   ]
  },
  {
   "cell_type": "code",
   "execution_count": null,
   "id": "e98d3b45",
   "metadata": {
    "language": "python"
   },
   "outputs": [],
   "source": [
    "import datetime\n",
    "\n",
    "# Create two datetime objects\n",
    "dt1 = datetime.datetime(2021, 10, 29, 10, 30, 15)\n",
    "dt2 = datetime.datetime(2021, 10, 30, 12, 45, 30)\n",
    "\n",
    "# Compare the two datetime objects\n",
    "if dt1 < dt2:\n",
    "    print(\"dt1 is earlier than dt2\")\n",
    "elif dt1 > dt2:\n",
    "    print(\"dt1 is later than dt2\")\n",
    "else:\n",
    "    print(\"dt1 and dt2 are equal\")\n",
    "\n",
    "# Find the difference between the two datetime objects\n",
    "diff = dt2 - dt1\n",
    "print(diff) # prints 1 day, 2:15:15\n"
   ]
  },
  {
   "cell_type": "markdown",
   "id": "3763dc49",
   "metadata": {},
   "source": [
    "\n",
    "\n",
    "- Format a datetime object into a string:\n",
    "\n"
   ]
  },
  {
   "cell_type": "code",
   "execution_count": null,
   "id": "fa36d8c3",
   "metadata": {
    "language": "python"
   },
   "outputs": [],
   "source": [
    "import datetime\n",
    "\n",
    "# Create a datetime object\n",
    "dt = datetime.datetime(2021, 10, 29, 10, 30, 15)\n",
    "\n",
    "# Format the datetime object into a string\n",
    "dt_str = dt.strftime(\"%Y-%m-%d %H:%M:%S\")\n",
    "print(dt_str) # prints 2021-10-29 10:30:15\n"
   ]
  },
  {
   "cell_type": "markdown",
   "id": "fdd08b1a",
   "metadata": {},
   "source": [
    "\n",
    "\n",
    "- Parse a string into a datetime object:\n",
    "\n"
   ]
  },
  {
   "cell_type": "code",
   "execution_count": null,
   "id": "abf127ba",
   "metadata": {
    "language": "python"
   },
   "outputs": [],
   "source": [
    "import datetime\n",
    "\n",
    "# Create a string\n",
    "dt_str = \"2021-10-29 10:30:15\"\n",
    "\n",
    "# Parse the string into a datetime object\n",
    "dt = datetime.datetime.strptime(dt_str, \"%Y-%m-%d %H:%M:%S\")\n",
    "print(dt) # prints 2021-10-29 10:30:15\n"
   ]
  },
  {
   "cell_type": "markdown",
   "id": "3df984ba",
   "metadata": {},
   "source": [
    "\n",
    "\n",
    "This is how we can import and use built-in modules in Python. Built-in modules are a great resource for extending the functionality of Python and solving common problems and tasks. In the next section, we will learn how to create and use custom modules."
   ]
  }
 ],
 "metadata": {
  "kernelspec": {
   "display_name": "Python 3",
   "language": "python",
   "name": "python3"
  },
  "language_info": {
   "codemirror_mode": {
    "name": "ipython",
    "version": 3
   },
   "file_extension": ".py",
   "mimetype": "text/x-python",
   "name": "python",
   "nbconvert_exporter": "python",
   "pygments_lexer": "ipython3",
   "version": "3.11.3"
  }
 },
 "nbformat": 4,
 "nbformat_minor": 5
}
