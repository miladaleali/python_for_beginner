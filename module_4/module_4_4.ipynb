{
 "cells": [
  {
   "cell_type": "markdown",
   "id": "6acf3e9f",
   "metadata": {},
   "source": [
    "Hello and welcome to this video on creating and using custom modules in Python. In this video, we will learn how to organize our code into modules, how to create a simple module, and how to import and use custom modules in our programs.\n",
    "\n",
    "## Organizing Code into Modules\n",
    "\n",
    "A module is a file that contains Python code, such as definitions of functions, variables, classes, or other objects. Modules allow us to group related code together and reuse it in different programs. For example, we can create a module that contains functions for performing mathematical operations, and import it in any program that needs those functions.\n",
    "\n",
    "To create a module, we simply need to save our Python code in a file with a .py extension. The name of the file is the name of the module. For example, if we save our code in a file called math_functions.py, the name of the module is math_functions.\n",
    "\n",
    "## Creating a Simple Module\n",
    "\n",
    "Let's see how to create a simple module that contains two functions: one for calculating the factorial of a number, and one for calculating the power of a number. We will also define a variable called PI that holds the value of pi.\n",
    "\n",
    "To create the module, we can write the following code in a file called math_functions.py:\n",
    "\n"
   ]
  },
  {
   "cell_type": "code",
   "execution_count": null,
   "id": "511f1914",
   "metadata": {
    "language": "python"
   },
   "outputs": [],
   "source": [
    "# This is a module that contains some math functions\n",
    "\n",
    "# Define a variable for pi\n",
    "PI = 3.14159\n",
    "\n",
    "# Define a function for factorial\n",
    "def factorial(n):\n",
    "    # Check if n is a positive integer\n",
    "    if n < 0 or not isinstance(n, int):\n",
    "        # Return an error message\n",
    "        return \"Invalid input\"\n",
    "    # Initialize the result to 1\n",
    "    result = 1\n",
    "    # Loop from 1 to n\n",
    "    for i in range(1, n + 1):\n",
    "        # Multiply the result by i\n",
    "        result *= i\n",
    "    # Return the result\n",
    "    return result\n",
    "\n",
    "# Define a function for power\n",
    "def power(x, y):\n",
    "    # Check if x and y are numbers\n",
    "    if not (isinstance(x, (int, float)) and isinstance(y, (int, float))):\n",
    "        # Return an error message\n",
    "        return \"Invalid input\"\n",
    "    # Initialize the result to 1\n",
    "    result = 1\n",
    "    # Loop y times\n",
    "    for i in range(y):\n",
    "        # Multiply the result by x\n",
    "        result *= x\n",
    "    # Return the result\n",
    "    return result\n"
   ]
  },
  {
   "cell_type": "markdown",
   "id": "c368a012",
   "metadata": {},
   "source": [
    "\n",
    "\n",
    "## Importing Custom Modules\n",
    "\n",
    "Once we have created a module, we can import it in any program that needs it. To import a module, we use the import statement, followed by the name of the module. For example, to import the math_functions module, we can write:\n",
    "\n"
   ]
  },
  {
   "cell_type": "code",
   "execution_count": null,
   "id": "b14a654c",
   "metadata": {
    "language": "python"
   },
   "outputs": [],
   "source": [
    "import math_functions\n"
   ]
  },
  {
   "cell_type": "markdown",
   "id": "86ff7084",
   "metadata": {},
   "source": [
    "\n",
    "\n",
    "After importing a module, we can access its functions and variables by using the dot notation. For example, to use the factorial function from the math_functions module, we can write:\n",
    "\n"
   ]
  },
  {
   "cell_type": "code",
   "execution_count": null,
   "id": "123ca465",
   "metadata": {
    "language": "python"
   },
   "outputs": [],
   "source": [
    "math_functions.factorial(5)\n"
   ]
  },
  {
   "cell_type": "markdown",
   "id": "e6b65d9c",
   "metadata": {},
   "source": [
    "\n",
    "\n",
    "This will return the value of 5 factorial, which is 120.\n",
    "\n",
    "We can also use the as keyword to give an alias to a module, which is a shorter or more convenient name. For example, to import the math_functions module as mf, we can write:\n",
    "\n"
   ]
  },
  {
   "cell_type": "code",
   "execution_count": null,
   "id": "bcf6012d",
   "metadata": {
    "language": "python"
   },
   "outputs": [],
   "source": [
    "import math_functions as mf\n"
   ]
  },
  {
   "cell_type": "markdown",
   "id": "29e04a09",
   "metadata": {},
   "source": [
    "\n",
    "\n",
    "Then, we can use the alias to access the module's functions and variables. For example, to use the power function from the math_functions module, we can write:\n",
    "\n"
   ]
  },
  {
   "cell_type": "code",
   "execution_count": null,
   "id": "92250083",
   "metadata": {
    "language": "python"
   },
   "outputs": [],
   "source": [
    "mf.power(2, 3)\n"
   ]
  },
  {
   "cell_type": "markdown",
   "id": "9cb37f90",
   "metadata": {},
   "source": [
    "\n",
    "\n",
    "This will return the value of 2 to the power of 3, which is 8.\n",
    "\n",
    "We can also import specific functions or variables from a module, without importing the whole module. To do this, we use the from keyword, followed by the name of the module, and the import keyword, followed by the names of the functions or variables we want to import. For example, to import only the PI variable and the factorial function from the math_functions module, we can write:\n",
    "\n"
   ]
  },
  {
   "cell_type": "code",
   "execution_count": null,
   "id": "21d6fc27",
   "metadata": {
    "language": "python"
   },
   "outputs": [],
   "source": [
    "from math_functions import PI, factorial\n"
   ]
  },
  {
   "cell_type": "markdown",
   "id": "34f9e2e0",
   "metadata": {},
   "source": [
    "\n",
    "\n",
    "Then, we can use the imported names directly, without using the dot notation or the module name. For example, to use the PI variable and the factorial function, we can write:\n",
    "\n"
   ]
  },
  {
   "cell_type": "code",
   "execution_count": null,
   "id": "34ebabc7",
   "metadata": {
    "language": "python"
   },
   "outputs": [],
   "source": [
    "print(PI)\n",
    "print(factorial(5))\n"
   ]
  },
  {
   "cell_type": "markdown",
   "id": "d88d8c80",
   "metadata": {},
   "source": [
    "\n",
    "\n",
    "This will print the value of pi and the value of 5 factorial, which are 3.14159 and 120, respectively.\n",
    "\n",
    "---\n"
   ]
  }
 ],
 "metadata": {
  "language_info": {
   "name": "python"
  }
 },
 "nbformat": 4,
 "nbformat_minor": 5
}
