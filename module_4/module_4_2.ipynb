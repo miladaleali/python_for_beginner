{
 "cells": [
  {
   "cell_type": "markdown",
   "id": "d6bc27f7",
   "metadata": {},
   "source": [
    "Hello and welcome to this video on functions and modules in Python. In the previous video, we learned how to define and call functions, how to use default and keyword arguments, and how to return values from functions. In this video, we will learn more about function parameters and return values, and how they affect the behavior and output of functions.\n",
    "\n",
    "## Function Parameters and Return Values\n",
    "\n",
    "Function parameters are variables that receive values when the function is called. Function return values are values that are passed back to the caller when the function is executed. Function parameters and return values are important for defining the input and output of functions, and for communicating data between functions.\n",
    "\n",
    "There are two types of function parameters: positional and keyword. Positional parameters are parameters that are identified by their position in the function definition and the function call. For example, in the function definition below, x and y are positional parameters:\n",
    "\n"
   ]
  },
  {
   "cell_type": "code",
   "execution_count": null,
   "id": "23cc27a9",
   "metadata": {
    "language": "python"
   },
   "outputs": [],
   "source": [
    "def add(x, y):\n",
    "    return x + y\n"
   ]
  },
  {
   "cell_type": "markdown",
   "id": "382a634b",
   "metadata": {},
   "source": [
    "\n",
    "\n",
    "To call this function, we need to pass two arguments that match the number and order of the parameters:\n",
    "\n"
   ]
  },
  {
   "cell_type": "code",
   "execution_count": null,
   "id": "7f5b9ebd",
   "metadata": {
    "language": "python"
   },
   "outputs": [],
   "source": [
    "add(3, 4) # returns 7\n"
   ]
  },
  {
   "cell_type": "markdown",
   "id": "fa883dc9",
   "metadata": {},
   "source": [
    "\n",
    "\n",
    "Keyword parameters are parameters that are identified by their name, rather than their position, in the function call. Keyword parameters allow us to pass arguments in any order, and to skip some arguments that have default values. For example, in the function definition below, name and age are keyword parameters, and age has a default value of 20:\n",
    "\n"
   ]
  },
  {
   "cell_type": "code",
   "execution_count": null,
   "id": "f87e084a",
   "metadata": {
    "language": "python"
   },
   "outputs": [],
   "source": [
    "def greet(name, age=20):\n",
    "    print(f\"Hello, {name}! You are {age} years old.\")\n"
   ]
  },
  {
   "cell_type": "markdown",
   "id": "09b66deb",
   "metadata": {},
   "source": [
    "\n",
    "\n",
    "To call this function, we can use the parameter names and assign values to them:\n",
    "\n"
   ]
  },
  {
   "cell_type": "code",
   "execution_count": null,
   "id": "5a6dc0ab",
   "metadata": {
    "language": "python"
   },
   "outputs": [],
   "source": [
    "greet(name=\"Alice\", age=25) # prints Hello, Alice! You are 25 years old.\n",
    "greet(age=30, name=\"Bob\") # prints Hello, Bob! You are 30 years old.\n",
    "greet(name=\"Charlie\") # prints Hello, Charlie! You are 20 years old.\n"
   ]
  },
  {
   "cell_type": "markdown",
   "id": "8c65a5b3",
   "metadata": {},
   "source": [
    "\n",
    "\n",
    "We can also mix positional and keyword arguments, as long as the positional arguments come before the keyword arguments, and the keyword arguments do not repeat the positional arguments. For example, we can call the greet function like this:\n",
    "\n"
   ]
  },
  {
   "cell_type": "code",
   "execution_count": null,
   "id": "bf1d3711",
   "metadata": {
    "language": "python"
   },
   "outputs": [],
   "source": [
    "greet(\"David\", age=35) # prints Hello, David! You are 35 years old.\n"
   ]
  },
  {
   "cell_type": "markdown",
   "id": "2f0d3bc3",
   "metadata": {},
   "source": [
    "\n",
    "\n",
    "But we cannot call it like this:\n",
    "\n"
   ]
  },
  {
   "cell_type": "code",
   "execution_count": null,
   "id": "0e08f264",
   "metadata": {
    "language": "python"
   },
   "outputs": [],
   "source": [
    "greet(age=40, \"Eve\") # SyntaxError: positional argument follows keyword argument\n",
    "greet(\"Frank\", name=\"George\") # TypeError: greet() got multiple values for argument 'name'\n"
   ]
  },
  {
   "cell_type": "markdown",
   "id": "b3377fd4",
   "metadata": {},
   "source": [
    "\n",
    "\n",
    "Function return values are values that are passed back to the caller when the function is executed. To return a value from a function, we use the return keyword, followed by the value or expression that we want to return. The return statement terminates the function execution and passes the value back to the caller. If we do not use a return statement, the function returns None by default.\n",
    "\n",
    "A function can return a single value, or multiple values. To return a single value, we just use the return keyword and the value. For example, the add function returns a single value, which is the sum of the two arguments:\n",
    "\n"
   ]
  },
  {
   "cell_type": "code",
   "execution_count": null,
   "id": "54676bfd",
   "metadata": {
    "language": "python"
   },
   "outputs": [],
   "source": [
    "def add(x, y):\n",
    "    return x + y\n"
   ]
  },
  {
   "cell_type": "markdown",
   "id": "29c901b6",
   "metadata": {},
   "source": [
    "\n",
    "\n",
    "To return multiple values, we can use a comma-separated list of values, or a data structure that can store multiple values, such as a tuple, a list, or a dictionary. For example, the swap function returns two values, which are the swapped versions of the two arguments:\n",
    "\n"
   ]
  },
  {
   "cell_type": "code",
   "execution_count": null,
   "id": "6f2c84d8",
   "metadata": {
    "language": "python"
   },
   "outputs": [],
   "source": [
    "def swap(x, y):\n",
    "    return y, x\n"
   ]
  },
  {
   "cell_type": "markdown",
   "id": "2cdd73d1",
   "metadata": {},
   "source": [
    "\n",
    "\n",
    "We can also use parentheses to enclose the return values, which makes them a tuple:\n",
    "\n"
   ]
  },
  {
   "cell_type": "code",
   "execution_count": null,
   "id": "d19dfd2a",
   "metadata": {
    "language": "python"
   },
   "outputs": [],
   "source": [
    "def swap(x, y):\n",
    "    return (y, x)\n"
   ]
  },
  {
   "cell_type": "markdown",
   "id": "81ede114",
   "metadata": {},
   "source": [
    "\n",
    "\n",
    "To receive the return values from a function, we can assign them to one or more variables, or use them in other expressions or statements. For example, we can assign the return values of the swap function to two variables, a and b:\n",
    "\n"
   ]
  },
  {
   "cell_type": "code",
   "execution_count": null,
   "id": "10ce829e",
   "metadata": {
    "language": "python"
   },
   "outputs": [],
   "source": [
    "a = 10\n",
    "b = 20\n",
    "a, b = swap(a, b) # a becomes 20, b becomes 10\n"
   ]
  },
  {
   "cell_type": "markdown",
   "id": "2fa052a5",
   "metadata": {},
   "source": [
    "\n",
    "\n",
    "We can also use the return values of the swap function in a print statement:\n",
    "\n"
   ]
  },
  {
   "cell_type": "code",
   "execution_count": null,
   "id": "3131955e",
   "metadata": {
    "language": "python"
   },
   "outputs": [],
   "source": [
    "print(swap(3, 4)) # prints (4, 3)\n"
   ]
  },
  {
   "cell_type": "markdown",
   "id": "3c6ea96f",
   "metadata": {},
   "source": [
    "\n",
    "\n",
    "Let's see an example of how to use function parameters and return values in Python. We will define a function that takes a list of numbers as a parameter and returns the minimum, maximum, and average of the numbers:\n",
    "\n"
   ]
  },
  {
   "cell_type": "code",
   "execution_count": null,
   "id": "ce6359f4",
   "metadata": {
    "language": "python"
   },
   "outputs": [],
   "source": [
    "def stats(numbers):\n",
    "    minimum = min(numbers)\n",
    "    maximum = max(numbers)\n",
    "    average = sum(numbers) / len(numbers)\n",
    "    return minimum, maximum, average\n"
   ]
  },
  {
   "cell_type": "markdown",
   "id": "fa85e7c9",
   "metadata": {},
   "source": [
    "\n",
    "\n",
    "We can call this function with a list of numbers and assign the return values to three variables, min, max, and avg:\n",
    "\n"
   ]
  },
  {
   "cell_type": "code",
   "execution_count": null,
   "id": "2ec4c56d",
   "metadata": {
    "language": "python"
   },
   "outputs": [],
   "source": [
    "numbers = [1, 2, 3, 4, 5]\n",
    "min, max, avg = stats(numbers)\n"
   ]
  },
  {
   "cell_type": "markdown",
   "id": "ca48fc56",
   "metadata": {},
   "source": [
    "\n",
    "\n",
    "We can also print the return values of the stats function in a formatted string:\n",
    "\n"
   ]
  },
  {
   "cell_type": "code",
   "execution_count": null,
   "id": "2e5a5a15",
   "metadata": {
    "language": "python"
   },
   "outputs": [],
   "source": [
    "print(f\"The minimum is {min}, the maximum is {max}, and the average is {avg}.\")\n"
   ]
  },
  {
   "cell_type": "markdown",
   "id": "130e01eb",
   "metadata": {},
   "source": [
    "\n",
    "\n",
    "This is how we can use function parameters and return values in Python. Function parameters and return values are important for defining the input and output of functions, and for communicating data between functions. In the next section, we will learn about built-in modules and how to import and use them.\n"
   ]
  }
 ],
 "metadata": {
  "language_info": {
   "name": "python"
  }
 },
 "nbformat": 4,
 "nbformat_minor": 5
}
