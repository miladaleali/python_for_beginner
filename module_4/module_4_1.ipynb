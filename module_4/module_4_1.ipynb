{
  "cells": [
    {
      "cell_type": "markdown",
      "metadata": {},
      "source": [
        "Hello and welcome to this video on functions and modules in Python. In this video, we will learn how to define and call functions, how to use function parameters and return values, how to import and use built-in modules, and how to create and use custom modules."
      ]
    },
    {
      "cell_type": "markdown",
      "metadata": {},
      "source": [
        "## Defining and Calling Functions"
      ]
    },
    {
      "cell_type": "markdown",
      "metadata": {},
      "source": [
        "A function is a block of code that performs a specific task, and can be reused multiple times. Functions are useful for organizing and modularizing code, avoiding repetition, and improving readability and maintainability."
      ]
    },
    {
      "cell_type": "markdown",
      "metadata": {},
      "source": [
        "To define a function, we use the def keyword, followed by the function name and parentheses. Inside the parentheses, we can optionally specify one or more parameters, which are variables that receive values when the function is called. After the parentheses, we use a colon : and indent the next line. The indented block of code is the function body, which contains the statements that define the logic of the function. To end the function definition, we unindent the next line."
      ]
    },
    {
      "cell_type": "markdown",
      "metadata": {},
      "source": [
        "To return a value from a function, we use the return keyword, followed by the value or expression that we want to return. The return statement terminates the function execution and passes the value back to the caller. If we do not use a return statement, the function returns None by default."
      ]
    },
    {
      "cell_type": "markdown",
      "metadata": {},
      "source": [
        "To call a function, we use the function name and parentheses. Inside the parentheses, we can optionally pass one or more arguments, which are values that are assigned to the parameters when the function is called. The arguments must match the number and order of the parameters, unless we use default or keyword arguments."
      ]
    },
    {
      "cell_type": "markdown",
      "metadata": {},
      "source": [
        "Default arguments are arguments that have a default value assigned to them in the function definition, and can be omitted when the function is called. For example, we can define a function that greets a user with their name, and has a default argument for the name:"
      ]
    },
    {
      "cell_type": "code",
      "execution_count": 1,
      "metadata": {},
      "outputs": [],
      "source": [
        "def greet(name=\"user\"):\n",
        "    print(f\"Hello, {name}!\")"
      ]
    },
    {
      "cell_type": "markdown",
      "metadata": {},
      "source": [
        "We can call this function with or without an argument:"
      ]
    },
    {
      "cell_type": "markdown",
      "metadata": {},
      "source": [
        "We can call this function with or without an argument:"
      ]
    },
    {
      "cell_type": "code",
      "execution_count": 2,
      "metadata": {},
      "outputs": [
        {
          "name": "stdout",
          "output_type": "stream",
          "text": [
            "Hello, user!\n",
            "Hello, Alice!\n"
          ]
        }
      ],
      "source": [
        "greet() # prints Hello, user!\n",
        "greet(\"Alice\") # prints Hello, Alice!"
      ]
    },
    {
      "cell_type": "markdown",
      "metadata": {},
      "source": [
        "Keyword arguments are arguments that are identified by the parameter name, rather than the position, when the function is called. Keyword arguments allow us to pass arguments in any order, and to skip some arguments that have default values. For example, we can define a function that calculates the area of a rectangle, and has two parameters for the length and width:"
      ]
    },
    {
      "cell_type": "code",
      "execution_count": 3,
      "metadata": {},
      "outputs": [],
      "source": [
        "def area(length, width):\n",
        "    return length * width"
      ]
    },
    {
      "cell_type": "markdown",
      "metadata": {},
      "source": [
        "We can call this function with positional or keyword arguments:"
      ]
    },
    {
      "cell_type": "code",
      "execution_count": 4,
      "metadata": {},
      "outputs": [
        {
          "data": {
            "text/plain": [
              "50"
            ]
          },
          "execution_count": 4,
          "metadata": {},
          "output_type": "execute_result"
        }
      ],
      "source": [
        "area(10, 5) # returns 50\n",
        "area(width=5, length=10) # returns 50\n"
      ]
    },
    {
      "cell_type": "markdown",
      "metadata": {},
      "source": [
        "Let's see an example of how to define and call a function in Python. We will define a function that takes two numbers as parameters and returns their sum:"
      ]
    },
    {
      "cell_type": "code",
      "execution_count": 5,
      "metadata": {},
      "outputs": [],
      "source": [
        "def add(x, y):\n",
        "    return x + y"
      ]
    },
    {
      "cell_type": "markdown",
      "metadata": {},
      "source": [
        "We can call this function with different arguments and print the result:"
      ]
    },
    {
      "cell_type": "code",
      "execution_count": 6,
      "metadata": {},
      "outputs": [
        {
          "name": "stdout",
          "output_type": "stream",
          "text": [
            "7\n",
            "5\n",
            "6.0\n"
          ]
        }
      ],
      "source": [
        "print(add(3, 4)) # prints 7\n",
        "print(add(10, -5)) # prints 5\n",
        "print(add(3.5, 2.5)) # prints 6.0"
      ]
    },
    {
      "cell_type": "markdown",
      "metadata": {},
      "source": [
        "This is how we can define and call functions in Python. Functions are a powerful and essential tool for programming, as they allow us to reuse and organize code, and to perform specific tasks. In the next section, we will learn more about function parameters and return values."
      ]
    },
    {
      "cell_type": "markdown",
      "metadata": {},
      "source": []
    }
  ],
  "metadata": {
    "kernelspec": {
      "display_name": "Python 3",
      "language": "python",
      "name": "python3"
    },
    "language_info": {
      "codemirror_mode": {
        "name": "ipython",
        "version": 3
      },
      "file_extension": ".py",
      "mimetype": "text/x-python",
      "name": "python",
      "nbconvert_exporter": "python",
      "pygments_lexer": "ipython3",
      "version": "3.11.3"
    }
  },
  "nbformat": 4,
  "nbformat_minor": 2
}
