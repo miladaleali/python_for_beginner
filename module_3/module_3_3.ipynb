{
  "cells": [
    {
      "cell_type": "markdown",
      "metadata": {},
      "source": [
        "Hello and welcome to this video on data structures in Python. In the previous video, we learned about dictionaries, which are unordered collections of key-value pairs that can store different types of data and allow fast lookup and modification. In this video, we will learn about another data structure that is very simple and useful: sets. Sets are unordered collections of unique items that can perform set operations, such as union, intersection, and difference."
      ]
    },
    {
      "cell_type": "markdown",
      "metadata": {},
      "source": [
        "## Introduction to Sets"
      ]
    },
    {
      "cell_type": "markdown",
      "metadata": {},
      "source": [
        "A set is a data structure that contains only distinct items, meaning that there are no duplicates in a set. Sets are useful for storing and manipulating data that has some kind of membership or inclusion, such as categories, tags, or groups. Sets can also be used to perform mathematical operations on sets, such as finding the common or different elements between two sets."
      ]
    },
    {
      "cell_type": "markdown",
      "metadata": {},
      "source": [
        "To create a set, we use curly braces { } and separate the items with commas. For example, we can create a set of colors like this:"
      ]
    },
    {
      "cell_type": "code",
      "execution_count": 2,
      "metadata": {},
      "outputs": [
        {
          "data": {
            "text/plain": [
              "{'blue', 'green', 'red'}"
            ]
          },
          "execution_count": 2,
          "metadata": {},
          "output_type": "execute_result"
        }
      ],
      "source": [
        "colors = {\"red\", \"green\", \"blue\"}\n",
        "colors"
      ]
    },
    {
      "cell_type": "markdown",
      "metadata": {},
      "source": [
        "We can also create an empty set by using the set function with no arguments:"
      ]
    },
    {
      "cell_type": "code",
      "execution_count": 3,
      "metadata": {},
      "outputs": [],
      "source": [
        "empty_set = set()"
      ]
    },
    {
      "cell_type": "markdown",
      "metadata": {},
      "source": [
        "Note that we cannot use just the curly braces to create an empty set, because that would create an empty dictionary instead."
      ]
    },
    {
      "cell_type": "markdown",
      "metadata": {},
      "source": [
        "To access the items in a set, we cannot use indexing or slicing, because sets are unordered and have no fixed positions. Instead, we can use loops or the in operator to check if an item is in a set. For example, to print each color in the colors set, we can use a for loop:"
      ]
    },
    {
      "cell_type": "code",
      "execution_count": 4,
      "metadata": {},
      "outputs": [
        {
          "name": "stdout",
          "output_type": "stream",
          "text": [
            "blue\n",
            "green\n",
            "red\n"
          ]
        }
      ],
      "source": [
        "for color in colors:\n",
        "    print(color)"
      ]
    },
    {
      "cell_type": "markdown",
      "metadata": {},
      "source": [
        "To check if \"yellow\" is in the colors set, we can use the in operator:"
      ]
    },
    {
      "cell_type": "code",
      "execution_count": 5,
      "metadata": {},
      "outputs": [
        {
          "data": {
            "text/plain": [
              "False"
            ]
          },
          "execution_count": 5,
          "metadata": {},
          "output_type": "execute_result"
        }
      ],
      "source": [
        "\"yellow\" in colors"
      ]
    },
    {
      "cell_type": "markdown",
      "metadata": {},
      "source": [
        "To modify the items in a set, we can use some of the common set methods, such as add, remove, discard, and clear. For example, to add a new item \"black\" to the colors set, we can use the add method:"
      ]
    },
    {
      "cell_type": "code",
      "execution_count": 6,
      "metadata": {},
      "outputs": [],
      "source": [
        "colors.add(\"black\")"
      ]
    },
    {
      "cell_type": "code",
      "execution_count": 7,
      "metadata": {},
      "outputs": [
        {
          "data": {
            "text/plain": [
              "{'black', 'blue', 'green', 'red'}"
            ]
          },
          "execution_count": 7,
          "metadata": {},
          "output_type": "execute_result"
        }
      ],
      "source": [
        "colors"
      ]
    },
    {
      "cell_type": "markdown",
      "metadata": {},
      "source": [
        "To remove an item \"red\" from the colors set and raise an error if it does not exist, we can use the remove method:"
      ]
    },
    {
      "cell_type": "code",
      "execution_count": 8,
      "metadata": {},
      "outputs": [],
      "source": [
        "colors.remove(\"red\")"
      ]
    },
    {
      "cell_type": "code",
      "execution_count": 9,
      "metadata": {},
      "outputs": [
        {
          "data": {
            "text/plain": [
              "{'black', 'blue', 'green'}"
            ]
          },
          "execution_count": 9,
          "metadata": {},
          "output_type": "execute_result"
        }
      ],
      "source": [
        "colors"
      ]
    },
    {
      "cell_type": "markdown",
      "metadata": {},
      "source": [
        "To remove an item \"yellow\" from the colors set and do nothing if it does not exist, we can use the discard method:"
      ]
    },
    {
      "cell_type": "code",
      "execution_count": 10,
      "metadata": {},
      "outputs": [],
      "source": [
        "colors.discard(\"yellow\")"
      ]
    },
    {
      "cell_type": "code",
      "execution_count": 11,
      "metadata": {},
      "outputs": [
        {
          "data": {
            "text/plain": [
              "{'black', 'blue', 'green'}"
            ]
          },
          "execution_count": 11,
          "metadata": {},
          "output_type": "execute_result"
        }
      ],
      "source": [
        "colors"
      ]
    },
    {
      "cell_type": "markdown",
      "metadata": {},
      "source": [
        "To delete all the items from the colors set, we can use the clear method:"
      ]
    },
    {
      "cell_type": "code",
      "execution_count": 12,
      "metadata": {},
      "outputs": [],
      "source": [
        "colors.clear()"
      ]
    },
    {
      "cell_type": "code",
      "execution_count": 13,
      "metadata": {},
      "outputs": [
        {
          "data": {
            "text/plain": [
              "set()"
            ]
          },
          "execution_count": 13,
          "metadata": {},
          "output_type": "execute_result"
        }
      ],
      "source": [
        "colors"
      ]
    },
    {
      "cell_type": "markdown",
      "metadata": {},
      "source": [
        "There are many other set methods that we can use to perform various operations on sets, such as union, intersection, difference, symmetric_difference, issubset, issuperset, and isdisjoint. You can find more information about these methods in the Python documentation or by using the help function in Python."
      ]
    },
    {
      "cell_type": "markdown",
      "metadata": {},
      "source": [
        "## Set Operations"
      ]
    },
    {
      "cell_type": "markdown",
      "metadata": {},
      "source": [
        "In this section, we will look at some of the set operations that we can use to manipulate and compare sets in Python. We will use the following example sets of fruits and vegetables:"
      ]
    },
    {
      "cell_type": "code",
      "execution_count": 16,
      "metadata": {},
      "outputs": [],
      "source": [
        "fruits = {\"apple\", \"banana\", \"orange\", \"grape\", \"cucumber\"}\n",
        "vegetables = {\"carrot\", \"potato\", \"onion\", \"tomato\", \"cucumber\"}"
      ]
    },
    {
      "cell_type": "markdown",
      "metadata": {},
      "source": [
        "- The intersection operation returns a new set that contains only the items that are common to both sets. For example, to get a set of the items that are both fruits and vegetables, we can use the intersection method or the & operator:"
      ]
    },
    {
      "cell_type": "code",
      "execution_count": 17,
      "metadata": {},
      "outputs": [
        {
          "data": {
            "text/plain": [
              "{'cucumber'}"
            ]
          },
          "execution_count": 17,
          "metadata": {},
          "output_type": "execute_result"
        }
      ],
      "source": [
        "fruits.intersection(vegetables)\n",
        "fruits & vegetables"
      ]
    },
    {
      "cell_type": "markdown",
      "metadata": {},
      "source": [
        "- The difference operation returns a new set that contains only the items that are in the first set but not in the second set. For example, to get a set of the items that are fruits but not vegetables, we can use the difference method or the - operator:"
      ]
    },
    {
      "cell_type": "code",
      "execution_count": 18,
      "metadata": {},
      "outputs": [
        {
          "data": {
            "text/plain": [
              "{'apple', 'banana', 'grape', 'orange'}"
            ]
          },
          "execution_count": 18,
          "metadata": {},
          "output_type": "execute_result"
        }
      ],
      "source": [
        "fruits.difference(vegetables)\n",
        "fruits - vegetables"
      ]
    },
    {
      "cell_type": "markdown",
      "metadata": {},
      "source": [
        "- The symmetric_difference operation returns a new set that contains only the items that are in either set but not in both sets. For example, to get a set of the items that are either fruits or vegetables but not both, we can use the symmetric_difference method or the ^ operator:"
      ]
    },
    {
      "cell_type": "code",
      "execution_count": 19,
      "metadata": {},
      "outputs": [
        {
          "data": {
            "text/plain": [
              "{'apple', 'banana', 'carrot', 'grape', 'onion', 'orange', 'potato', 'tomato'}"
            ]
          },
          "execution_count": 19,
          "metadata": {},
          "output_type": "execute_result"
        }
      ],
      "source": [
        "fruits.symmetric_difference(vegetables)\n",
        "fruits ^ vegetables"
      ]
    },
    {
      "cell_type": "markdown",
      "metadata": {},
      "source": [
        "- The issubset operation returns a boolean value that indicates whether the first set is a subset of the second set, meaning that all the items in the first set are also in the second set. For example, to check if the set {\"apple\", \"banana\"} is a subset of the fruits set, we can use the issubset method or the <= operator:"
      ]
    },
    {
      "cell_type": "code",
      "execution_count": 20,
      "metadata": {},
      "outputs": [
        {
          "data": {
            "text/plain": [
              "True"
            ]
          },
          "execution_count": 20,
          "metadata": {},
          "output_type": "execute_result"
        }
      ],
      "source": [
        "{\"apple\", \"banana\"}.issubset(fruits)\n",
        "{\"apple\", \"banana\"} <= fruits"
      ]
    },
    {
      "cell_type": "markdown",
      "metadata": {},
      "source": [
        "- The issuperset operation returns a boolean value that indicates whether the first set is a superset of the second set, meaning that all the items in the second set are also in the first set. For example, to check if the fruits set is a superset of the set {\"apple\", \"banana\"}, we can use the issuperset method or the >= operator:"
      ]
    },
    {
      "cell_type": "code",
      "execution_count": 21,
      "metadata": {},
      "outputs": [
        {
          "data": {
            "text/plain": [
              "True"
            ]
          },
          "execution_count": 21,
          "metadata": {},
          "output_type": "execute_result"
        }
      ],
      "source": [
        "fruits.issuperset({\"apple\", \"banana\"})\n",
        "fruits >= {\"apple\", \"banana\"}"
      ]
    },
    {
      "cell_type": "markdown",
      "metadata": {},
      "source": [
        "- The isdisjoint operation returns a boolean value that indicates whether the two sets have no items in common. For example, to check if the fruits set and the vegetables set are disjoint, we can use the isdisjoint method:"
      ]
    },
    {
      "cell_type": "code",
      "execution_count": 22,
      "metadata": {},
      "outputs": [
        {
          "data": {
            "text/plain": [
              "False"
            ]
          },
          "execution_count": 22,
          "metadata": {},
          "output_type": "execute_result"
        }
      ],
      "source": [
        "fruits.isdisjoint(vegetables)"
      ]
    },
    {
      "cell_type": "markdown",
      "metadata": {},
      "source": [
        "## Practical use cases of Sets"
      ]
    },
    {
      "cell_type": "markdown",
      "metadata": {},
      "source": [
        "- Sets can be used to perform mathematical operations on sets, such as finding the common or different elements between two sets. For example, we can create two sets of friends and find their intersection and difference like this:"
      ]
    },
    {
      "cell_type": "code",
      "execution_count": null,
      "metadata": {},
      "outputs": [],
      "source": [
        "friends1 = {\"Alice\", \"Bob\", \"Charlie\"}\n",
        "friends2 = {\"Bob\", \"David\", \"Eve\"}\n",
        "common_friends = friends1 & friends2 # intersection\n",
        "different_friends = friends1 ^ friends2 # symmetric difference"
      ]
    },
    {
      "cell_type": "markdown",
      "metadata": {},
      "source": [
        "- Sets can be used to remove duplicates from a list or a string, by converting them to a set and then back to a list or a string. For example, we can remove duplicate letters from a word like this:"
      ]
    },
    {
      "cell_type": "code",
      "execution_count": 23,
      "metadata": {},
      "outputs": [],
      "source": [
        "word = \"banana\"\n",
        "unique_letters = list(set(word)) # convert to set and then to list\n",
        "unique_word = \"\".join(unique_letters) # join the list to a string"
      ]
    },
    {
      "cell_type": "code",
      "execution_count": 24,
      "metadata": {},
      "outputs": [
        {
          "data": {
            "text/plain": [
              "'bna'"
            ]
          },
          "execution_count": 24,
          "metadata": {},
          "output_type": "execute_result"
        }
      ],
      "source": [
        "unique_word"
      ]
    }
  ],
  "metadata": {
    "kernelspec": {
      "display_name": "Python 3",
      "language": "python",
      "name": "python3"
    },
    "language_info": {
      "codemirror_mode": {
        "name": "ipython",
        "version": 3
      },
      "file_extension": ".py",
      "mimetype": "text/x-python",
      "name": "python",
      "nbconvert_exporter": "python",
      "pygments_lexer": "ipython3",
      "version": "3.11.3"
    }
  },
  "nbformat": 4,
  "nbformat_minor": 2
}
