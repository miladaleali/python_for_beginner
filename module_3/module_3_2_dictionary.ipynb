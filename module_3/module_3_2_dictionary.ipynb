{
 "cells": [
  {
   "cell_type": "markdown",
   "metadata": {},
   "source": [
    "In this course, we will learn about another data structure that is very powerful and useful: dictionaries. Dictionaries are unordered collections of key-value pairs that can store different types of data and allow fast lookup and modification.\n",
    "\n",
    "## Understanding Dictionaries\n",
    "\n",
    "A dictionary is a data structure that maps keys to values, where each key is unique and can be any immutable type, such as a string, a number, or a tuple, and each value can be any type, such as a list, a dictionary, or a function. Dictionaries are useful for storing and organizing data that has some kind of association or relationship, such as names and phone numbers, words and definitions, or products and prices.\n",
    "\n",
    "### Create dictionary\n",
    "To create a dictionary, we use curly braces { } and separate the key-value pairs with commas. For example, we can create a dictionary of fruits and their prices like this:\n"
   ]
  },
  {
   "cell_type": "code",
   "execution_count": 1,
   "metadata": {},
   "outputs": [],
   "source": [
    "\n",
    "fruits = {\"apple\": 0.99, \"banana\": 0.79, \"orange\": 1.29}"
   ]
  },
  {
   "cell_type": "markdown",
   "metadata": {},
   "source": [
    "We can also create an empty dictionary by using just the curly braces:\n"
   ]
  },
  {
   "cell_type": "code",
   "execution_count": 2,
   "metadata": {},
   "outputs": [],
   "source": [
    "\n",
    "empty_dict = { }"
   ]
  },
  {
   "cell_type": "markdown",
   "metadata": {},
   "source": [
    "### Accessing and modifying dictionary items\n",
    "To access the values in a dictionary, we use the keys inside square brackets. For example, to get the price of an apple from the fruits dictionary, we use the key \"apple\":\n"
   ]
  },
  {
   "cell_type": "code",
   "execution_count": 3,
   "metadata": {},
   "outputs": [
    {
     "data": {
      "text/plain": [
       "0.99"
      ]
     },
     "execution_count": 3,
     "metadata": {},
     "output_type": "execute_result"
    }
   ],
   "source": [
    "\n",
    "fruits[\"apple\"]"
   ]
  },
  {
   "cell_type": "markdown",
   "metadata": {},
   "source": [
    "\n",
    "To modify the values in a dictionary, we can use assignment statements with the keys. For example, to change the price of an orange in the fruits dictionary to 1.49, we can do:\n"
   ]
  },
  {
   "cell_type": "code",
   "execution_count": 4,
   "metadata": {},
   "outputs": [],
   "source": [
    "\n",
    "fruits[\"orange\"] = 1.49"
   ]
  },
  {
   "cell_type": "markdown",
   "metadata": {},
   "source": [
    "\n",
    "To add or remove key-value pairs from a dictionary, we can use some of the common dictionary methods, such as update, pop, popitem, and clear. For example, to add a new key-value pair \"grape\": 2.99 to the fruits dictionary, we can use the update method:\n"
   ]
  },
  {
   "cell_type": "code",
   "execution_count": 5,
   "metadata": {},
   "outputs": [],
   "source": [
    "\n",
    "fruits.update({\"grape\": 2.99})"
   ]
  },
  {
   "cell_type": "markdown",
   "metadata": {},
   "source": [
    "To remove the key-value pair \"banana\": 0.79 from the fruits dictionary and return the value, we can use the pop method:\n"
   ]
  },
  {
   "cell_type": "code",
   "execution_count": 6,
   "metadata": {},
   "outputs": [
    {
     "data": {
      "text/plain": [
       "0.79"
      ]
     },
     "execution_count": 6,
     "metadata": {},
     "output_type": "execute_result"
    }
   ],
   "source": [
    "\n",
    "fruits.pop(\"banana\")"
   ]
  },
  {
   "cell_type": "markdown",
   "metadata": {},
   "source": [
    "To remove a random key-value pair from the fruits dictionary and return it as a tuple, we can use the popitem method:\n"
   ]
  },
  {
   "cell_type": "code",
   "execution_count": 7,
   "metadata": {},
   "outputs": [
    {
     "data": {
      "text/plain": [
       "('grape', 2.99)"
      ]
     },
     "execution_count": 7,
     "metadata": {},
     "output_type": "execute_result"
    }
   ],
   "source": [
    "\n",
    "fruits.popitem()"
   ]
  },
  {
   "cell_type": "markdown",
   "metadata": {},
   "source": [
    "To delete all the key-value pairs from the fruits dictionary, we can use the clear method:\n"
   ]
  },
  {
   "cell_type": "code",
   "execution_count": 8,
   "metadata": {},
   "outputs": [],
   "source": [
    "\n",
    "fruits.clear()"
   ]
  },
  {
   "cell_type": "markdown",
   "metadata": {},
   "source": [
    "There are many other dictionary methods that we can use to perform various operations on dictionaries, such as keys, values, items, get, setdefault, copy, and fromkeys. You can find more information about these methods in the Python documentation or by using the help function in Python.\n",
    "\n",
    "## Common Dictionary Methods\n",
    "\n",
    "In this section, we will look at some of the common dictionary methods that we can use to manipulate and access dictionaries in Python. We will use the following example dictionary of students and their grades:\n"
   ]
  },
  {
   "cell_type": "code",
   "execution_count": 9,
   "metadata": {},
   "outputs": [],
   "source": [
    "\n",
    "students = {\"Alice\": 90, \"Bob\": 80, \"Charlie\": 85, \"David\": 95}"
   ]
  },
  {
   "cell_type": "markdown",
   "metadata": {},
   "source": [
    "- The keys method returns a view object that contains the keys of the dictionary. For example, to get the names of the students, we can use the keys method:\n"
   ]
  },
  {
   "cell_type": "code",
   "execution_count": 10,
   "metadata": {},
   "outputs": [
    {
     "data": {
      "text/plain": [
       "dict_keys(['Alice', 'Bob', 'Charlie', 'David'])"
      ]
     },
     "execution_count": 10,
     "metadata": {},
     "output_type": "execute_result"
    }
   ],
   "source": [
    "\n",
    "students.keys()"
   ]
  },
  {
   "cell_type": "markdown",
   "metadata": {},
   "source": [
    "- The values method returns a view object that contains the values of the dictionary. For example, to get the grades of the students, we can use the values method:"
   ]
  },
  {
   "cell_type": "code",
   "execution_count": 11,
   "metadata": {},
   "outputs": [
    {
     "data": {
      "text/plain": [
       "dict_values([90, 80, 85, 95])"
      ]
     },
     "execution_count": 11,
     "metadata": {},
     "output_type": "execute_result"
    }
   ],
   "source": [
    "\n",
    "students.values()"
   ]
  },
  {
   "cell_type": "markdown",
   "metadata": {},
   "source": [
    "- The items method returns a view object that contains the key-value pairs of the dictionary as tuples. For example, to get the name and grade of each student, we can use the items method:\n"
   ]
  },
  {
   "cell_type": "code",
   "execution_count": 12,
   "metadata": {},
   "outputs": [
    {
     "data": {
      "text/plain": [
       "dict_items([('Alice', 90), ('Bob', 80), ('Charlie', 85), ('David', 95)])"
      ]
     },
     "execution_count": 12,
     "metadata": {},
     "output_type": "execute_result"
    }
   ],
   "source": [
    "\n",
    "students.items()"
   ]
  },
  {
   "cell_type": "markdown",
   "metadata": {},
   "source": [
    "- The get method returns the value of the specified key, or a default value if the key does not exist. For example, to get the grade of Alice, we can use the get method:\n"
   ]
  },
  {
   "cell_type": "code",
   "execution_count": 13,
   "metadata": {},
   "outputs": [
    {
     "data": {
      "text/plain": [
       "90"
      ]
     },
     "execution_count": 13,
     "metadata": {},
     "output_type": "execute_result"
    }
   ],
   "source": [
    "\n",
    "students.get(\"Alice\")"
   ]
  },
  {
   "cell_type": "markdown",
   "metadata": {},
   "source": [
    "To get the grade of Eve, who is not in the dictionary, we can use the get method with a default value of 0:\n"
   ]
  },
  {
   "cell_type": "code",
   "execution_count": 14,
   "metadata": {},
   "outputs": [
    {
     "data": {
      "text/plain": [
       "0"
      ]
     },
     "execution_count": 14,
     "metadata": {},
     "output_type": "execute_result"
    }
   ],
   "source": [
    "\n",
    "students.get(\"Eve\", 0)"
   ]
  },
  {
   "cell_type": "markdown",
   "metadata": {},
   "source": [
    "- The setdefault method returns the value of the specified key, or sets the key to a default value if the key does not exist. For example, to get the grade of Bob, we can use the setdefault method:\n"
   ]
  },
  {
   "cell_type": "code",
   "execution_count": 15,
   "metadata": {},
   "outputs": [
    {
     "data": {
      "text/plain": [
       "80"
      ]
     },
     "execution_count": 15,
     "metadata": {},
     "output_type": "execute_result"
    }
   ],
   "source": [
    "\n",
    "students.setdefault(\"Bob\")"
   ]
  },
  {
   "cell_type": "markdown",
   "metadata": {},
   "source": [
    "To get the grade of Eve, who is not in the dictionary, we can use the setdefault method with a default value of 0, and also add Eve to the dictionary:"
   ]
  },
  {
   "cell_type": "code",
   "execution_count": 16,
   "metadata": {},
   "outputs": [
    {
     "data": {
      "text/plain": [
       "0"
      ]
     },
     "execution_count": 16,
     "metadata": {},
     "output_type": "execute_result"
    }
   ],
   "source": [
    "\n",
    "students.setdefault(\"Eve\", 0)"
   ]
  },
  {
   "cell_type": "markdown",
   "metadata": {},
   "source": [
    "- The copy method returns a shallow copy of the dictionary, which means a new dictionary with the same key-value pairs, but not the same references. For example, to create a copy of the students dictionary, we can use the copy method:\n"
   ]
  },
  {
   "cell_type": "code",
   "execution_count": 17,
   "metadata": {},
   "outputs": [],
   "source": [
    "\n",
    "students_copy = students.copy()"
   ]
  },
  {
   "cell_type": "markdown",
   "metadata": {},
   "source": [
    "\n",
    "- The fromkeys method returns a new dictionary with the specified keys and a default value for each key. For example, to create a new dictionary with the same keys as the students dictionary, but with a default value of 0 for each key, we can use the fromkeys method:\n"
   ]
  },
  {
   "cell_type": "code",
   "execution_count": 18,
   "metadata": {},
   "outputs": [],
   "source": [
    "\n",
    "students_zero = dict.fromkeys(students, 0)"
   ]
  },
  {
   "cell_type": "markdown",
   "metadata": {},
   "source": [
    "\n",
    "## Use cases for dictionaries\n",
    "\n",
    "- Dictionaries can be used to store and retrieve data that has some kind of association or relationship, such as names and phone numbers, words and definitions, or products and prices. For example, we can create a dictionary of contacts like this:"
   ]
  },
  {
   "cell_type": "code",
   "execution_count": 19,
   "metadata": {},
   "outputs": [],
   "source": [
    "contacts = {\"Alice\": \"123-4567\", \"Bob\": \"234-5678\", \"Charlie\": \"345-6789\"}"
   ]
  },
  {
   "cell_type": "markdown",
   "metadata": {},
   "source": [
    "- Dictionaries can be used to implement data structures that are based on key-value pairs, such as hash tables, caches, or databases. For example, we can create a cache of web pages using a dictionary, where the key is the URL and the value is the HTML content:\n"
   ]
  },
  {
   "cell_type": "code",
   "execution_count": 20,
   "metadata": {},
   "outputs": [],
   "source": [
    "cache = {}\n",
    "cache[\"https://www.bing.com\"] = \"<html>...</html>\"\n",
    "cache[\"https://www.wikipedia.org\"] = \"<html>...</html>\""
   ]
  },
  {
   "cell_type": "markdown",
   "metadata": {},
   "source": [
    "\n",
    "- Dictionaries can be used to store and manipulate data that is dynamic and heterogeneous, meaning that it can change and have different types of values. For example, we can create a dictionary of student information like this:\n"
   ]
  },
  {
   "cell_type": "code",
   "execution_count": 21,
   "metadata": {},
   "outputs": [],
   "source": [
    "student = {\"name\": \"Alice\", \"age\": 20, \"courses\": [\"Math\", \"Physics\", \"Computer Science\"], \"grades\": {\"Math\": 90, \"Physics\": 85, \"Computer Science\": 95}}"
   ]
  },
  {
   "cell_type": "markdown",
   "metadata": {},
   "source": [
    "\n",
    "- Dictionaries can be used to pass multiple arguments or keyword arguments to a function, by using the ** operator to unpack the dictionary. For example, we can create a function that prints a greeting message using a dictionary of arguments like this:\n"
   ]
  },
  {
   "cell_type": "code",
   "execution_count": 22,
   "metadata": {},
   "outputs": [
    {
     "name": "stdout",
     "output_type": "stream",
     "text": [
      "Hello, Bob! How are you?\n"
     ]
    }
   ],
   "source": [
    "\n",
    "def greet(name, message):\n",
    "    print(f\"Hello, {name}! {message}\")\n",
    "\n",
    "args = {\"name\": \"Bob\", \"message\": \"How are you?\"}\n",
    "\n",
    "greet(**args) # equivalent to greet(name=\"Bob\", message=\"How are you?\")\n"
   ]
  },
  {
   "cell_type": "markdown",
   "metadata": {},
   "source": [
    "- Dictionaries can be used to return multiple values from a function, by using a dictionary as the return value. For example, we can create a function that calculates the area and perimeter of a rectangle using a dictionary as the return value:\n"
   ]
  },
  {
   "cell_type": "code",
   "execution_count": 23,
   "metadata": {},
   "outputs": [
    {
     "name": "stdout",
     "output_type": "stream",
     "text": [
      "50\n",
      "30\n"
     ]
    }
   ],
   "source": [
    "\n",
    "def rectangle(length, width):\n",
    "    area = length * width\n",
    "    perimeter = 2 * (length + width)\n",
    "    return {\"area\": area, \"perimeter\": perimeter}\n",
    "\n",
    "result = rectangle(10, 5)\n",
    "\n",
    "print(result[\"area\"])\n",
    "print(result[\"perimeter\"])"
   ]
  }
 ],
 "metadata": {
  "kernelspec": {
   "display_name": "Python 3",
   "language": "python",
   "name": "python3"
  },
  "language_info": {
   "codemirror_mode": {
    "name": "ipython",
    "version": 3
   },
   "file_extension": ".py",
   "mimetype": "text/x-python",
   "name": "python",
   "nbconvert_exporter": "python",
   "pygments_lexer": "ipython3",
   "version": "3.11.3"
  }
 },
 "nbformat": 4,
 "nbformat_minor": 2
}
