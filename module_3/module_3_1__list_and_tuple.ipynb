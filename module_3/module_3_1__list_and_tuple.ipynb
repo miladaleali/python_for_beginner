{
 "cells": [
  {
   "cell_type": "markdown",
   "metadata": {},
   "source": [
    "\n",
    "## Introduction to Lists\n",
    "Lists are ordered collections of items that can store different types of data, such as numbers, strings, booleans, or even other lists. Lists are very versatile and useful for storing and manipulating data in Python.\n",
    "\n",
    "### Creating Lists\n",
    "To create a list, we use square brackets [ ] and separate the items with commas. For example, we can create a list of fruits like this:\n"
   ]
  },
  {
   "cell_type": "code",
   "execution_count": null,
   "metadata": {},
   "outputs": [],
   "source": [
    "\n",
    "fruits = [\"apple\", \"banana\", \"orange\", \"grape\"]\n",
    "fruits\n"
   ]
  },
  {
   "cell_type": "code",
   "execution_count": null,
   "metadata": {},
   "outputs": [],
   "source": [
    "mixin = [\"apple\", 1, True, 1.2, [1, 2, 3]]\n",
    "mixin"
   ]
  },
  {
   "cell_type": "markdown",
   "metadata": {},
   "source": [
    "\n",
    "We can also create an empty list by using just the square brackets or just using list:\n",
    "\n"
   ]
  },
  {
   "cell_type": "code",
   "execution_count": null,
   "metadata": {},
   "outputs": [],
   "source": [
    "# using brackets\n",
    "empty_list = [ ]\n",
    "\n",
    "# using list\n",
    "empty_list = list()\n"
   ]
  },
  {
   "cell_type": "code",
   "execution_count": null,
   "metadata": {},
   "outputs": [],
   "source": [
    "empty_list"
   ]
  },
  {
   "cell_type": "markdown",
   "metadata": {},
   "source": [
    "### Indexing and Slicing Lists\n",
    "To access the items in a list, we use indexing and slicing. Indexing means using an integer number inside square brackets to get a specific item from the list. For example, to get the first item from the fruits list, we use index 0:\n"
   ]
  },
  {
   "cell_type": "code",
   "execution_count": null,
   "metadata": {},
   "outputs": [],
   "source": [
    "fruits"
   ]
  },
  {
   "cell_type": "code",
   "execution_count": null,
   "metadata": {},
   "outputs": [],
   "source": [
    "fruits[0]"
   ]
  },
  {
   "cell_type": "markdown",
   "metadata": {},
   "source": [
    "\n",
    "Note that Python uses zero-based indexing, which means the first item has index 0, the second item has index 1, and so on. To get the last item from the list, we can use index -1, which means the last item from the end:\n"
   ]
  },
  {
   "cell_type": "code",
   "execution_count": null,
   "metadata": {},
   "outputs": [],
   "source": [
    "fruits[-1]"
   ]
  },
  {
   "cell_type": "markdown",
   "metadata": {},
   "source": [
    "\n",
    "Slicing means using a colon : inside square brackets to get a range of items from the list. For example, to get the first three items from the fruits list, we use slice 0:3:\n"
   ]
  },
  {
   "cell_type": "code",
   "execution_count": null,
   "metadata": {},
   "outputs": [],
   "source": [
    "fruits[0:3]"
   ]
  },
  {
   "cell_type": "markdown",
   "metadata": {},
   "source": [
    "Note that slicing is exclusive of the end index, which means the slice 0:3 will return the items from index 0 up to but not including index 3. To get all the items from the list, we can use slice : without any numbers:\n"
   ]
  },
  {
   "cell_type": "code",
   "execution_count": null,
   "metadata": {},
   "outputs": [],
   "source": [
    "fruits[:]"
   ]
  },
  {
   "cell_type": "markdown",
   "metadata": {},
   "source": [
    "To modify the items in a list, we can use assignment statements with indexing or slicing. For example, to change the second item in the fruits list to \"pear\", we can do:\n"
   ]
  },
  {
   "cell_type": "code",
   "execution_count": null,
   "metadata": {},
   "outputs": [],
   "source": [
    "fruits[1] = \"pear\""
   ]
  },
  {
   "cell_type": "code",
   "execution_count": null,
   "metadata": {},
   "outputs": [],
   "source": [
    "fruits"
   ]
  },
  {
   "cell_type": "markdown",
   "metadata": {},
   "source": [
    "To reverse a list, we can do this:"
   ]
  },
  {
   "cell_type": "code",
   "execution_count": null,
   "metadata": {},
   "outputs": [],
   "source": [
    "reversed_fruits = fruits[::-1]\n",
    "reversed_fruits"
   ]
  },
  {
   "cell_type": "markdown",
   "metadata": {},
   "source": [
    "### Common Lists methods\n",
    "To add or remove items from a list, we can use some of the common list methods, such as append, insert, pop, remove, and clear. For example, to add a new item \"mango\" to the end of the fruits list, we can use the append method:\n"
   ]
  },
  {
   "cell_type": "code",
   "execution_count": null,
   "metadata": {},
   "outputs": [],
   "source": [
    "fruits.append(\"mango\")"
   ]
  },
  {
   "cell_type": "code",
   "execution_count": null,
   "metadata": {},
   "outputs": [],
   "source": [
    "fruits"
   ]
  },
  {
   "cell_type": "markdown",
   "metadata": {},
   "source": [
    "To insert a new item \"kiwi\" at index 2 of the fruits list, we can use the insert method:\n"
   ]
  },
  {
   "cell_type": "code",
   "execution_count": null,
   "metadata": {},
   "outputs": [],
   "source": [
    "fruits.insert(2, \"kiwi\")"
   ]
  },
  {
   "cell_type": "code",
   "execution_count": null,
   "metadata": {},
   "outputs": [],
   "source": [
    "fruits"
   ]
  },
  {
   "cell_type": "markdown",
   "metadata": {},
   "source": [
    "> Stop and Think: there is a differecne between `fruits.insert(2, \"kiwi\")` and `fruits[2] = \"kiwi\"`, what is it?"
   ]
  },
  {
   "cell_type": "markdown",
   "metadata": {},
   "source": [
    "To remove the last item from the fruits list and return it, we can use the pop method:"
   ]
  },
  {
   "cell_type": "code",
   "execution_count": null,
   "metadata": {},
   "outputs": [],
   "source": [
    "fruits.pop()"
   ]
  },
  {
   "cell_type": "code",
   "execution_count": null,
   "metadata": {},
   "outputs": [],
   "source": [
    "fruits"
   ]
  },
  {
   "cell_type": "markdown",
   "metadata": {},
   "source": [
    "To remove a specific item \"orange\" from the fruits list, we can use the remove method:\n"
   ]
  },
  {
   "cell_type": "code",
   "execution_count": null,
   "metadata": {},
   "outputs": [],
   "source": [
    "fruits.remove(\"orange\")"
   ]
  },
  {
   "cell_type": "code",
   "execution_count": null,
   "metadata": {},
   "outputs": [],
   "source": [
    "fruits"
   ]
  },
  {
   "cell_type": "markdown",
   "metadata": {},
   "source": [
    "\n",
    "To delete all the items from the fruits list, we can use the clear method:\n"
   ]
  },
  {
   "cell_type": "code",
   "execution_count": null,
   "metadata": {},
   "outputs": [],
   "source": [
    "fruits.clear()"
   ]
  },
  {
   "cell_type": "code",
   "execution_count": null,
   "metadata": {},
   "outputs": [],
   "source": [
    "fruits"
   ]
  },
  {
   "cell_type": "markdown",
   "metadata": {},
   "source": [
    "There are many other list methods that we can use to perform various operations on lists, such as sort, reverse, count, index, copy, and extend. You can find more information about these methods in the Python documentation or by using the help function in Python."
   ]
  },
  {
   "cell_type": "code",
   "execution_count": null,
   "metadata": {},
   "outputs": [],
   "source": [
    "help(list)"
   ]
  },
  {
   "cell_type": "markdown",
   "metadata": {},
   "source": [
    "### Use case of lists\n",
    "- Lists are flexible and dynamic, which means they can store different types of data and change their size and content as needed. This makes them suitable for storing and manipulating data that is variable, such as user input, web scraping, or data analysis.\n",
    "\n"
   ]
  },
  {
   "cell_type": "code",
   "execution_count": 47,
   "metadata": {},
   "outputs": [
    {
     "name": "stdout",
     "output_type": "stream",
     "text": [
      "Enter some numbers, type 'done' when finished:\n",
      "You entered: [1, 2, 10]\n"
     ]
    }
   ],
   "source": [
    "# Create an empty list to store user input\n",
    "user_input = []\n",
    "\n",
    "# Ask the user to enter some numbers and store them in the list\n",
    "print(\"Enter some numbers, type 'done' when finished:\")\n",
    "while True:\n",
    "    number = input()\n",
    "    if number == \"done\":\n",
    "        break\n",
    "    else:\n",
    "        user_input.append(int(number)) # convert the input to integer and append to the list\n",
    "\n",
    "# Print the list of user input\n",
    "print(\"You entered:\", user_input)"
   ]
  },
  {
   "cell_type": "markdown",
   "metadata": {},
   "source": [
    "\n",
    "- Lists can be nested, which means they can contain other lists as their items. This allows us to create complex data structures, such as matrices, tables, graphs, or trees, using lists."
   ]
  },
  {
   "cell_type": "code",
   "execution_count": 36,
   "metadata": {},
   "outputs": [
    {
     "data": {
      "text/plain": [
       "[[1, 2, 3], [4, 5, 6], [7, 8, 9]]"
      ]
     },
     "execution_count": 36,
     "metadata": {},
     "output_type": "execute_result"
    }
   ],
   "source": [
    "nested_list = [[1, 2, 3], [4, 5, 6], [7, 8, 9]]\n",
    "nested_list"
   ]
  },
  {
   "cell_type": "markdown",
   "metadata": {},
   "source": [
    "\n",
    "- Lists can be iterated over, which means we can use loops or list comprehensions to perform operations on each item in the list. This is useful for applying functions, filtering, mapping, or reducing data using lists."
   ]
  },
  {
   "cell_type": "markdown",
   "metadata": {},
   "source": [
    "\n",
    "- Lists can be used for stack and queue operations, which are common data structures in computer science. A stack is a last-in, first-out (LIFO) data structure, where the last item added is the first item removed. A queue is a first-in, first-out (FIFO) data structure, where the first item added is the first item removed. We can use the append and pop methods to implement a stack using a list, and the append and pop(0) methods to implement a queue using a list."
   ]
  },
  {
   "cell_type": "code",
   "execution_count": 42,
   "metadata": {},
   "outputs": [
    {
     "name": "stdout",
     "output_type": "stream",
     "text": [
      "['A', 'B', 'C']\n"
     ]
    }
   ],
   "source": [
    "# Create an empty list to use as a stack (LIFO)\n",
    "stack = []\n",
    "\n",
    "# Add some items to the stack using append\n",
    "stack.append(\"A\")\n",
    "stack.append(\"B\")\n",
    "stack.append(\"C\")\n",
    "\n",
    "# Print the stack\n",
    "print(stack)\n"
   ]
  },
  {
   "cell_type": "code",
   "execution_count": 43,
   "metadata": {},
   "outputs": [
    {
     "name": "stdout",
     "output_type": "stream",
     "text": [
      "C\n",
      "['A', 'B']\n"
     ]
    }
   ],
   "source": [
    "# Remove the last item from the stack using pop\n",
    "item = stack.pop()\n",
    "\n",
    "# Print the item and the stack\n",
    "print(item)\n",
    "print(stack)"
   ]
  },
  {
   "cell_type": "code",
   "execution_count": 44,
   "metadata": {},
   "outputs": [
    {
     "name": "stdout",
     "output_type": "stream",
     "text": [
      "['X', 'Y', 'Z']\n"
     ]
    }
   ],
   "source": [
    "# Create an empty list to use as a queue (FIFO)\n",
    "queue = []\n",
    "\n",
    "# Add some items to the queue using append\n",
    "queue.append(\"X\")\n",
    "queue.append(\"Y\")\n",
    "queue.append(\"Z\")\n",
    "\n",
    "# Print the queue\n",
    "print(queue)\n"
   ]
  },
  {
   "cell_type": "code",
   "execution_count": 45,
   "metadata": {},
   "outputs": [
    {
     "name": "stdout",
     "output_type": "stream",
     "text": [
      "X\n",
      "['Y', 'Z']\n"
     ]
    }
   ],
   "source": [
    "# Remove the first item from the queue using pop(0)\n",
    "item = queue.pop(0)\n",
    "\n",
    "# Print the item and the queue\n",
    "print(item)\n",
    "print(queue)"
   ]
  },
  {
   "cell_type": "markdown",
   "metadata": {},
   "source": [
    "## Introduction to Tuples\n",
    "\n",
    "In this topic we will learn about another data structure that is similar to lists, but has some important differences: tuples. Tuples are also ordered collections of items, but they are immutable, which means they cannot be changed once they are created.\n",
    "\n",
    "### Creating Tuples\n",
    "To create a tuple, we use parentheses ( ) and separate the items with commas. For example, we can create a tuple of colors like this:\n"
   ]
  },
  {
   "cell_type": "code",
   "execution_count": 48,
   "metadata": {},
   "outputs": [
    {
     "data": {
      "text/plain": [
       "('red', 'green', 'blue')"
      ]
     },
     "execution_count": 48,
     "metadata": {},
     "output_type": "execute_result"
    }
   ],
   "source": [
    "colors = (\"red\", \"green\", \"blue\")\n",
    "colors"
   ]
  },
  {
   "cell_type": "markdown",
   "metadata": {},
   "source": [
    "We can also create a tuple with just one item, but we need to add a comma after the item to indicate that it is a tuple, not a regular value. For example, we can create a tuple of number like this:\n"
   ]
  },
  {
   "cell_type": "code",
   "execution_count": 49,
   "metadata": {},
   "outputs": [
    {
     "data": {
      "text/plain": [
       "(42,)"
      ]
     },
     "execution_count": 49,
     "metadata": {},
     "output_type": "execute_result"
    }
   ],
   "source": [
    "number = (42,)\n",
    "number"
   ]
  },
  {
   "cell_type": "markdown",
   "metadata": {},
   "source": [
    "\n",
    "To access the items in a tuple, we use the same indexing and slicing techniques that we used for lists. For example, to get the first item from the colors tuple, we use index 0:"
   ]
  },
  {
   "cell_type": "code",
   "execution_count": 50,
   "metadata": {},
   "outputs": [
    {
     "data": {
      "text/plain": [
       "'red'"
      ]
     },
     "execution_count": 50,
     "metadata": {},
     "output_type": "execute_result"
    }
   ],
   "source": [
    "colors[0]"
   ]
  },
  {
   "cell_type": "markdown",
   "metadata": {},
   "source": [
    "\n",
    "\n",
    "To get the last two items from the colors tuple, we use slice -2:\n"
   ]
  },
  {
   "cell_type": "code",
   "execution_count": 51,
   "metadata": {},
   "outputs": [
    {
     "data": {
      "text/plain": [
       "('green', 'blue')"
      ]
     },
     "execution_count": 51,
     "metadata": {},
     "output_type": "execute_result"
    }
   ],
   "source": [
    "\n",
    "colors[-2:]"
   ]
  },
  {
   "cell_type": "markdown",
   "metadata": {},
   "source": [
    "### Immutable Nature of Tuples\n",
    "However, unlike lists, we cannot modify the items in a tuple, because tuples are immutable. For example, if we try to change the second item in the colors tuple to \"yellow\", we will get an error:\n"
   ]
  },
  {
   "cell_type": "code",
   "execution_count": 52,
   "metadata": {},
   "outputs": [
    {
     "ename": "TypeError",
     "evalue": "'tuple' object does not support item assignment",
     "output_type": "error",
     "traceback": [
      "\u001b[0;31m---------------------------------------------------------------------------\u001b[0m",
      "\u001b[0;31mTypeError\u001b[0m                                 Traceback (most recent call last)",
      "\u001b[1;32m/mnt/work/python_for_beginners/module_3/module_3_1__list_and_tuple.ipynb Cell 58\u001b[0m line \u001b[0;36m1\n\u001b[0;32m----> <a href='vscode-notebook-cell:/mnt/work/python_for_beginners/module_3/module_3_1__list_and_tuple.ipynb#X66sZmlsZQ%3D%3D?line=0'>1</a>\u001b[0m colors[\u001b[39m1\u001b[39;49m] \u001b[39m=\u001b[39m \u001b[39m\"\u001b[39m\u001b[39myellow\u001b[39m\u001b[39m\"\u001b[39m\n",
      "\u001b[0;31mTypeError\u001b[0m: 'tuple' object does not support item assignment"
     ]
    }
   ],
   "source": [
    "\n",
    "colors[1] = \"yellow\""
   ]
  },
  {
   "cell_type": "markdown",
   "metadata": {},
   "source": [
    "\n",
    "To add or remove items from a tuple, we need to create a new tuple with the desired items. For example, to add a new item \"black\" to the colors tuple, we can use the + operator to concatenate two tuples:\n"
   ]
  },
  {
   "cell_type": "code",
   "execution_count": 53,
   "metadata": {},
   "outputs": [
    {
     "data": {
      "text/plain": [
       "('red', 'green', 'blue', 'black')"
      ]
     },
     "execution_count": 53,
     "metadata": {},
     "output_type": "execute_result"
    }
   ],
   "source": [
    "\n",
    "new_colors = colors + (\"black\",)\n",
    "new_colors"
   ]
  },
  {
   "cell_type": "markdown",
   "metadata": {},
   "source": [
    "To remove an item \"red\" from the colors tuple, we can use the filter function to create a new tuple with only the items that are not equal to \"red\":\n"
   ]
  },
  {
   "cell_type": "code",
   "execution_count": 54,
   "metadata": {},
   "outputs": [
    {
     "data": {
      "text/plain": [
       "('green', 'blue')"
      ]
     },
     "execution_count": 54,
     "metadata": {},
     "output_type": "execute_result"
    }
   ],
   "source": [
    "new_colors = tuple(filter(lambda x: x != \"red\", colors))\n",
    "new_colors"
   ]
  },
  {
   "cell_type": "markdown",
   "metadata": {},
   "source": [
    "### Common methods of tuples\n",
    "There are some tuple methods that we can use to perform some operations on tuples, such as count, index, and len. For example, to count how many times \"green\" appears in the colors tuple, we can use the count method:\n"
   ]
  },
  {
   "cell_type": "code",
   "execution_count": 57,
   "metadata": {},
   "outputs": [
    {
     "data": {
      "text/plain": [
       "('red', 'green', 'blue')"
      ]
     },
     "execution_count": 57,
     "metadata": {},
     "output_type": "execute_result"
    }
   ],
   "source": [
    "colors"
   ]
  },
  {
   "cell_type": "code",
   "execution_count": 58,
   "metadata": {},
   "outputs": [
    {
     "data": {
      "text/plain": [
       "1"
      ]
     },
     "execution_count": 58,
     "metadata": {},
     "output_type": "execute_result"
    }
   ],
   "source": [
    "colors.count(\"green\")"
   ]
  },
  {
   "cell_type": "markdown",
   "metadata": {},
   "source": [
    "\n",
    "To find the index of the first occurrence of \"blue\" in the colors tuple, we can use the index method:\n"
   ]
  },
  {
   "cell_type": "code",
   "execution_count": 59,
   "metadata": {},
   "outputs": [
    {
     "data": {
      "text/plain": [
       "2"
      ]
     },
     "execution_count": 59,
     "metadata": {},
     "output_type": "execute_result"
    }
   ],
   "source": [
    "colors.index(\"blue\")"
   ]
  },
  {
   "cell_type": "markdown",
   "metadata": {},
   "source": [
    "\n",
    "To find the length of the colors tuple, we can use the len function:\n"
   ]
  },
  {
   "cell_type": "code",
   "execution_count": 60,
   "metadata": {},
   "outputs": [
    {
     "data": {
      "text/plain": [
       "3"
      ]
     },
     "execution_count": 60,
     "metadata": {},
     "output_type": "execute_result"
    }
   ],
   "source": [
    "len(colors)"
   ]
  },
  {
   "cell_type": "markdown",
   "metadata": {},
   "source": [
    "\n",
    "### Use case of tuples\n",
    "You might be wondering why we need tuples, if they are so similar to lists, but less flexible. The answer is that tuples have some advantages over lists, depending on the use case. Some of the use cases for tuples are:\n",
    "\n",
    "- Tuples are faster and more memory-efficient than lists, because they are immutable and have a fixed size. This makes them suitable for storing constant data that does not need to be changed, such as coordinates, dates, or names.\n",
    "- Tuples can be used as keys in dictionaries, because they are hashable and can be compared for equality. Lists cannot be used as keys, because they are mutable and can be changed, which would break the dictionary structure. For example, we can create a dictionary that maps colors to their hexadecimal codes using tuples as keys:\n"
   ]
  },
  {
   "cell_type": "code",
   "execution_count": 61,
   "metadata": {},
   "outputs": [
    {
     "data": {
      "text/plain": [
       "{('red', 'green', 'blue'): '#0000FF', ('black', 'white'): '#FFFFFF'}"
      ]
     },
     "execution_count": 61,
     "metadata": {},
     "output_type": "execute_result"
    }
   ],
   "source": [
    "color_codes = {(\"red\", \"green\", \"blue\"): \"#0000FF\", (\"black\", \"white\"): \"#FFFFFF\"}\n",
    "color_codes"
   ]
  },
  {
   "cell_type": "markdown",
   "metadata": {},
   "source": [
    "- Tuples can be used for multiple assignment and unpacking, which means assigning or returning multiple values at once. For example, we can swap the values of two variables using a tuple:\n"
   ]
  },
  {
   "cell_type": "code",
   "execution_count": 62,
   "metadata": {},
   "outputs": [
    {
     "data": {
      "text/plain": [
       "(20, 10)"
      ]
     },
     "execution_count": 62,
     "metadata": {},
     "output_type": "execute_result"
    }
   ],
   "source": [
    "\n",
    "a = 10\n",
    "b = 20\n",
    "a, b = b, a # tuple assignment\n",
    "a, b"
   ]
  },
  {
   "cell_type": "markdown",
   "metadata": {},
   "source": [
    "\n",
    "We can also return multiple values from a function using a tuple:\n"
   ]
  },
  {
   "cell_type": "code",
   "execution_count": 63,
   "metadata": {},
   "outputs": [
    {
     "data": {
      "text/plain": [
       "(1, 5)"
      ]
     },
     "execution_count": 63,
     "metadata": {},
     "output_type": "execute_result"
    }
   ],
   "source": [
    "\n",
    "def min_max(numbers):\n",
    "    return min(numbers), max(numbers) # tuple return\n",
    "\n",
    "min_max([1, 2, 3, 4, 5])\n"
   ]
  },
  {
   "cell_type": "markdown",
   "metadata": {},
   "source": [
    "Tuples are a useful data structure in Python, but they are not the only one. In the next video, we will learn about another data structure: dictionaries. Dictionaries are unordered collections of key-value pairs that can store different types of data and allow fast lookup and modification. Stay tuned and thanks for watching."
   ]
  },
  {
   "cell_type": "code",
   "execution_count": null,
   "metadata": {},
   "outputs": [],
   "source": []
  }
 ],
 "metadata": {
  "kernelspec": {
   "display_name": "Python 3",
   "language": "python",
   "name": "python3"
  },
  "language_info": {
   "codemirror_mode": {
    "name": "ipython",
    "version": 3
   },
   "file_extension": ".py",
   "mimetype": "text/x-python",
   "name": "python",
   "nbconvert_exporter": "python",
   "pygments_lexer": "ipython3",
   "version": "3.11.3"
  }
 },
 "nbformat": 4,
 "nbformat_minor": 2
}
