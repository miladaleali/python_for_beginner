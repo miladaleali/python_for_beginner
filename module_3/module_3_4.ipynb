{
  "cells": [
    {
      "cell_type": "markdown",
      "metadata": {},
      "source": [
        "## Basic String Operations"
      ]
    },
    {
      "cell_type": "markdown",
      "metadata": {},
      "source": [
        "A string is a data structure that consists of one or more characters, such as letters, numbers, symbols, or whitespace. Strings are useful for storing and processing text data, such as names, messages, or commands. Strings are also immutable, which means they cannot be changed once they are created."
      ]
    },
    {
      "cell_type": "markdown",
      "metadata": {},
      "source": [
        "To create a string, we use single quotes ' ' or double quotes \" \" and enclose the characters inside them. For example, we can create a string of hello like this:"
      ]
    },
    {
      "cell_type": "code",
      "execution_count": 4,
      "metadata": {},
      "outputs": [
        {
          "data": {
            "text/plain": [
              "'hello'"
            ]
          },
          "execution_count": 4,
          "metadata": {},
          "output_type": "execute_result"
        }
      ],
      "source": [
        "hello = \"hello\"\n",
        "hello"
      ]
    },
    {
      "cell_type": "markdown",
      "metadata": {},
      "source": [
        "We can also create an empty string by using just the quotes:"
      ]
    },
    {
      "cell_type": "code",
      "execution_count": 5,
      "metadata": {},
      "outputs": [],
      "source": [
        "empty_string = \"\""
      ]
    },
    {
      "cell_type": "markdown",
      "metadata": {},
      "source": [
        "To access the characters in a string, we use indexing and slicing. Indexing means using an integer number inside square brackets to get a specific character from the string. For example, to get the first character from the hello string, we use index 0:"
      ]
    },
    {
      "cell_type": "code",
      "execution_count": 6,
      "metadata": {},
      "outputs": [
        {
          "data": {
            "text/plain": [
              "'h'"
            ]
          },
          "execution_count": 6,
          "metadata": {},
          "output_type": "execute_result"
        }
      ],
      "source": [
        "hello[0]"
      ]
    },
    {
      "cell_type": "markdown",
      "metadata": {},
      "source": [
        "Slicing means using a colon : inside square brackets to get a range of characters from the string. For example, to get the first three characters from the hello string, we use slice 0:3:"
      ]
    },
    {
      "cell_type": "code",
      "execution_count": 7,
      "metadata": {},
      "outputs": [
        {
          "data": {
            "text/plain": [
              "'hel'"
            ]
          },
          "execution_count": 7,
          "metadata": {},
          "output_type": "execute_result"
        }
      ],
      "source": [
        "hello[0:3]"
      ]
    },
    {
      "cell_type": "markdown",
      "metadata": {},
      "source": [
        "Note that slicing is exclusive of the end index, which means the slice 0:3 will return the characters from index 0 up to but not including index 3. To get all the characters from the string, we can use slice : without any numbers:"
      ]
    },
    {
      "cell_type": "code",
      "execution_count": 8,
      "metadata": {},
      "outputs": [
        {
          "data": {
            "text/plain": [
              "'hello'"
            ]
          },
          "execution_count": 8,
          "metadata": {},
          "output_type": "execute_result"
        }
      ],
      "source": [
        "hello[:]"
      ]
    },
    {
      "cell_type": "markdown",
      "metadata": {},
      "source": [
        "To modify the characters in a string, we cannot use assignment statements with indexing or slicing, because strings are immutable. For example, if we try to change the first character in the hello string to \"H\", we will get an error:"
      ]
    },
    {
      "cell_type": "code",
      "execution_count": 9,
      "metadata": {},
      "outputs": [
        {
          "ename": "TypeError",
          "evalue": "'str' object does not support item assignment",
          "output_type": "error",
          "traceback": [
            "\u001b[0;31m---------------------------------------------------------------------------\u001b[0m",
            "\u001b[0;31mTypeError\u001b[0m                                 Traceback (most recent call last)",
            "\u001b[1;32m/mnt/work/python_for_beginners/module_3/module_3_4.ipynb Cell 14\u001b[0m line \u001b[0;36m1\n\u001b[0;32m----> <a href='vscode-notebook-cell:/mnt/work/python_for_beginners/module_3/module_3_4.ipynb#Y113sZmlsZQ%3D%3D?line=0'>1</a>\u001b[0m hello[\u001b[39m0\u001b[39;49m] \u001b[39m=\u001b[39m \u001b[39m\"\u001b[39m\u001b[39mH\u001b[39m\u001b[39m\"\u001b[39m\n",
            "\u001b[0;31mTypeError\u001b[0m: 'str' object does not support item assignment"
          ]
        }
      ],
      "source": [
        "hello[0] = \"H\""
      ]
    },
    {
      "cell_type": "markdown",
      "metadata": {},
      "source": [
        "To change the characters in a string, we need to create a new string with the desired characters. For example, to change the first character in the hello string to \"H\", we can use slicing and concatenation:"
      ]
    },
    {
      "cell_type": "code",
      "execution_count": 12,
      "metadata": {},
      "outputs": [
        {
          "data": {
            "text/plain": [
              "'Hello'"
            ]
          },
          "execution_count": 12,
          "metadata": {},
          "output_type": "execute_result"
        }
      ],
      "source": [
        "hello = \"H\" + hello[1:]\n",
        "hello"
      ]
    },
    {
      "cell_type": "markdown",
      "metadata": {},
      "source": [
        "Concatenation means using the + operator to join two or more strings together. For example, to create a new string that says \"Hello, world!\", we can use concatenation:"
      ]
    },
    {
      "cell_type": "code",
      "execution_count": 14,
      "metadata": {},
      "outputs": [
        {
          "data": {
            "text/plain": [
              "'Hello, world!'"
            ]
          },
          "execution_count": 14,
          "metadata": {},
          "output_type": "execute_result"
        }
      ],
      "source": [
        "greeting = hello + \", world!\"\n",
        "greeting\n"
      ]
    },
    {
      "cell_type": "markdown",
      "metadata": {},
      "source": [
        "Repetition means using the * operator to repeat a string a certain number of times. For example, to create a new string that says \"hello\" five times, we can use repetition:"
      ]
    },
    {
      "cell_type": "code",
      "execution_count": 16,
      "metadata": {},
      "outputs": [
        {
          "data": {
            "text/plain": [
              "'HelloHelloHelloHelloHello'"
            ]
          },
          "execution_count": 16,
          "metadata": {},
          "output_type": "execute_result"
        }
      ],
      "source": [
        "repeated = hello * 5\n",
        "repeated"
      ]
    },
    {
      "cell_type": "markdown",
      "metadata": {},
      "source": [
        "Hello and welcome to this video on data structures in Python. In the previous video, we learned about basic string operations, such as concatenation, repetition, and slicing. In this video, we will learn about some of the string methods that we can use to manipulate and process strings in Python."
      ]
    },
    {
      "cell_type": "markdown",
      "metadata": {},
      "source": [
        "## String Methods"
      ]
    },
    {
      "cell_type": "markdown",
      "metadata": {},
      "source": [
        "A string method is a function that is attached to a string object and can perform some operation on the string. For example, the upper method is a string method that returns a new string with all the characters in uppercase. To use a string method, we use the dot notation and the name of the method, followed by parentheses. For example, to use the upper method on the string \"hello\", we do:"
      ]
    },
    {
      "cell_type": "code",
      "execution_count": 17,
      "metadata": {},
      "outputs": [
        {
          "data": {
            "text/plain": [
              "'HELLO'"
            ]
          },
          "execution_count": 17,
          "metadata": {},
          "output_type": "execute_result"
        }
      ],
      "source": [
        "\"hello\".upper()"
      ]
    },
    {
      "cell_type": "markdown",
      "metadata": {},
      "source": [
        "There are many string methods that we can use to perform various operations on strings, such as split, join, find, replace, strip, and count. You can find more information about these methods in the Python documentation or by using the help function in Python."
      ]
    },
    {
      "cell_type": "markdown",
      "metadata": {},
      "source": [
        "In this section, we will look at some of the common string methods that we can use to manipulate and process strings in Python. We will use the following example string of a sentence:"
      ]
    },
    {
      "cell_type": "code",
      "execution_count": 18,
      "metadata": {},
      "outputs": [],
      "source": [
        "sentence = \"This is a sample sentence.\""
      ]
    },
    {
      "cell_type": "markdown",
      "metadata": {},
      "source": [
        "- The split method returns a list of strings that are separated by a specified delimiter. For example, to split the sentence by whitespace, we can use the split method without any arguments:"
      ]
    },
    {
      "cell_type": "code",
      "execution_count": 19,
      "metadata": {},
      "outputs": [
        {
          "data": {
            "text/plain": [
              "['This', 'is', 'a', 'sample', 'sentence.']"
            ]
          },
          "execution_count": 19,
          "metadata": {},
          "output_type": "execute_result"
        }
      ],
      "source": [
        "sentence.split()"
      ]
    },
    {
      "cell_type": "markdown",
      "metadata": {},
      "source": [
        "To split the sentence by a specific character, such as \".\", we can use the split method with the character as the argument:"
      ]
    },
    {
      "cell_type": "code",
      "execution_count": 20,
      "metadata": {},
      "outputs": [
        {
          "data": {
            "text/plain": [
              "['This is a sample sentence', '']"
            ]
          },
          "execution_count": 20,
          "metadata": {},
          "output_type": "execute_result"
        }
      ],
      "source": [
        "sentence.split(\".\")"
      ]
    },
    {
      "cell_type": "markdown",
      "metadata": {},
      "source": [
        "- The join method returns a string that is the concatenation of the elements in an iterable, such as a list or a tuple, with a specified separator. For example, to join the list of words in the sentence with a dash \"-\", we can use the join method with the dash as the argument:"
      ]
    },
    {
      "cell_type": "code",
      "execution_count": 21,
      "metadata": {},
      "outputs": [
        {
          "data": {
            "text/plain": [
              "'This-is-a-sample-sentence.'"
            ]
          },
          "execution_count": 21,
          "metadata": {},
          "output_type": "execute_result"
        }
      ],
      "source": [
        "\"-\".join(sentence.split())"
      ]
    },
    {
      "cell_type": "markdown",
      "metadata": {},
      "source": [
        "- The find method returns the index of the first occurrence of a substring in a string, or -1 if the substring is not found. For example, to find the index of the word \"sample\" in the sentence, we can use the find method with the word as the argument:"
      ]
    },
    {
      "cell_type": "code",
      "execution_count": 22,
      "metadata": {},
      "outputs": [
        {
          "data": {
            "text/plain": [
              "10"
            ]
          },
          "execution_count": 22,
          "metadata": {},
          "output_type": "execute_result"
        }
      ],
      "source": [
        "sentence.find(\"sample\")"
      ]
    },
    {
      "cell_type": "markdown",
      "metadata": {},
      "source": [
        "- The replace method returns a new string where all occurrences of a substring are replaced by another substring. For example, to replace the word \"sample\" with the word \"example\" in the sentence, we can use the replace method with the old and new words as the arguments:"
      ]
    },
    {
      "cell_type": "code",
      "execution_count": 23,
      "metadata": {},
      "outputs": [
        {
          "data": {
            "text/plain": [
              "'This is a example sentence.'"
            ]
          },
          "execution_count": 23,
          "metadata": {},
          "output_type": "execute_result"
        }
      ],
      "source": [
        "sentence.replace(\"sample\", \"example\")"
      ]
    },
    {
      "cell_type": "markdown",
      "metadata": {},
      "source": [
        "- The strip method returns a new string where the leading and trailing characters are removed. By default, the strip method removes whitespace characters, such as spaces, tabs, and newlines. For example, to remove the whitespace from the sentence, we can use the strip method without any arguments:"
      ]
    },
    {
      "cell_type": "code",
      "execution_count": 27,
      "metadata": {},
      "outputs": [
        {
          "data": {
            "text/plain": [
              "'This is an example.'"
            ]
          },
          "execution_count": 27,
          "metadata": {},
          "output_type": "execute_result"
        }
      ],
      "source": [
        "sentence_2 = '    This is an example.    '\n",
        "sentence_2.strip()"
      ]
    },
    {
      "cell_type": "markdown",
      "metadata": {},
      "source": [
        "- The count method returns the number of times a substring appears in a string. For example, to count the number of \"s\" characters in the sentence, we can use the count method with the character as the argument:"
      ]
    },
    {
      "cell_type": "code",
      "execution_count": 28,
      "metadata": {},
      "outputs": [
        {
          "data": {
            "text/plain": [
              "4"
            ]
          },
          "execution_count": 28,
          "metadata": {},
          "output_type": "execute_result"
        }
      ],
      "source": [
        "sentence.count(\"s\")"
      ]
    },
    {
      "cell_type": "markdown",
      "metadata": {},
      "source": [
        "## Use cases for string manipulation"
      ]
    },
    {
      "cell_type": "markdown",
      "metadata": {},
      "source": [
        "String manipulation is a very common and important task in programming, as it allows us to process and analyze text data, such as user input, web scraping, or natural language processing. Some of the use cases for string manipulation are:"
      ]
    },
    {
      "cell_type": "markdown",
      "metadata": {},
      "source": [
        "String manipulation can be used to validate and format user input, such as checking if an email address is valid, or converting a phone number to a standard format. For example, we can use the find and replace methods to check and format an email address like this:"
      ]
    },
    {
      "cell_type": "code",
      "execution_count": 30,
      "metadata": {},
      "outputs": [
        {
          "name": "stdout",
          "output_type": "stream",
          "text": [
            "Invalid email address.\n"
          ]
        }
      ],
      "source": [
        "email = input(\"Enter your email address: \")\n",
        "if email.find(\"@\") == -1 or email.find(\".\") == -1:\n",
        "    print(\"Invalid email address.\")\n",
        "else:\n",
        "    email = email.lower().replace(\" \", \"\")\n",
        "    print(\"Your email address is:\", email)"
      ]
    },
    {
      "cell_type": "markdown",
      "metadata": {},
      "source": [
        "String manipulation can be used to extract and parse information from web pages, such as titles, links, or keywords. For example, we can use the requests and BeautifulSoup modules to get and parse the HTML content of a web page, and then use the split and find methods to extract the title and the first link like this:"
      ]
    },
    {
      "cell_type": "code",
      "execution_count": 31,
      "metadata": {},
      "outputs": [
        {
          "name": "stdout",
          "output_type": "stream",
          "text": [
            "The title of the web page is: Python (programming language)\n",
            "The first link in the web page is: #bodyContent\n"
          ]
        }
      ],
      "source": [
        "import requests\n",
        "from bs4 import BeautifulSoup\n",
        "\n",
        "response = requests.get(\"https://en.wikipedia.org/wiki/Python_(programming_language)\")\n",
        "soup = BeautifulSoup(response.text, \"html.parser\")\n",
        "\n",
        "title = soup.title.text.split(\"-\")[0].strip()\n",
        "print(\"The title of the web page is:\", title)\n",
        "\n",
        "first_link = soup.find(\"a\", href=True)[\"href\"]\n",
        "print(\"The first link in the web page is:\", first_link)"
      ]
    },
    {
      "cell_type": "markdown",
      "metadata": {},
      "source": [
        "String manipulation can be used to perform natural language processing tasks, such as tokenization, stemming, or sentiment analysis. For example, we can use the nltk module to tokenize, stem, and analyze the sentiment of a sentence like this:"
      ]
    },
    {
      "cell_type": "code",
      "execution_count": 32,
      "metadata": {},
      "outputs": [
        {
          "name": "stdout",
          "output_type": "stream",
          "text": [
            "The tokens of the sentence are: ['Python', 'is', 'a', 'great', 'programming', 'language', '.']\n",
            "The stems of the tokens are: ['Python', 'is', 'a', 'great', 'programming', 'language', '.']\n",
            "The sentiment of the sentence is: {'neg': 0.0, 'neu': 0.494, 'pos': 0.506, 'compound': 0.6249}\n"
          ]
        },
        {
          "name": "stderr",
          "output_type": "stream",
          "text": [
            "[nltk_data] Downloading package punkt to /home/milad/nltk_data...\n",
            "[nltk_data]   Package punkt is already up-to-date!\n",
            "[nltk_data] Downloading package wordnet to /home/milad/nltk_data...\n",
            "[nltk_data]   Package wordnet is already up-to-date!\n",
            "[nltk_data] Downloading package vader_lexicon to\n",
            "[nltk_data]     /home/milad/nltk_data...\n",
            "[nltk_data]   Package vader_lexicon is already up-to-date!\n"
          ]
        }
      ],
      "source": [
        "import nltk\n",
        "from nltk import sentiment\n",
        "nltk.download(\"punkt\")\n",
        "nltk.download(\"wordnet\")\n",
        "nltk.download(\"vader_lexicon\")\n",
        "\n",
        "sentence = \"Python is a great programming language.\"\n",
        "\n",
        "tokens = nltk.word_tokenize(sentence)\n",
        "print(\"The tokens of the sentence are:\", tokens)\n",
        "\n",
        "# Lemmatization is the process of reducing a word to its base or dictionary form, known as the lemma. \n",
        "# For example, the lemma of the word \"cats\" is \"cat\", and the lemma of \"running\" is \"run\".\n",
        "stemmer = nltk.stem.WordNetLemmatizer()\n",
        "stems = [stemmer.lemmatize(token) for token in tokens]\n",
        "print(\"The stems of the tokens are:\", stems)\n",
        "\n",
        "sentiment_analyzer = sentiment.SentimentIntensityAnalyzer()\n",
        "sentiment = sentiment_analyzer.polarity_scores(sentence)\n",
        "print(\"The sentiment of the sentence is:\", sentiment)\n"
      ]
    },
    {
      "cell_type": "markdown",
      "metadata": {},
      "source": [
        "Hello and welcome to this video on data structures in Python. In the previous video, we learned about some of the string methods that we can use to manipulate and process strings in Python. In this video, we will learn about another skill that is very useful and powerful: string formatting. String formatting is a way of inserting variables, expressions, or values into a string, using placeholders and formatting options."
      ]
    },
    {
      "cell_type": "markdown",
      "metadata": {},
      "source": [
        "## String Formatting"
      ]
    },
    {
      "cell_type": "markdown",
      "metadata": {},
      "source": [
        "String formatting is a technique that allows us to create dynamic and customized strings, by using placeholders that are replaced by variables, expressions, or values at runtime. For example, we can create a string that greets a user with their name, by using a placeholder for the name variable:"
      ]
    },
    {
      "cell_type": "code",
      "execution_count": 33,
      "metadata": {},
      "outputs": [
        {
          "data": {
            "text/plain": [
              "'Hello, Alice!'"
            ]
          },
          "execution_count": 33,
          "metadata": {},
          "output_type": "execute_result"
        }
      ],
      "source": [
        "name = \"Alice\"\n",
        "greeting = \"Hello, {}!\".format(name)\n",
        "greeting"
      ]
    },
    {
      "cell_type": "markdown",
      "metadata": {},
      "source": [
        "The placeholder is denoted by the curly braces { }, and the variable that replaces it is passed as an argument to the format method. The format method is a string method that returns a new string with the placeholders replaced by the arguments. We can use multiple placeholders and arguments in the same string, as long as they match in number and order. For example, we can create a string that displays the name and age of a user, by using two placeholders and two arguments:"
      ]
    },
    {
      "cell_type": "code",
      "execution_count": 34,
      "metadata": {},
      "outputs": [
        {
          "data": {
            "text/plain": [
              "'Your name is Bob and your age is 25.'"
            ]
          },
          "execution_count": 34,
          "metadata": {},
          "output_type": "execute_result"
        }
      ],
      "source": [
        "name = \"Bob\"\n",
        "age = 25\n",
        "info = \"Your name is {} and your age is {}.\".format(name, age)\n",
        "info"
      ]
    },
    {
      "cell_type": "markdown",
      "metadata": {},
      "source": [
        "We can also use positional or keyword arguments to specify which placeholder is replaced by which argument. Positional arguments are identified by the index of the argument, starting from zero. Keyword arguments are identified by the name of the argument, which must match the name of the placeholder. For example, we can create the same info string as before, by using positional or keyword arguments:"
      ]
    },
    {
      "cell_type": "code",
      "execution_count": 35,
      "metadata": {},
      "outputs": [
        {
          "data": {
            "text/plain": [
              "'Your name is Bob and your age is 25.'"
            ]
          },
          "execution_count": 35,
          "metadata": {},
          "output_type": "execute_result"
        }
      ],
      "source": [
        "info = \"Your name is {0} and your age is {1}.\".format(name, age) # positional arguments\n",
        "info = \"Your name is {name} and your age is {age}.\".format(name=name, age=age) # keyword arguments\n",
        "info"
      ]
    },
    {
      "cell_type": "markdown",
      "metadata": {},
      "source": [
        "We can also use formatting options to control how the placeholders are replaced by the arguments, such as alignment, width, precision, or type. Formatting options are specified after a colon : inside the placeholder, using a mini-language that defines the desired format. For example, we can create a string that displays the name and age of a user, with some formatting options:"
      ]
    },
    {
      "cell_type": "code",
      "execution_count": 36,
      "metadata": {},
      "outputs": [
        {
          "data": {
            "text/plain": [
              "'Your name is Bob        and your age is 25.00.'"
            ]
          },
          "execution_count": 36,
          "metadata": {},
          "output_type": "execute_result"
        }
      ],
      "source": [
        "info = \"Your name is {:<10} and your age is {:>5.2f}.\".format(name, age)\n",
        "info"
      ]
    },
    {
      "cell_type": "markdown",
      "metadata": {},
      "source": [
        "The formatting option <10 means that the placeholder is left-aligned and has a width of 10 characters. The formatting option >5.2f means that the placeholder is right-aligned and has a width of 5 characters, with 2 decimal places and a fixed-point notation. There are many other formatting options that we can use to customize the appearance of the placeholders, such as sign, padding, grouping, or conversion. You can find more information about these options in the Python documentation or by using the help function in Python."
      ]
    },
    {
      "cell_type": "markdown",
      "metadata": {},
      "source": [
        "## f-strings"
      ]
    },
    {
      "cell_type": "markdown",
      "metadata": {},
      "source": [
        "f-strings are a newer and simpler way of creating formatted strings in Python, introduced in version 3.6. f-strings are also called formatted string literals, because they are literal strings that are prefixed with the letter f or F, and can contain expressions or variables inside curly braces. For example, we can create the same greeting and info strings as before, by using f-strings:"
      ]
    },
    {
      "cell_type": "code",
      "execution_count": 37,
      "metadata": {},
      "outputs": [
        {
          "data": {
            "text/plain": [
              "'Hello, Bob!'"
            ]
          },
          "execution_count": 37,
          "metadata": {},
          "output_type": "execute_result"
        }
      ],
      "source": [
        "greeting = f\"Hello, {name}!\"\n",
        "greeting"
      ]
    },
    {
      "cell_type": "code",
      "execution_count": 38,
      "metadata": {},
      "outputs": [
        {
          "data": {
            "text/plain": [
              "'Your name is Bob and your age is 25.'"
            ]
          },
          "execution_count": 38,
          "metadata": {},
          "output_type": "execute_result"
        }
      ],
      "source": [
        "info = f\"Your name is {name} and your age is {age}.\"\n",
        "info"
      ]
    },
    {
      "cell_type": "markdown",
      "metadata": {},
      "source": [
        "We can also use formatting options inside the curly braces, just like in the format method. For example, we can create the same info string as before, with some formatting options, by using an f-string:"
      ]
    },
    {
      "cell_type": "code",
      "execution_count": 39,
      "metadata": {},
      "outputs": [
        {
          "data": {
            "text/plain": [
              "'Your name is Bob        and your age is 25.00.'"
            ]
          },
          "execution_count": 39,
          "metadata": {},
          "output_type": "execute_result"
        }
      ],
      "source": [
        "info = f\"Your name is {name:<10} and your age is {age:>5.2f}.\"\n",
        "info"
      ]
    },
    {
      "cell_type": "markdown",
      "metadata": {},
      "source": [
        "f-strings are faster and more readable than the format method, and can also support some features that the format method cannot, such as self-documenting expressions, multiline strings, or local variables. For example, we can create a string that displays the result of a calculation, with a self-documenting expression, by using an f-string:"
      ]
    },
    {
      "cell_type": "code",
      "execution_count": 40,
      "metadata": {},
      "outputs": [],
      "source": [
        "x = 10\n",
        "y = 20\n",
        "result = f\"The sum of {x} and {y} is {x + y}.\""
      ]
    },
    {
      "cell_type": "markdown",
      "metadata": {},
      "source": [
        "Here is a list of some of the formatting options that you can use inside the curly braces of an f-string:\n",
        "\n",
        "- `:>` or `:<` for right or left alignment\n",
        "- `:^` for center alignment\n",
        "- `:n` for width, where n is an integer\n",
        "- `:.n` for precision, where n is an integer\n",
        "- `:s`, `:d`, `:f`, `:e`, `:g`, `:b`, `:o`, `:x`, `:c` for type, where s is string, d is decimal, f is fixed-point, e is exponential, g is general, b is binary, o is octal, x is hexadecimal, and c is character\n",
        "- `:+`, `:-`, or `: ` for sign, where + is always show, - is only show for negative, and space is leave a space for positive\n",
        "- `:0`, `:_`, or `:,` for padding, where 0 is zero, _ is underscore, and , is comma\n",
        "- `:#` for alternate form, where # adds prefixes for binary, octal, and hexadecimal types"
      ]
    },
    {
      "cell_type": "markdown",
      "metadata": {},
      "source": [
        "## Use cases for string formatting"
      ]
    },
    {
      "cell_type": "markdown",
      "metadata": {},
      "source": [
        "String formatting is a very useful and powerful skill in Python, as it allows us to create dynamic and customized strings, by inserting variables, expressions, or values into a string, using placeholders and formatting options. Some of the use cases for string formatting are:"
      ]
    },
    {
      "cell_type": "markdown",
      "metadata": {},
      "source": [
        "- String formatting can be used to display and format data in a human-readable way, such as numbers, dates, or currencies. For example, we can use string formatting to display and format the price of a product, with a currency symbol, a comma separator, and two decimal places:"
      ]
    },
    {
      "cell_type": "code",
      "execution_count": 63,
      "metadata": {},
      "outputs": [
        {
          "data": {
            "text/plain": [
              "'The price of the product is $1,234.4.'"
            ]
          },
          "execution_count": 63,
          "metadata": {},
          "output_type": "execute_result"
        }
      ],
      "source": [
        "price = 1234.43\n",
        "formatted_price = f\"The price of the product is ${price:,.1f}.\"\n",
        "formatted_price"
      ]
    },
    {
      "cell_type": "markdown",
      "metadata": {},
      "source": [
        "- String formatting can be used to create and print messages, logs, or reports, that contain dynamic and relevant information, such as user input, errors, or results. For example, we can use string formatting to create and print a message that greets a user with their name and the current date:"
      ]
    },
    {
      "cell_type": "code",
      "execution_count": 64,
      "metadata": {},
      "outputs": [
        {
          "name": "stdout",
          "output_type": "stream",
          "text": [
            "Hello, milad! Today is Monday, December 18, 2023.\n"
          ]
        }
      ],
      "source": [
        "import datetime\n",
        "name = input(\"Enter your name: \")\n",
        "date = datetime.date.today()\n",
        "message = f\"Hello, {name}! Today is {date:%A, %B %d, %Y}.\"\n",
        "print(message)"
      ]
    },
    {
      "cell_type": "code",
      "execution_count": null,
      "metadata": {},
      "outputs": [],
      "source": []
    }
  ],
  "metadata": {
    "kernelspec": {
      "display_name": "Python 3",
      "language": "python",
      "name": "python3"
    },
    "language_info": {
      "codemirror_mode": {
        "name": "ipython",
        "version": 3
      },
      "file_extension": ".py",
      "mimetype": "text/x-python",
      "name": "python",
      "nbconvert_exporter": "python",
      "pygments_lexer": "ipython3",
      "version": "3.11.3"
    }
  },
  "nbformat": 4,
  "nbformat_minor": 2
}
