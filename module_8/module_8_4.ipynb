{
 "cells": [
  {
   "cell_type": "markdown",
   "id": "32676c4c",
   "metadata": {},
   "source": [
    "## Building a Simple API Client\n",
    "\n",
    "An API client is a program or a module that can interact with an API and perform various operations, such as sending requests, receiving responses, parsing data, and handling errors. To build a simple API client in Python, we can use the requests library, which we learned in the previous video, and create functions that can perform different tasks related to the API.\n",
    "\n",
    "For example, suppose we want to build an API client for the OpenWeather API, which is a free and open API that provides weather data for various locations. To use the OpenWeather API, we need to register and get an API key, which is a unique identifier that authenticates our requests. We also need to read the documentation of the API, which describes the endpoints, parameters, responses, and errors of the API.\n",
    "\n",
    "To create a function that can send a GET request to the OpenWeather API and get the current weather data for a given city, we can write:\n",
    "\n"
   ]
  },
  {
   "cell_type": "code",
   "execution_count": null,
   "id": "f3ee4a57",
   "metadata": {
    "language": "python"
   },
   "outputs": [],
   "source": [
    "# import the requests library\n",
    "import requests\n",
    "\n",
    "# define the API key\n",
    "api_key = 'your_api_key'\n",
    "\n",
    "# define the base URL of the API\n",
    "base_url = 'https://api.openweathermap.org/data/2.5/weather'\n",
    "\n",
    "# define a function that takes a city name as an argument and returns the weather data\n",
    "def get_weather(city):\n",
    "    # create a dictionary of parameters for the request\n",
    "    params = {'q': city, 'appid': api_key, 'units': 'metric'}\n",
    "    # send a GET request to the API endpoint with the parameters\n",
    "    response = requests.get(base_url, params=params)\n",
    "    # return the response object\n",
    "    return response\n"
   ]
  },
  {
   "cell_type": "markdown",
   "id": "67d6f760",
   "metadata": {},
   "source": [
    "\n",
    "\n",
    "To create a function that can parse the JSON data from the response object and extract the relevant information, such as the temperature, humidity, and wind speed, we can write:\n",
    "\n"
   ]
  },
  {
   "cell_type": "code",
   "execution_count": null,
   "id": "ea1f6d8a",
   "metadata": {
    "language": "python"
   },
   "outputs": [],
   "source": [
    "# import the json module\n",
    "import json\n",
    "\n",
    "# define a function that takes a response object as an argument and returns a dictionary of weather information\n",
    "def parse_weather(response):\n",
    "    # decode the JSON data from the response object\n",
    "    data = response.json()\n",
    "    # create an empty dictionary to store the weather information\n",
    "    weather = {}\n",
    "    # extract the temperature from the data and store it in the dictionary\n",
    "    weather['temperature'] = data['main']['temp']\n",
    "    # extract the humidity from the data and store it in the dictionary\n",
    "    weather['humidity'] = data['main']['humidity']\n",
    "    # extract the wind speed from the data and store it in the dictionary\n",
    "    weather['wind_speed'] = data['wind']['speed']\n",
    "    # return the dictionary of weather information\n",
    "    return weather\n"
   ]
  },
  {
   "cell_type": "markdown",
   "id": "6bf6215e",
   "metadata": {},
   "source": [
    "\n",
    "\n",
    "To create a function that can handle the errors that may occur during the API request, such as invalid parameters, network issues, or server errors, we can write:\n",
    "\n"
   ]
  },
  {
   "cell_type": "code",
   "execution_count": null,
   "id": "58828856",
   "metadata": {
    "language": "python"
   },
   "outputs": [],
   "source": [
    "# define a function that takes a response object as an argument and prints an error message if applicable\n",
    "def handle_errors(response):\n",
    "    # check the status code of the response object\n",
    "    status_code = response.status_code\n",
    "    # if the status code is not 200, which means OK, then print an error message\n",
    "    if status_code != 200:\n",
    "        # get the error message from the response object\n",
    "        error = response.json()['message']\n",
    "        # print the error message with the status code\n",
    "        print(f'Error {status_code}: {error}')\n"
   ]
  },
  {
   "cell_type": "markdown",
   "id": "aa97e824",
   "metadata": {},
   "source": [
    "\n",
    "\n",
    "To use the API client, we can call the functions that we defined with the appropriate arguments, and print the results. For example, to get and print the weather data for Paris, we can write:\n",
    "\n"
   ]
  },
  {
   "cell_type": "code",
   "execution_count": null,
   "id": "fcc84bad",
   "metadata": {
    "language": "python"
   },
   "outputs": [],
   "source": [
    "# call the get_weather function with the city name 'Paris'\n",
    "response = get_weather('Paris')\n",
    "# call the handle_errors function with the response object\n",
    "handle_errors(response)\n",
    "# call the parse_weather function with the response object\n",
    "weather = parse_weather(response)\n",
    "# print the weather data\n",
    "print(weather)\n"
   ]
  },
  {
   "cell_type": "markdown",
   "id": "d1de35c0",
   "metadata": {},
   "source": [
    "\n"
   ]
  }
 ],
 "metadata": {
  "language_info": {
   "name": "python"
  }
 },
 "nbformat": 4,
 "nbformat_minor": 5
}
