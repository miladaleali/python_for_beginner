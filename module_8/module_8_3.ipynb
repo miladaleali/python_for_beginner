{
 "cells": [
  {
   "cell_type": "markdown",
   "id": "4bf74167",
   "metadata": {},
   "source": [
    "## Parsing JSON Data\n",
    "\n",
    "JSON, or JavaScript Object Notation, is a lightweight and human-readable data format that is widely used for exchanging data between applications or services. JSON data consists of key-value pairs, where the keys are strings and the values can be strings, numbers, booleans, arrays, or objects. JSON data can be nested, meaning that an object can contain another object or an array as a value, and vice versa. JSON data can be represented as a string, a file, or a Python object.\n",
    "\n",
    "To work with JSON data in Python, we can use the json module, which is a built-in module that provides functions for encoding and decoding JSON data. To import the json module, we can write:\n",
    "\n"
   ]
  },
  {
   "cell_type": "code",
   "execution_count": null,
   "id": "2ae9ad91",
   "metadata": {
    "language": "python"
   },
   "outputs": [],
   "source": [
    "# import the json module\n",
    "import json\n"
   ]
  },
  {
   "cell_type": "markdown",
   "id": "ac3d5d01",
   "metadata": {},
   "source": [
    "\n",
    "\n",
    "To encode a Python object into a JSON string, we can use the json.dumps function, which takes a Python object as an argument and returns a JSON string. For example, to encode a Python dictionary into a JSON string, we can write:\n",
    "\n"
   ]
  },
  {
   "cell_type": "code",
   "execution_count": null,
   "id": "b9c935da",
   "metadata": {
    "language": "python"
   },
   "outputs": [],
   "source": [
    "# create a Python dictionary\n",
    "person = {\"name\": \"Alice\", \"age\": 20, \"hobbies\": [\"reading\", \"coding\", \"gaming\"]}\n",
    "# encode the dictionary into a JSON string\n",
    "json_string = json.dumps(person)\n",
    "# print the JSON string\n",
    "print(json_string)\n"
   ]
  },
  {
   "cell_type": "markdown",
   "id": "520862e5",
   "metadata": {},
   "source": [
    "\n",
    "\n",
    "This will print:\n",
    "\n",
    "{\"name\": \"Alice\", \"age\": 20, \"hobbies\": [\"reading\", \"coding\", \"gaming\"]}\n",
    "\n",
    "To decode a JSON string into a Python object, we can use the json.loads function, which takes a JSON string as an argument and returns a Python object. For example, to decode a JSON string into a Python dictionary, we can write:\n",
    "\n"
   ]
  },
  {
   "cell_type": "code",
   "execution_count": null,
   "id": "adfa82e2",
   "metadata": {
    "language": "python"
   },
   "outputs": [],
   "source": [
    "# create a JSON string\n",
    "json_string = '{\"name\": \"Alice\", \"age\": 20, \"hobbies\": [\"reading\", \"coding\", \"gaming\"]}'\n",
    "# decode the JSON string into a dictionary\n",
    "person = json.loads(json_string)\n",
    "# print the dictionary\n",
    "print(person)\n"
   ]
  },
  {
   "cell_type": "markdown",
   "id": "9bcd69d3",
   "metadata": {},
   "source": [
    "\n",
    "\n",
    "This will print:\n",
    "\n",
    "{'name': 'Alice', 'age': 20, 'hobbies': ['reading', 'coding', 'gaming']}\n",
    "\n",
    "To extract data from a JSON object, we can use the same syntax as we do for a Python dictionary or a list, depending on the type of the value. For example, to access the name and the hobbies of the person object, we can write:\n",
    "\n"
   ]
  },
  {
   "cell_type": "code",
   "execution_count": null,
   "id": "cdb7d5fe",
   "metadata": {
    "language": "python"
   },
   "outputs": [],
   "source": [
    "# access the name of the person object\n",
    "print(person['name'])\n",
    "# access the hobbies of the person object\n",
    "print(person['hobbies'])\n"
   ]
  }
 ],
 "metadata": {
  "language_info": {
   "name": "python"
  }
 },
 "nbformat": 4,
 "nbformat_minor": 5
}
