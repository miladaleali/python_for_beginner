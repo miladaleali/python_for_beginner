{
 "cells": [
  {
   "cell_type": "markdown",
   "id": "71a4aa4e",
   "metadata": {},
   "source": [
    "\n",
    "## Making API Requests with Python\n",
    "\n",
    "To make API requests with Python, we can use the requests library, which is a popular and easy-to-use library for sending and receiving HTTP requests. To install the requests library, we can use the pip command, which is a tool for managing Python packages. For example, to install the requests library, we can write:\n",
    "\n"
   ]
  },
  {
   "cell_type": "code",
   "execution_count": null,
   "id": "e7f4908f",
   "metadata": {
    "language": "python"
   },
   "outputs": [],
   "source": [
    "# install the requests library using pip\n",
    "!pip install requests\n"
   ]
  },
  {
   "cell_type": "markdown",
   "id": "5730f97f",
   "metadata": {},
   "source": [
    "\n",
    "\n",
    "To use the requests library, we need to import it in our Python code. For example, to import the requests library, we can write:\n",
    "\n"
   ]
  },
  {
   "cell_type": "code",
   "execution_count": null,
   "id": "5a2bed19",
   "metadata": {
    "language": "python"
   },
   "outputs": [],
   "source": [
    "# import the requests library\n",
    "import requests\n"
   ]
  },
  {
   "cell_type": "markdown",
   "id": "9169de51",
   "metadata": {},
   "source": [
    "\n",
    "\n",
    "To make an API request with the requests library, we can use one of its methods, such as get, post, put, or delete, depending on the HTTP method that the API requires. These methods take the URL of the API endpoint as the first argument, and optionally, other arguments, such as parameters, headers, data, or files, depending on the API specification. These methods return a response object, which contains the status code, headers, and content of the server's response. For example, to make a GET request to the weather API that we mentioned before, we can write:\n",
    "\n"
   ]
  },
  {
   "cell_type": "code",
   "execution_count": null,
   "id": "5d6ad2e2",
   "metadata": {
    "language": "python"
   },
   "outputs": [],
   "source": [
    "# make a GET request to the weather API\n",
    "response = requests.get('https://api.weather.com/v1/locations/Paris/observations')\n"
   ]
  },
  {
   "cell_type": "markdown",
   "id": "724d55cb",
   "metadata": {},
   "source": [
    "\n",
    "\n",
    "To handle the API response, we can use the attributes and methods of the response object. Some of the common attributes and methods are:\n",
    "\n",
    "- status_code: This returns the HTTP status code of the response, which indicates the success or failure of the request. For example, 200 means OK, 404 means Not Found, and 500 means Internal Server Error.\n",
    "- headers: This returns a dictionary of the response headers, which contain metadata about the response, such as the content type, length, and encoding.\n",
    "- content: This returns the raw content of the response as bytes, which can be useful for binary data, such as images or files.\n",
    "- text: This returns the content of the response as a string, which can be useful for text data, such as HTML or XML.\n",
    "- json: This returns the content of the response as a Python object, which can be useful for JSON data, which is a common format for API responses.\n",
    "\n",
    "For example, to print the status code, the content type, and the JSON data of the response, we can write:\n",
    "\n"
   ]
  },
  {
   "cell_type": "code",
   "execution_count": null,
   "id": "43ae80eb",
   "metadata": {
    "language": "python"
   },
   "outputs": [],
   "source": [
    "# print the status code of the response\n",
    "print(response.status_code)\n",
    "# print the content type of the response\n",
    "print(response.headers['Content-Type'])\n",
    "# print the JSON data of the response\n",
    "print(response.json())\n"
   ]
  },
  {
   "cell_type": "markdown",
   "id": "798f2d75",
   "metadata": {},
   "source": [
    "\n",
    "\n",
    "This will print:\n",
    "\n",
    "200\n",
    "application/json\n",
    "{'observations': [{'stationId': 'LFPG', 'obsTimeUtc': '2023-04-05T11:30:00Z', 'obsTimeLocal': '2023-04-05 13:30:00', 'tempC': 15, 'tempF': 59, 'humidity': 55, 'windSpeedKph': 17, 'windSpeedMph': 11, 'windDirCompass': 'SW', 'pressureMb': 1018, 'pressureIn': 30.06, 'uvIndex': 4, 'clouds': 'Few', 'weather': 'Sunny', 'iconCode': 32, 'iconName': 'sunny'}]}"
   ]
  }
 ],
 "metadata": {
  "language_info": {
   "name": "python"
  }
 },
 "nbformat": 4,
 "nbformat_minor": 5
}
