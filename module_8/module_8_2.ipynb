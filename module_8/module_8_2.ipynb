{
 "cells": [
  {
   "cell_type": "markdown",
   "id": "97d41cf1",
   "metadata": {},
   "source": [
    "Hello, this is Bing. I can help you with creating a script for a video that covers module 8.2: Making API Requests with Python. Here is a possible script:\n",
    "\n",
    "---\n",
    "\n",
    "Hello and welcome to this video on making API requests with Python. In this video, we will learn how to use the requests library to send and receive data from web servers using various HTTP methods, such as GET, POST, PUT, DELETE, and more. We will also learn how to handle the responses from the APIs and check their status codes, headers, and content.\n",
    "\n",
    "An API, or Application Programming Interface, is a set of rules and protocols that allows different software components to communicate and exchange data. A web API is a type of API that uses the HTTP protocol to transfer data over the internet. A web API can be accessed by sending an HTTP request to a specific URL, or endpoint, and receiving an HTTP response that contains the requested data, usually in a format such as JSON or XML.\n",
    "\n",
    "One of the most popular and easy-to-use libraries for making HTTP requests in Python is requests. You can install requests using pip, the Python package manager, by typing the following command in your terminal:\n",
    "\n"
   ]
  },
  {
   "cell_type": "code",
   "execution_count": null,
   "id": "badadbef",
   "metadata": {
    "language": "python"
   },
   "outputs": [],
   "source": [
    "pip install requests\n"
   ]
  },
  {
   "cell_type": "markdown",
   "id": "1c12e694",
   "metadata": {},
   "source": [
    "\n",
    "\n",
    "To use requests in your Python program, you need to import it at the top of your file:\n",
    "\n"
   ]
  },
  {
   "cell_type": "code",
   "execution_count": null,
   "id": "39518556",
   "metadata": {
    "language": "python"
   },
   "outputs": [],
   "source": [
    "import requests\n"
   ]
  },
  {
   "cell_type": "markdown",
   "id": "0462649f",
   "metadata": {},
   "source": [
    "\n",
    "\n",
    "The requests library provides several functions to make different types of HTTP requests, such as get, post, put, delete, and more. These functions take the URL of the API endpoint as the first argument, and optionally, some other parameters, such as headers, data, parameters, and more. These functions return a Response object, which contains information about the status and content of the response.\n",
    "\n",
    "For example, to make a GET request to the Star Wars API, which is a free and open API that provides data about the Star Wars universe, you can write:\n",
    "\n"
   ]
  },
  {
   "cell_type": "code",
   "execution_count": null,
   "id": "8d7db417",
   "metadata": {
    "language": "python"
   },
   "outputs": [],
   "source": [
    "response = requests.get(\"https://swapi.dev/api/people/1/\") # get data about Luke Skywalker\n"
   ]
  },
  {
   "cell_type": "markdown",
   "id": "f1f284c1",
   "metadata": {},
   "source": [
    "\n",
    "\n",
    "To check the status code of the response, which indicates whether the request was successful or not, you can use the status_code attribute of the Response object:\n",
    "\n"
   ]
  },
  {
   "cell_type": "code",
   "execution_count": null,
   "id": "868b3d4b",
   "metadata": {
    "language": "python"
   },
   "outputs": [],
   "source": [
    "response.status_code # returns 200, which means OK\n"
   ]
  },
  {
   "cell_type": "markdown",
   "id": "21c89720",
   "metadata": {},
   "source": [
    "\n",
    "\n",
    "To check the headers of the response, which contain metadata about the response, such as the content type, the date, the server, and more, you can use the headers attribute of the Response object:\n",
    "\n"
   ]
  },
  {
   "cell_type": "code",
   "execution_count": null,
   "id": "654f770b",
   "metadata": {
    "language": "python"
   },
   "outputs": [],
   "source": [
    "response.headers # returns a dictionary of headers\n"
   ]
  },
  {
   "cell_type": "markdown",
   "id": "513442b5",
   "metadata": {},
   "source": [
    "\n",
    "\n",
    "To access the content of the response, which is the actual data returned by the API, you can use the text or the content attributes of the Response object. The text attribute returns the content as a string, while the content attribute returns the content as bytes:\n",
    "\n"
   ]
  },
  {
   "cell_type": "code",
   "execution_count": null,
   "id": "b2c7edc8",
   "metadata": {
    "language": "python"
   },
   "outputs": [],
   "source": [
    "response.text # returns the content as a string\n",
    "response.content # returns the content as bytes\n"
   ]
  },
  {
   "cell_type": "markdown",
   "id": "2b2bf16a",
   "metadata": {},
   "source": [
    "\n",
    "\n",
    "However, since most web APIs return data in JSON format, which is a lightweight and human-readable data interchange format, you can use the json method of the Response object to parse the content as a Python dictionary:\n",
    "\n"
   ]
  },
  {
   "cell_type": "code",
   "execution_count": null,
   "id": "d59aa2f4",
   "metadata": {
    "language": "python"
   },
   "outputs": [],
   "source": [
    "response.json() # returns the content as a dictionary\n"
   ]
  },
  {
   "cell_type": "markdown",
   "id": "644b5552",
   "metadata": {},
   "source": [
    "\n",
    "\n",
    "This way, you can easily access and manipulate the data using the standard Python syntax for dictionaries and lists.\n",
    "\n",
    "For example, to print the name and the birth year of Luke Skywalker, you can write:\n",
    "\n"
   ]
  },
  {
   "cell_type": "code",
   "execution_count": null,
   "id": "7a8dc072",
   "metadata": {
    "language": "python"
   },
   "outputs": [],
   "source": [
    "data = response.json() # parse the content as a dictionary\n",
    "print(data[\"name\"]) # print the name\n",
    "print(data[\"birth_year\"]) # print the birth year\n"
   ]
  },
  {
   "cell_type": "markdown",
   "id": "81a4cc89",
   "metadata": {},
   "source": [
    "\n",
    "\n",
    "To make a POST request, which is used to create or update data on the server, you can use the post function of the requests library. The post function takes the URL of the API endpoint as the first argument, and optionally, some other parameters, such as headers, data, json, and more. The data parameter is used to pass the data that you want to send to the server, either as a dictionary or as a string. The json parameter is used to pass the data that you want to send to the server as a JSON object, which will be automatically encoded by the requests library.\n",
    "\n",
    "For example, to make a POST request to the JSONPlaceholder API, which is a fake and testing API that allows you to create and update fake data, you can write:\n",
    "\n"
   ]
  },
  {
   "cell_type": "code",
   "execution_count": null,
   "id": "06d1734c",
   "metadata": {
    "language": "python"
   },
   "outputs": [],
   "source": [
    "response = requests.post(\"https://jsonplaceholder.typicode.com/posts\", json={\"title\": \"Hello\", \"body\": \"World\", \"userId\": 1}) # create a new post\n"
   ]
  },
  {
   "cell_type": "markdown",
   "id": "c56d2b2b",
   "metadata": {},
   "source": [
    "\n",
    "\n",
    "To check the status code of the response, you can use the status_code attribute of the Response object:\n",
    "\n"
   ]
  },
  {
   "cell_type": "code",
   "execution_count": null,
   "id": "a99ecb9f",
   "metadata": {
    "language": "python"
   },
   "outputs": [],
   "source": [
    "response.status_code # returns 201, which means Created\n"
   ]
  },
  {
   "cell_type": "markdown",
   "id": "b7d192b4",
   "metadata": {},
   "source": [
    "\n",
    "\n",
    "To access the content of the response, which is the data that was created or updated on the server, you can use the json method of the Response object:\n",
    "\n"
   ]
  },
  {
   "cell_type": "code",
   "execution_count": null,
   "id": "95450565",
   "metadata": {
    "language": "python"
   },
   "outputs": [],
   "source": [
    "response.json() # returns the content as a dictionary\n"
   ]
  },
  {
   "cell_type": "markdown",
   "id": "fc5e9326",
   "metadata": {},
   "source": [
    "\n",
    "\n",
    "For example, to print the id and the title of the new post, you can write:\n",
    "\n"
   ]
  },
  {
   "cell_type": "code",
   "execution_count": null,
   "id": "d34ae8bc",
   "metadata": {
    "language": "python"
   },
   "outputs": [],
   "source": [
    "data = response.json() # parse the content as a dictionary\n",
    "print(data[\"id\"]) # print the id\n",
    "print(data[\"title\"]) # print the title\n"
   ]
  },
  {
   "cell_type": "markdown",
   "id": "884fa7e7",
   "metadata": {},
   "source": [
    "\n",
    "\n",
    "To make other types of HTTP requests, such as PUT, PATCH, DELETE, and more, you can use the corresponding functions of the requests library, such as put, patch, delete, and more. These functions take the same arguments as the post function, and return a Response object as well.\n",
    "\n",
    "For example, to make a PUT request to the JSONPlaceholder API, which is used to update the entire data of an existing resource on the server, you can write:\n",
    "\n"
   ]
  },
  {
   "cell_type": "code",
   "execution_count": null,
   "id": "cca4255d",
   "metadata": {
    "language": "python"
   },
   "outputs": [],
   "source": [
    "response = requests.put(\"https://jsonplaceholder.typicode.com/posts/1\", json={\"title\": \"Hello\", \"body\": \"World\", \"userId\": 1}) # update the post with id 1\n"
   ]
  },
  {
   "cell_type": "markdown",
   "id": "6166fc2b",
   "metadata": {},
   "source": [
    "\n",
    "\n",
    "To check the status code of the response, you can use the status_code attribute of the Response object:\n",
    "\n"
   ]
  },
  {
   "cell_type": "code",
   "execution_count": null,
   "id": "fe810219",
   "metadata": {
    "language": "python"
   },
   "outputs": [],
   "source": [
    "response.status_code # returns 200, which means OK\n"
   ]
  },
  {
   "cell_type": "markdown",
   "id": "a0e7c6d3",
   "metadata": {},
   "source": [
    "\n",
    "\n",
    "To access the content of the response, which is the data that was updated on the server, you can use the json method of the Response object:\n",
    "\n"
   ]
  },
  {
   "cell_type": "code",
   "execution_count": null,
   "id": "df696460",
   "metadata": {
    "language": "python"
   },
   "outputs": [],
   "source": [
    "response.json() # returns the content as a dictionary\n"
   ]
  },
  {
   "cell_type": "markdown",
   "id": "fd755448",
   "metadata": {},
   "source": [
    "\n",
    "\n",
    "For example, to print the id and the title of the updated post, you can write:\n",
    "\n"
   ]
  },
  {
   "cell_type": "code",
   "execution_count": null,
   "id": "4acaf4ad",
   "metadata": {
    "language": "python"
   },
   "outputs": [],
   "source": [
    "data = response.json() # parse the content as a dictionary\n",
    "print(data[\"id\"]) # print the id\n",
    "print(data[\"title\"]) # print the title\n"
   ]
  },
  {
   "cell_type": "markdown",
   "id": "a34cd42b",
   "metadata": {},
   "source": [
    "\n",
    "\n",
    "To make a DELETE request to the JSONPlaceholder API, which is used to delete an existing resource on the server, you can write:\n",
    "\n"
   ]
  },
  {
   "cell_type": "code",
   "execution_count": null,
   "id": "6240c2d0",
   "metadata": {
    "language": "python"
   },
   "outputs": [],
   "source": [
    "response = requests.delete(\"https://jsonplaceholder.typicode.com/posts/1\") # delete the post with id 1\n"
   ]
  },
  {
   "cell_type": "markdown",
   "id": "47b9d435",
   "metadata": {},
   "source": [
    "\n",
    "\n",
    "To check the status code of the response, you can use the status_code attribute of the Response object:\n",
    "\n"
   ]
  },
  {
   "cell_type": "code",
   "execution_count": null,
   "id": "24d5a70e",
   "metadata": {
    "language": "python"
   },
   "outputs": [],
   "source": [
    "response.status_code # returns 200, which means OK\n"
   ]
  },
  {
   "cell_type": "markdown",
   "id": "e8a910d4",
   "metadata": {},
   "source": [
    "\n",
    "\n",
    "To access the content of the response, which is usually empty for a DELETE request, you can use the text or the content attributes of the Response object:\n",
    "\n"
   ]
  },
  {
   "cell_type": "code",
   "execution_count": null,
   "id": "2fc166ad",
   "metadata": {
    "language": "python"
   },
   "outputs": [],
   "source": [
    "response.text # returns an empty string\n",
    "response.content # returns an empty bytes object\n"
   ]
  },
  {
   "cell_type": "markdown",
   "id": "6ef6e8b1",
   "metadata": {},
   "source": [
    "\n",
    "\n",
    "In this video, we learned how to use the requests library to make various types of HTTP requests to web APIs, and how to handle the responses from the APIs. In the next video, we will learn how to parse JSON data and extract information from API responses. Thank you for watching and see you in the next video."
   ]
  }
 ],
 "metadata": {},
 "nbformat": 4,
 "nbformat_minor": 5
}
