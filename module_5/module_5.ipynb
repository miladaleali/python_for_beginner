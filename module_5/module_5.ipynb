{
 "cells": [
  {
   "cell_type": "markdown",
   "id": "8f67145c",
   "metadata": {},
   "source": [
    "Hello and welcome to this video on file handling in Python. In this video, we will learn how to read from and write to files, and how to work with different file formats.\n",
    "\n",
    "## Reading from and Writing to Files\n",
    "\n",
    "One of the most common tasks in programming is to manipulate data stored in files. Files are collections of data that are stored in a permanent or secondary memory, such as a hard disk, a flash drive, or a CD-ROM. Files can contain text, images, audio, video, or any other type of data.\n",
    "\n",
    "To work with files in Python, we need to use the open() function, which takes the name of the file and the mode of operation as arguments, and returns a file object. The mode of operation specifies how we want to access the file, such as reading, writing, appending, or updating. Some of the common modes are:\n",
    "\n",
    "- 'r' for reading\n",
    "- 'w' for writing\n",
    "- 'a' for appending\n",
    "- 'r+' for reading and writing\n",
    "- 'w+' for writing and reading\n",
    "- 'a+' for appending and reading\n",
    "\n",
    "For example, to open a file called data.txt for reading, we can write:\n",
    "\n"
   ]
  },
  {
   "cell_type": "code",
   "execution_count": null,
   "id": "d945316a",
   "metadata": {
    "language": "python"
   },
   "outputs": [],
   "source": [
    "file = open('data.txt', 'r')\n"
   ]
  },
  {
   "cell_type": "markdown",
   "id": "f40d25d1",
   "metadata": {},
   "source": [
    "\n",
    "\n",
    "To close a file, we need to use the close() method of the file object. This will free up the resources used by the file and prevent any errors or data loss. For example, to close the file we opened above, we can write:\n",
    "\n"
   ]
  },
  {
   "cell_type": "code",
   "execution_count": null,
   "id": "24b49ccb",
   "metadata": {
    "language": "python"
   },
   "outputs": [],
   "source": [
    "file.close()\n"
   ]
  },
  {
   "cell_type": "markdown",
   "id": "0b414949",
   "metadata": {},
   "source": [
    "\n",
    "\n",
    "To read data from a file, we can use various methods of the file object, such as:\n",
    "\n",
    "- read() to read the entire content of the file as a single string\n",
    "- readline() to read one line of the file as a string\n",
    "- readlines() to read all the lines of the file as a list of strings\n",
    "\n",
    "For example, to read the first line of the file data.txt, we can write:\n",
    "\n"
   ]
  },
  {
   "cell_type": "code",
   "execution_count": null,
   "id": "44da79d9",
   "metadata": {
    "language": "python"
   },
   "outputs": [],
   "source": [
    "file = open('data.txt', 'r')\n",
    "line = file.readline()\n",
    "print(line)\n",
    "file.close()\n"
   ]
  },
  {
   "cell_type": "markdown",
   "id": "0399e1a0",
   "metadata": {},
   "source": [
    "\n",
    "\n",
    "To write data to a file, we can use the write() or writelines() methods of the file object. The write() method takes a string as an argument and writes it to the file. The writelines() method takes a list of strings as an argument and writes them to the file as separate lines. For example, to write the string 'Hello, world!' to a file called output.txt, we can write:\n",
    "\n"
   ]
  },
  {
   "cell_type": "code",
   "execution_count": null,
   "id": "c708002f",
   "metadata": {
    "language": "python"
   },
   "outputs": [],
   "source": [
    "file = open('output.txt', 'w')\n",
    "file.write('Hello, world!')\n",
    "file.close()\n"
   ]
  },
  {
   "cell_type": "markdown",
   "id": "98cd674b",
   "metadata": {},
   "source": [
    "\n",
    "\n",
    "## Working with Different File Formats\n",
    "\n",
    "Files can have different formats, depending on the type and structure of the data they contain. Some of the common file formats are:\n",
    "\n",
    "- Text files: These are files that contain plain text, without any formatting or special characters. They usually have a .txt extension. Text files are easy to read and write, but they may not be suitable for complex or structured data.\n",
    "- CSV files: These are files that contain comma-separated values, which are rows of data separated by commas. They usually have a .csv extension. CSV files are useful for storing tabular data, such as spreadsheets or databases. They can be easily imported and exported by various applications, such as Excel or Google Sheets.\n",
    "- JSON files: These are files that contain JavaScript Object Notation, which is a standard format for exchanging data between applications. They usually have a .json extension. JSON files are useful for storing hierarchical or nested data, such as dictionaries or lists. They can be easily parsed and manipulated by various programming languages, such as Python or JavaScript.\n",
    "\n",
    "To work with different file formats in Python, we need to use different modules or libraries that provide the functionality to read and write those formats. For example, to work with CSV files, we can use the csv module, which provides various functions and classes to handle CSV data. For example, to read a CSV file called students.csv, which contains the names and grades of some students, we can write:\n",
    "\n"
   ]
  },
  {
   "cell_type": "code",
   "execution_count": null,
   "id": "5d21ba0e",
   "metadata": {
    "language": "python"
   },
   "outputs": [],
   "source": [
    "import csv\n",
    "file = open('students.csv', 'r')\n",
    "reader = csv.reader(file)\n",
    "for row in reader:\n",
    "    print(row)\n",
    "file.close()\n"
   ]
  },
  {
   "cell_type": "markdown",
   "id": "07afaa6e",
   "metadata": {},
   "source": [
    "\n",
    "\n",
    "This will print each row of the CSV file as a list of strings, such as:\n",
    "\n",
    "['Alice', '90']\n",
    "['Bob', '80']\n",
    "['Charlie', '70']\n",
    "\n",
    "To write a CSV file, we can use the csv.writer() function, which takes a file object as an argument and returns a writer object. We can then use the writerow() or writerows() methods of the writer object to write rows of data to the file. For example, to write a CSV file called teachers.csv, which contains the names and subjects of some teachers, we can write:\n",
    "\n"
   ]
  },
  {
   "cell_type": "code",
   "execution_count": null,
   "id": "6bed1841",
   "metadata": {
    "language": "python"
   },
   "outputs": [],
   "source": [
    "import csv\n",
    "file = open('teachers.csv', 'w')\n",
    "writer = csv.writer(file)\n",
    "writer.writerow(['Name', 'Subject'])\n",
    "writer.writerow(['David', 'Math'])\n",
    "writer.writerow(['Eve', 'English'])\n",
    "writer.writerow(['Frank', 'Science'])\n",
    "file.close()\n"
   ]
  },
  {
   "cell_type": "markdown",
   "id": "350c819a",
   "metadata": {},
   "source": [
    "\n",
    "\n",
    "This will create a CSV file with the following content:\n",
    "\n",
    "Name,Subject\n",
    "David,Math\n",
    "Eve,English\n",
    "Frank,Science\n",
    "\n",
    "---\n",
    "\n",
    "That's all for this video on file handling in Python. I hope you learned something useful and enjoyed watching. Thank you for your attention and see you in the next video. Bye!"
   ]
  }
 ],
 "metadata": {},
 "nbformat": 4,
 "nbformat_minor": 5
}
