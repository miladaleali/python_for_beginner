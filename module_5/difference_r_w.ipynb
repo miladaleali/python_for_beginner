{
 "cells": [
  {
   "cell_type": "markdown",
   "id": "9d2d9322",
   "metadata": {},
   "source": [
    " **Here's a breakdown of the differences between 'r+' and 'w+' in Python's file opening modes:**\n",
    "\n",
    "**'r+' (read and write):**\n",
    "\n",
    "- **Opens an existing file for both reading and writing.**\n",
    "- **File pointer starts at the beginning of the file.**\n",
    "- **Does not create a new file if it doesn't exist.**\n",
    "- **Does not truncate (erase) the existing content of the file.**\n",
    "\n",
    "**'w+' (write and read):**\n",
    "\n",
    "- **Opens a file for both reading and writing.**\n",
    "- **Creates a new file if it doesn't exist, otherwise truncates (erases) the existing content.**\n",
    "- **File pointer starts at the beginning of the file.**\n",
    "\n",
    "**Key Differences:**\n",
    "\n",
    "| Feature          | 'r+'                       | 'w+'                       |\n",
    "|------------------|----------------------|---------------------------|\n",
    "| Opening behavior | Opens existing file only | Opens or creates new file |\n",
    "| Truncation       | No truncation            | Truncates existing content |\n",
    "| File pointer     | Starts at beginning       | Starts at beginning       |\n",
    "| Error on missing file | Raises FileNotFoundError | Creates a new file        |\n",
    "\n",
    "**When to Use Each:**\n",
    "\n",
    "- Use **'r+'** when you need to **modify an existing file** without erasing its contents.\n",
    "- Use **'w+'** when you want to **start with a fresh file**, either creating a new one or overwriting an existing one.\n"
   ]
  }
 ],
 "metadata": {},
 "nbformat": 4,
 "nbformat_minor": 5
}
