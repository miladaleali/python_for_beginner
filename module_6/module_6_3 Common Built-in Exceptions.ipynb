{
 "cells": [
  {
   "cell_type": "markdown",
   "id": "d6e0c47d",
   "metadata": {},
   "source": [
    "## Handling Specific Exceptions\n",
    "\n",
    "Sometimes, we may want to handle different types of exceptions differently, or perform different actions based on the exception that occurs. To do this, we can use multiple except blocks, each with a specific exception type, after the try block. For example, to handle the ZeroDivisionError and ValueError exceptions separately, we can write:\n",
    "\n"
   ]
  },
  {
   "cell_type": "code",
   "execution_count": null,
   "id": "2e1d989f",
   "metadata": {
    "language": "python"
   },
   "outputs": [],
   "source": [
    "try:\n",
    "    # Try to convert a user input to a number and divide 10 by it\n",
    "    num = int(input(\"Enter a number: \"))\n",
    "    result = 10 / num\n",
    "except ZeroDivisionError:\n",
    "    # Print an error message for dividing by zero\n",
    "    print(\"You cannot divide by zero!\")\n",
    "except ValueError:\n",
    "    # Print an error message for invalid input\n",
    "    print(\"You must enter a valid number!\")\n",
    "else:\n",
    "    # Print the result if no exception occurs\n",
    "    print(\"The result is\", result)\n"
   ]
  },
  {
   "cell_type": "markdown",
   "id": "2b380add",
   "metadata": {},
   "source": [
    "\n",
    "\n",
    "The except blocks will catch the specific exceptions that match their type, and execute the corresponding code. If the exception does not match any of the except blocks, it will propagate to the outer scope or terminate the program.\n",
    "\n",
    "We can also use the as keyword to assign a name to the exception object, which we can use to access its attributes or methods. For example, to print the error message of the exception, we can write:\n",
    "\n"
   ]
  },
  {
   "cell_type": "code",
   "execution_count": null,
   "id": "4229108d",
   "metadata": {
    "language": "python"
   },
   "outputs": [],
   "source": [
    "try:\n",
    "    # Try to convert a user input to a number and divide 10 by it\n",
    "    num = int(input(\"Enter a number: \"))\n",
    "    result = 10 / num\n",
    "except ZeroDivisionError as e:\n",
    "    # Print the error message of the exception\n",
    "    print(e)\n",
    "except ValueError as e:\n",
    "    # Print the error message of the exception\n",
    "    print(e)\n",
    "else:\n",
    "    # Print the result if no exception occurs\n",
    "    print(\"The result is\", result)\n"
   ]
  },
  {
   "cell_type": "markdown",
   "id": "86be211b",
   "metadata": {},
   "source": [
    "\n",
    "\n",
    "The exception object has a __str__ method that returns a human-readable error message, which we can print using the print function.\n",
    "\n",
    "## Custom Exception Classes\n",
    "\n",
    "Sometimes, we may want to create our own exceptions to handle specific situations that are not covered by the built-in exceptions, or to provide more information or functionality to the exception. To do this, we can create custom exception classes that inherit from the Exception class or one of its subclasses. For example, to create a custom exception class called NegativeNumberError, which is raised when a negative number is encountered, we can write:\n",
    "\n"
   ]
  },
  {
   "cell_type": "code",
   "execution_count": null,
   "id": "4c2c5fbc",
   "metadata": {
    "language": "python"
   },
   "outputs": [],
   "source": [
    "# Define a custom exception class that inherits from ValueError\n",
    "class NegativeNumberError(ValueError):\n",
    "    # Define a constructor that takes a message as an argument\n",
    "    def __init__(self, message):\n",
    "        # Call the constructor of the superclass with the message\n",
    "        super().__init__(message)\n"
   ]
  },
  {
   "cell_type": "markdown",
   "id": "0c04c64a",
   "metadata": {},
   "source": [
    "\n",
    "\n",
    "To raise a custom exception, we can use the raise keyword, followed by the name of the exception class and an optional message. For example, to raise a NegativeNumberError exception with a message, we can write:\n",
    "\n"
   ]
  },
  {
   "cell_type": "code",
   "execution_count": null,
   "id": "0f65b97f",
   "metadata": {
    "language": "python"
   },
   "outputs": [],
   "source": [
    "# Raise a custom exception with a message\n",
    "raise NegativeNumberError(\"Negative numbers are not allowed!\")\n"
   ]
  },
  {
   "cell_type": "markdown",
   "id": "b5575822",
   "metadata": {},
   "source": [
    "\n",
    "\n",
    "To handle a custom exception, we can use the same try and except blocks as we do for the built-in exceptions. For example, to handle the NegativeNumberError exception, we can write:\n",
    "\n"
   ]
  },
  {
   "cell_type": "code",
   "execution_count": null,
   "id": "92e4fd7a",
   "metadata": {
    "language": "python"
   },
   "outputs": [],
   "source": [
    "try:\n",
    "    # Try to convert a user input to a number and check if it is negative\n",
    "    num = int(input(\"Enter a positive number: \"))\n",
    "    if num < 0:\n",
    "        # Raise a custom exception with a message\n",
    "        raise NegativeNumberError(\"Negative numbers are not allowed!\")\n",
    "except NegativeNumberError as e:\n",
    "    # Print the error message of the exception\n",
    "    print(e)\n",
    "else:\n",
    "    # Print the number if no exception occurs\n",
    "    print(\"The number is\", num)\n"
   ]
  },
  {
   "cell_type": "markdown",
   "id": "c810a441",
   "metadata": {},
   "source": [
    "\n",
    "\n",
    "## Best Practices in Exception Handling\n",
    "\n",
    "When dealing with exceptions in Python, there are some best practices or guidelines that we should follow to write robust and maintainable code. Some of them are:\n",
    "\n",
    "- Use descriptive and meaningful names for custom exception classes, and document their purpose and usage.\n",
    "- Use specific and appropriate exception types, and avoid using generic or broad exceptions that may hide other errors or bugs.\n",
    "- Use the try and except blocks to handle expected or unavoidable exceptions, and not to control the normal flow of the program or to ignore errors.\n",
    "- Use the else block to perform actions that depend on the successful execution of the try block, and not to repeat code that could be in the try block.\n",
    "- Use the finally block to perform actions that must be done regardless of the outcome of the try block, such as cleaning up resources, releasing locks, or closing files.\n",
    "- Use the raise keyword to raise exceptions when necessary, and provide informative and helpful messages to the user or the developer.\n",
    "- Use the as keyword to assign a name to the exception object, and use its attributes or methods to access more information or functionality.\n"
   ]
  }
 ],
 "metadata": {},
 "nbformat": 4,
 "nbformat_minor": 5
}
