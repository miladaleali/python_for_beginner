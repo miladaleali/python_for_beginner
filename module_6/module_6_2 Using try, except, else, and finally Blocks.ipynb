{
 "cells": [
  {
   "cell_type": "markdown",
   "id": "26778fcd",
   "metadata": {},
   "source": [
    "## Basic Exception Handling\n",
    "\n",
    "To handle exceptions in Python, we can use the try and except blocks. The try block contains the code that may raise an exception, and the except block contains the code that will execute if an exception occurs. For example, to handle the ZeroDivisionError exception, we can write:\n",
    "\n"
   ]
  },
  {
   "cell_type": "code",
   "execution_count": null,
   "id": "04dcbdd5",
   "metadata": {
    "language": "python"
   },
   "outputs": [],
   "source": [
    "try:\n",
    "    # Try to divide a number by zero\n",
    "    result = 10 / 0\n",
    "except ZeroDivisionError:\n",
    "    # Print an error message\n",
    "    print(\"You cannot divide by zero!\")\n"
   ]
  },
  {
   "cell_type": "markdown",
   "id": "4eae641b",
   "metadata": {},
   "source": [
    "\n",
    "\n",
    "The try block will attempt to execute the code that divides a number by zero, but since this is an invalid operation, it will raise a ZeroDivisionError exception. The except block will catch this exception and print an error message instead of terminating the program.\n",
    "\n",
    "We can also use a generic except block without specifying the exception type, which will catch any exception that occurs. However, this is not recommended, as it may hide other errors or bugs that we are not aware of. For example, to handle any exception, we can write:\n",
    "\n"
   ]
  },
  {
   "cell_type": "code",
   "execution_count": null,
   "id": "52d9ec4c",
   "metadata": {
    "language": "python"
   },
   "outputs": [],
   "source": [
    "try:\n",
    "    # Try to divide a number by zero\n",
    "    result = 10 / 0\n",
    "except:\n",
    "    # Print a generic error message\n",
    "    print(\"Something went wrong!\")\n"
   ]
  },
  {
   "cell_type": "markdown",
   "id": "1dac9fd8",
   "metadata": {},
   "source": [
    "\n",
    "\n",
    "The except block will catch any exception that occurs, but it will not tell us what the exact problem is. This may make it harder to debug or fix the code.\n",
    "\n",
    "## Adding an else block\n",
    "\n",
    "We can also add an else block after the try and except blocks, which will execute if no exception occurs. The else block is useful for performing actions that depend on the successful execution of the try block, such as printing the result or closing a file. For example, to print the result of a division only if no exception occurs, we can write:\n",
    "\n"
   ]
  },
  {
   "cell_type": "code",
   "execution_count": null,
   "id": "c6f518e5",
   "metadata": {
    "language": "python"
   },
   "outputs": [],
   "source": [
    "try:\n",
    "    # Try to divide two numbers\n",
    "    result = 10 / 2\n",
    "except ZeroDivisionError:\n",
    "    # Print an error message\n",
    "    print(\"You cannot divide by zero!\")\n",
    "else:\n",
    "    # Print the result\n",
    "    print(\"The result is\", result)\n"
   ]
  },
  {
   "cell_type": "markdown",
   "id": "a3305397",
   "metadata": {},
   "source": [
    "\n",
    "\n",
    "The else block will print the result only if the try block does not raise a ZeroDivisionError exception. If the try block raises any other exception, the else block will not execute.\n",
    "\n",
    "## The finally block and its use cases\n",
    "\n",
    "We can also add a finally block after the try, except, and else blocks, which will execute no matter what, whether an exception occurs or not. The finally block is useful for performing actions that must be done regardless of the outcome of the try block, such as cleaning up resources, releasing locks, or closing files. For example, to close a file after reading or writing to it, we can write:\n",
    "\n"
   ]
  },
  {
   "cell_type": "code",
   "execution_count": null,
   "id": "6759e627",
   "metadata": {
    "language": "python"
   },
   "outputs": [],
   "source": [
    "try:\n",
    "    # Open a file for writing\n",
    "    file = open('output.txt', 'w')\n",
    "    # Write some data to the file\n",
    "    file.write('Hello, world!')\n",
    "except IOError:\n",
    "    # Print an error message\n",
    "    print(\"Could not write to the file!\")\n",
    "else:\n",
    "    # Print a success message\n",
    "    print(\"Data written to the file!\")\n",
    "finally:\n",
    "    # Close the file\n",
    "    file.close()\n"
   ]
  },
  {
   "cell_type": "markdown",
   "id": "d67fb6c1",
   "metadata": {},
   "source": [
    "\n",
    "\n",
    "The finally block will close the file no matter what, whether the try block raises an IOError exception, or the else block prints a success message, or any other exception occurs.\n"
   ]
  }
 ],
 "metadata": {},
 "nbformat": 4,
 "nbformat_minor": 5
}
